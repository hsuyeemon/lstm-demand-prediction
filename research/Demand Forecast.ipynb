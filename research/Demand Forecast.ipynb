{
 "cells": [
  {
   "cell_type": "markdown",
   "metadata": {
    "colab_type": "text",
    "id": "0ckQTagirtYY"
   },
   "source": [
    "Demand Predict"
   ]
  },
  {
   "cell_type": "markdown",
   "metadata": {
    "colab_type": "text",
    "id": "NOVyOvjysKBz"
   },
   "source": [
    "Basic Data Preparation"
   ]
  },
  {
   "cell_type": "code",
   "execution_count": 1,
   "metadata": {
    "colab": {},
    "colab_type": "code",
    "id": "As3kivKdpg3V"
   },
   "outputs": [],
   "source": [
    "from pandas import read_csv\n",
    "from datetime import datetime\n",
    "from keras.models import Sequential\n",
    "from keras.layers import Dense\n",
    "from keras.layers import LSTM"
   ]
  },
  {
   "cell_type": "code",
   "execution_count": 9,
   "metadata": {
    "colab": {},
    "colab_type": "code",
    "id": "ONRbR5QQrRli"
   },
   "outputs": [],
   "source": [
    "dataset = read_csv('~/work/DemandPrediction/2016demand2017.csv')"
   ]
  },
  {
   "cell_type": "code",
   "execution_count": 10,
   "metadata": {
    "colab": {},
    "colab_type": "code",
    "id": "xgmTHATAsa2q"
   },
   "outputs": [
    {
     "data": {
      "text/html": [
       "<div>\n",
       "<style scoped>\n",
       "    .dataframe tbody tr th:only-of-type {\n",
       "        vertical-align: middle;\n",
       "    }\n",
       "\n",
       "    .dataframe tbody tr th {\n",
       "        vertical-align: top;\n",
       "    }\n",
       "\n",
       "    .dataframe thead th {\n",
       "        text-align: right;\n",
       "    }\n",
       "</style>\n",
       "<table border=\"1\" class=\"dataframe\">\n",
       "  <thead>\n",
       "    <tr style=\"text-align: right;\">\n",
       "      <th></th>\n",
       "      <th>date</th>\n",
       "      <th>quantity</th>\n",
       "    </tr>\n",
       "    <tr>\n",
       "      <th>date</th>\n",
       "      <th></th>\n",
       "      <th></th>\n",
       "    </tr>\n",
       "  </thead>\n",
       "  <tbody>\n",
       "    <tr>\n",
       "      <th>0</th>\n",
       "      <td>2016-01-01</td>\n",
       "      <td>3</td>\n",
       "    </tr>\n",
       "    <tr>\n",
       "      <th>1</th>\n",
       "      <td>2016-01-02</td>\n",
       "      <td>2</td>\n",
       "    </tr>\n",
       "    <tr>\n",
       "      <th>2</th>\n",
       "      <td>2016-01-03</td>\n",
       "      <td>0</td>\n",
       "    </tr>\n",
       "    <tr>\n",
       "      <th>3</th>\n",
       "      <td>2016-01-04</td>\n",
       "      <td>2</td>\n",
       "    </tr>\n",
       "    <tr>\n",
       "      <th>4</th>\n",
       "      <td>2016-01-05</td>\n",
       "      <td>0</td>\n",
       "    </tr>\n",
       "  </tbody>\n",
       "</table>\n",
       "</div>"
      ],
      "text/plain": [
       "            date  quantity\n",
       "date                      \n",
       "0     2016-01-01         3\n",
       "1     2016-01-02         2\n",
       "2     2016-01-03         0\n",
       "3     2016-01-04         2\n",
       "4     2016-01-05         0"
      ]
     },
     "execution_count": 10,
     "metadata": {},
     "output_type": "execute_result"
    }
   ],
   "source": [
    "# manually specify column names\n",
    "dataset.columns = ['date', 'quantity']\n",
    "dataset.index.name = 'date'\n",
    "dataset.head(5)"
   ]
  },
  {
   "cell_type": "code",
   "execution_count": 11,
   "metadata": {
    "colab": {},
    "colab_type": "code",
    "id": "LsVBKSNLtvVE"
   },
   "outputs": [],
   "source": [
    "from matplotlib import pyplot\n",
    "# load dataset\n",
    "#dataset = read_csv('pollution.csv', header=0, index_col=0)\n",
    "values = dataset.values"
   ]
  },
  {
   "cell_type": "code",
   "execution_count": 12,
   "metadata": {
    "colab": {
     "base_uri": "https://localhost:8080/",
     "height": 268
    },
    "colab_type": "code",
    "id": "nvNWMCXjt6ME",
    "outputId": "28f35e4c-3527-4b01-f637-c06c92ad9c4d"
   },
   "outputs": [
    {
     "data": {
      "image/png": "[encoded data removed]",
      "text/plain": [
       "<Figure size 432x288 with 1 Axes>"
      ]
     },
     "metadata": {
      "needs_background": "light"
     },
     "output_type": "display_data"
    }
   ],
   "source": [
    "\n",
    "# plot each column\n",
    "pyplot.figure()\n",
    "pyplot.plot(values[:, 1])\n",
    "pyplot.title(dataset.columns[1], y=0.5, loc='right')\n",
    "pyplot.show()"
   ]
  },
  {
   "cell_type": "markdown",
   "metadata": {
    "colab_type": "text",
    "id": "qU8AWyctuNsO"
   },
   "source": [
    "Multivariate LSTM Forecast Model"
   ]
  },
  {
   "cell_type": "markdown",
   "metadata": {
    "colab_type": "text",
    "id": "nbn0oGwx-Q5l"
   },
   "source": [
    "LSTM Data Preparation:<br>\n",
    "***framing the dataset as a supervised learning problem and normalizing the input variables.***"
   ]
  },
  {
   "cell_type": "code",
   "execution_count": 13,
   "metadata": {
    "colab": {},
    "colab_type": "code",
    "id": "ZzDa6PYht9BU"
   },
   "outputs": [],
   "source": [
    "from pandas import DataFrame\n",
    "from pandas import concat\n",
    "from sklearn.preprocessing import LabelEncoder\n",
    "from sklearn.preprocessing import MinMaxScaler"
   ]
  },
  {
   "cell_type": "code",
   "execution_count": 14,
   "metadata": {
    "colab": {},
    "colab_type": "code",
    "id": "_YYeYZoO_1Cu"
   },
   "outputs": [],
   "source": [
    "# convert series to supervised learning\n",
    "def series_to_supervised(data, n_in=1, n_out=1, dropnan=True):\n",
    "\tn_vars = 1 if type(data) is list else data.shape[1]\n",
    "\tdf = DataFrame(data)\n",
    "\tcols, names = list(), list()\n",
    "\t# input sequence (t-n, ... t-1)\n",
    "\tfor i in range(n_in, 0, -1):\n",
    "\t\tcols.append(df.shift(i))\n",
    "\t\tnames += [('var%d(t-%d)' % (j+1, i)) for j in range(n_vars)]\n",
    "\t# forecast sequence (t, t+1, ... t+n)\n",
    "\tfor i in range(0, n_out):\n",
    "\t\tcols.append(df.shift(-i))\n",
    "\t\tif i == 0:\n",
    "\t\t\tnames += [('var%d(t)' % (j+1)) for j in range(n_vars)]\n",
    "\t\telse:\n",
    "\t\t\tnames += [('var%d(t+%d)' % (j+1, i)) for j in range(n_vars)]\n",
    "\t# put it all together\n",
    "\tagg = concat(cols, axis=1)\n",
    "\tagg.columns = names\n",
    "\t# drop rows with NaN values\n",
    "\tif dropnan:\n",
    "\t\tagg.dropna(inplace=True)\n",
    "\treturn agg\n",
    " "
   ]
  },
  {
   "cell_type": "code",
   "execution_count": 15,
   "metadata": {
    "colab": {},
    "colab_type": "code",
    "id": "mMdWKca8LlBE"
   },
   "outputs": [],
   "source": [
    "# integer encode direction\n",
    "encoder = LabelEncoder()\n",
    "values[:,0] = encoder.fit_transform(values[:,0])"
   ]
  },
  {
   "cell_type": "code",
   "execution_count": 16,
   "metadata": {
    "colab": {
     "base_uri": "https://localhost:8080/",
     "height": 140
    },
    "colab_type": "code",
    "id": "aJwr7hKsL0-_",
    "outputId": "6c321a13-f00d-4231-fb93-1b99eff6987d"
   },
   "outputs": [
    {
     "data": {
      "text/plain": [
       "array([[0, 3],\n",
       "       [1, 2],\n",
       "       [2, 0],\n",
       "       ...,\n",
       "       [1093, 0],\n",
       "       [1094, 0],\n",
       "       [1095, 0]], dtype=object)"
      ]
     },
     "execution_count": 16,
     "metadata": {},
     "output_type": "execute_result"
    }
   ],
   "source": [
    "values"
   ]
  },
  {
   "cell_type": "code",
   "execution_count": 17,
   "metadata": {
    "colab": {},
    "colab_type": "code",
    "id": "QoOrH37NL2D5"
   },
   "outputs": [],
   "source": [
    "# ensure all data is float\n",
    "values = values.astype('float32')"
   ]
  },
  {
   "cell_type": "code",
   "execution_count": 18,
   "metadata": {
    "colab": {},
    "colab_type": "code",
    "id": "-bideA9KMAEB"
   },
   "outputs": [],
   "source": [
    "# normalize features\n",
    "scaler = MinMaxScaler(feature_range=(0, 1))\n",
    "scaled = scaler.fit_transform(values)"
   ]
  },
  {
   "cell_type": "code",
   "execution_count": 19,
   "metadata": {
    "colab": {},
    "colab_type": "code",
    "id": "UoYzGGiuMDKV"
   },
   "outputs": [],
   "source": [
    "num_lags = 30\n",
    "num_features=1\n",
    "# frame as supervised learning\n",
    "reframed = series_to_supervised(scaled, num_lags, 1)"
   ]
  },
  {
   "cell_type": "code",
   "execution_count": 20,
   "metadata": {
    "colab": {
     "base_uri": "https://localhost:8080/",
     "height": 246
    },
    "colab_type": "code",
    "id": "8qozQ50XQ0vt",
    "outputId": "327145ff-0e4e-4712-a1e0-6bb05556872e"
   },
   "outputs": [
    {
     "data": {
      "text/html": [
       "<div>\n",
       "<style scoped>\n",
       "    .dataframe tbody tr th:only-of-type {\n",
       "        vertical-align: middle;\n",
       "    }\n",
       "\n",
       "    .dataframe tbody tr th {\n",
       "        vertical-align: top;\n",
       "    }\n",
       "\n",
       "    .dataframe thead th {\n",
       "        text-align: right;\n",
       "    }\n",
       "</style>\n",
       "<table border=\"1\" class=\"dataframe\">\n",
       "  <thead>\n",
       "    <tr style=\"text-align: right;\">\n",
       "      <th></th>\n",
       "      <th>var1(t-30)</th>\n",
       "      <th>var2(t-30)</th>\n",
       "      <th>var1(t-29)</th>\n",
       "      <th>var2(t-29)</th>\n",
       "      <th>var1(t-28)</th>\n",
       "      <th>var2(t-28)</th>\n",
       "      <th>var1(t-27)</th>\n",
       "      <th>var2(t-27)</th>\n",
       "      <th>var1(t-26)</th>\n",
       "      <th>var2(t-26)</th>\n",
       "      <th>...</th>\n",
       "      <th>var1(t-4)</th>\n",
       "      <th>var2(t-4)</th>\n",
       "      <th>var1(t-3)</th>\n",
       "      <th>var2(t-3)</th>\n",
       "      <th>var1(t-2)</th>\n",
       "      <th>var2(t-2)</th>\n",
       "      <th>var1(t-1)</th>\n",
       "      <th>var2(t-1)</th>\n",
       "      <th>var1(t)</th>\n",
       "      <th>var2(t)</th>\n",
       "    </tr>\n",
       "  </thead>\n",
       "  <tbody>\n",
       "    <tr>\n",
       "      <th>30</th>\n",
       "      <td>0.000000</td>\n",
       "      <td>0.071429</td>\n",
       "      <td>0.000913</td>\n",
       "      <td>0.047619</td>\n",
       "      <td>0.001826</td>\n",
       "      <td>0.000000</td>\n",
       "      <td>0.002740</td>\n",
       "      <td>0.047619</td>\n",
       "      <td>0.003653</td>\n",
       "      <td>0.000000</td>\n",
       "      <td>...</td>\n",
       "      <td>0.023744</td>\n",
       "      <td>0.00000</td>\n",
       "      <td>0.024658</td>\n",
       "      <td>1.00000</td>\n",
       "      <td>0.025571</td>\n",
       "      <td>0.00000</td>\n",
       "      <td>0.026484</td>\n",
       "      <td>0.02381</td>\n",
       "      <td>0.027397</td>\n",
       "      <td>0.0</td>\n",
       "    </tr>\n",
       "    <tr>\n",
       "      <th>31</th>\n",
       "      <td>0.000913</td>\n",
       "      <td>0.047619</td>\n",
       "      <td>0.001826</td>\n",
       "      <td>0.000000</td>\n",
       "      <td>0.002740</td>\n",
       "      <td>0.047619</td>\n",
       "      <td>0.003653</td>\n",
       "      <td>0.000000</td>\n",
       "      <td>0.004566</td>\n",
       "      <td>0.071429</td>\n",
       "      <td>...</td>\n",
       "      <td>0.024658</td>\n",
       "      <td>1.00000</td>\n",
       "      <td>0.025571</td>\n",
       "      <td>0.00000</td>\n",
       "      <td>0.026484</td>\n",
       "      <td>0.02381</td>\n",
       "      <td>0.027397</td>\n",
       "      <td>0.00000</td>\n",
       "      <td>0.028311</td>\n",
       "      <td>0.0</td>\n",
       "    </tr>\n",
       "    <tr>\n",
       "      <th>32</th>\n",
       "      <td>0.001826</td>\n",
       "      <td>0.000000</td>\n",
       "      <td>0.002740</td>\n",
       "      <td>0.047619</td>\n",
       "      <td>0.003653</td>\n",
       "      <td>0.000000</td>\n",
       "      <td>0.004566</td>\n",
       "      <td>0.071429</td>\n",
       "      <td>0.005479</td>\n",
       "      <td>0.071429</td>\n",
       "      <td>...</td>\n",
       "      <td>0.025571</td>\n",
       "      <td>0.00000</td>\n",
       "      <td>0.026484</td>\n",
       "      <td>0.02381</td>\n",
       "      <td>0.027397</td>\n",
       "      <td>0.00000</td>\n",
       "      <td>0.028311</td>\n",
       "      <td>0.00000</td>\n",
       "      <td>0.029224</td>\n",
       "      <td>0.0</td>\n",
       "    </tr>\n",
       "    <tr>\n",
       "      <th>33</th>\n",
       "      <td>0.002740</td>\n",
       "      <td>0.047619</td>\n",
       "      <td>0.003653</td>\n",
       "      <td>0.000000</td>\n",
       "      <td>0.004566</td>\n",
       "      <td>0.071429</td>\n",
       "      <td>0.005479</td>\n",
       "      <td>0.071429</td>\n",
       "      <td>0.006393</td>\n",
       "      <td>0.000000</td>\n",
       "      <td>...</td>\n",
       "      <td>0.026484</td>\n",
       "      <td>0.02381</td>\n",
       "      <td>0.027397</td>\n",
       "      <td>0.00000</td>\n",
       "      <td>0.028311</td>\n",
       "      <td>0.00000</td>\n",
       "      <td>0.029224</td>\n",
       "      <td>0.00000</td>\n",
       "      <td>0.030137</td>\n",
       "      <td>0.0</td>\n",
       "    </tr>\n",
       "    <tr>\n",
       "      <th>34</th>\n",
       "      <td>0.003653</td>\n",
       "      <td>0.000000</td>\n",
       "      <td>0.004566</td>\n",
       "      <td>0.071429</td>\n",
       "      <td>0.005479</td>\n",
       "      <td>0.071429</td>\n",
       "      <td>0.006393</td>\n",
       "      <td>0.000000</td>\n",
       "      <td>0.007306</td>\n",
       "      <td>0.190476</td>\n",
       "      <td>...</td>\n",
       "      <td>0.027397</td>\n",
       "      <td>0.00000</td>\n",
       "      <td>0.028311</td>\n",
       "      <td>0.00000</td>\n",
       "      <td>0.029224</td>\n",
       "      <td>0.00000</td>\n",
       "      <td>0.030137</td>\n",
       "      <td>0.00000</td>\n",
       "      <td>0.031050</td>\n",
       "      <td>0.0</td>\n",
       "    </tr>\n",
       "    <tr>\n",
       "      <th>35</th>\n",
       "      <td>0.004566</td>\n",
       "      <td>0.071429</td>\n",
       "      <td>0.005479</td>\n",
       "      <td>0.071429</td>\n",
       "      <td>0.006393</td>\n",
       "      <td>0.000000</td>\n",
       "      <td>0.007306</td>\n",
       "      <td>0.190476</td>\n",
       "      <td>0.008219</td>\n",
       "      <td>0.047619</td>\n",
       "      <td>...</td>\n",
       "      <td>0.028311</td>\n",
       "      <td>0.00000</td>\n",
       "      <td>0.029224</td>\n",
       "      <td>0.00000</td>\n",
       "      <td>0.030137</td>\n",
       "      <td>0.00000</td>\n",
       "      <td>0.031050</td>\n",
       "      <td>0.00000</td>\n",
       "      <td>0.031963</td>\n",
       "      <td>0.0</td>\n",
       "    </tr>\n",
       "    <tr>\n",
       "      <th>36</th>\n",
       "      <td>0.005479</td>\n",
       "      <td>0.071429</td>\n",
       "      <td>0.006393</td>\n",
       "      <td>0.000000</td>\n",
       "      <td>0.007306</td>\n",
       "      <td>0.190476</td>\n",
       "      <td>0.008219</td>\n",
       "      <td>0.047619</td>\n",
       "      <td>0.009132</td>\n",
       "      <td>0.071429</td>\n",
       "      <td>...</td>\n",
       "      <td>0.029224</td>\n",
       "      <td>0.00000</td>\n",
       "      <td>0.030137</td>\n",
       "      <td>0.00000</td>\n",
       "      <td>0.031050</td>\n",
       "      <td>0.00000</td>\n",
       "      <td>0.031963</td>\n",
       "      <td>0.00000</td>\n",
       "      <td>0.032877</td>\n",
       "      <td>0.0</td>\n",
       "    </tr>\n",
       "    <tr>\n",
       "      <th>37</th>\n",
       "      <td>0.006393</td>\n",
       "      <td>0.000000</td>\n",
       "      <td>0.007306</td>\n",
       "      <td>0.190476</td>\n",
       "      <td>0.008219</td>\n",
       "      <td>0.047619</td>\n",
       "      <td>0.009132</td>\n",
       "      <td>0.071429</td>\n",
       "      <td>0.010046</td>\n",
       "      <td>0.000000</td>\n",
       "      <td>...</td>\n",
       "      <td>0.030137</td>\n",
       "      <td>0.00000</td>\n",
       "      <td>0.031050</td>\n",
       "      <td>0.00000</td>\n",
       "      <td>0.031963</td>\n",
       "      <td>0.00000</td>\n",
       "      <td>0.032877</td>\n",
       "      <td>0.00000</td>\n",
       "      <td>0.033790</td>\n",
       "      <td>0.0</td>\n",
       "    </tr>\n",
       "    <tr>\n",
       "      <th>38</th>\n",
       "      <td>0.007306</td>\n",
       "      <td>0.190476</td>\n",
       "      <td>0.008219</td>\n",
       "      <td>0.047619</td>\n",
       "      <td>0.009132</td>\n",
       "      <td>0.071429</td>\n",
       "      <td>0.010046</td>\n",
       "      <td>0.000000</td>\n",
       "      <td>0.010959</td>\n",
       "      <td>0.000000</td>\n",
       "      <td>...</td>\n",
       "      <td>0.031050</td>\n",
       "      <td>0.00000</td>\n",
       "      <td>0.031963</td>\n",
       "      <td>0.00000</td>\n",
       "      <td>0.032877</td>\n",
       "      <td>0.00000</td>\n",
       "      <td>0.033790</td>\n",
       "      <td>0.00000</td>\n",
       "      <td>0.034703</td>\n",
       "      <td>0.0</td>\n",
       "    </tr>\n",
       "    <tr>\n",
       "      <th>39</th>\n",
       "      <td>0.008219</td>\n",
       "      <td>0.047619</td>\n",
       "      <td>0.009132</td>\n",
       "      <td>0.071429</td>\n",
       "      <td>0.010046</td>\n",
       "      <td>0.000000</td>\n",
       "      <td>0.010959</td>\n",
       "      <td>0.000000</td>\n",
       "      <td>0.011872</td>\n",
       "      <td>0.047619</td>\n",
       "      <td>...</td>\n",
       "      <td>0.031963</td>\n",
       "      <td>0.00000</td>\n",
       "      <td>0.032877</td>\n",
       "      <td>0.00000</td>\n",
       "      <td>0.033790</td>\n",
       "      <td>0.00000</td>\n",
       "      <td>0.034703</td>\n",
       "      <td>0.00000</td>\n",
       "      <td>0.035616</td>\n",
       "      <td>0.0</td>\n",
       "    </tr>\n",
       "  </tbody>\n",
       "</table>\n",
       "<p>10 rows × 62 columns</p>\n",
       "</div>"
      ],
      "text/plain": [
       "    var1(t-30)  var2(t-30)  var1(t-29)  var2(t-29)  var1(t-28)  var2(t-28)  \\\n",
       "30    0.000000    0.071429    0.000913    0.047619    0.001826    0.000000   \n",
       "31    0.000913    0.047619    0.001826    0.000000    0.002740    0.047619   \n",
       "32    0.001826    0.000000    0.002740    0.047619    0.003653    0.000000   \n",
       "33    0.002740    0.047619    0.003653    0.000000    0.004566    0.071429   \n",
       "34    0.003653    0.000000    0.004566    0.071429    0.005479    0.071429   \n",
       "35    0.004566    0.071429    0.005479    0.071429    0.006393    0.000000   \n",
       "36    0.005479    0.071429    0.006393    0.000000    0.007306    0.190476   \n",
       "37    0.006393    0.000000    0.007306    0.190476    0.008219    0.047619   \n",
       "38    0.007306    0.190476    0.008219    0.047619    0.009132    0.071429   \n",
       "39    0.008219    0.047619    0.009132    0.071429    0.010046    0.000000   \n",
       "\n",
       "    var1(t-27)  var2(t-27)  var1(t-26)  var2(t-26)  ...  var1(t-4)  var2(t-4)  \\\n",
       "30    0.002740    0.047619    0.003653    0.000000  ...   0.023744    0.00000   \n",
       "31    0.003653    0.000000    0.004566    0.071429  ...   0.024658    1.00000   \n",
       "32    0.004566    0.071429    0.005479    0.071429  ...   0.025571    0.00000   \n",
       "33    0.005479    0.071429    0.006393    0.000000  ...   0.026484    0.02381   \n",
       "34    0.006393    0.000000    0.007306    0.190476  ...   0.027397    0.00000   \n",
       "35    0.007306    0.190476    0.008219    0.047619  ...   0.028311    0.00000   \n",
       "36    0.008219    0.047619    0.009132    0.071429  ...   0.029224    0.00000   \n",
       "37    0.009132    0.071429    0.010046    0.000000  ...   0.030137    0.00000   \n",
       "38    0.010046    0.000000    0.010959    0.000000  ...   0.031050    0.00000   \n",
       "39    0.010959    0.000000    0.011872    0.047619  ...   0.031963    0.00000   \n",
       "\n",
       "    var1(t-3)  var2(t-3)  var1(t-2)  var2(t-2)  var1(t-1)  var2(t-1)  \\\n",
       "30   0.024658    1.00000   0.025571    0.00000   0.026484    0.02381   \n",
       "31   0.025571    0.00000   0.026484    0.02381   0.027397    0.00000   \n",
       "32   0.026484    0.02381   0.027397    0.00000   0.028311    0.00000   \n",
       "33   0.027397    0.00000   0.028311    0.00000   0.029224    0.00000   \n",
       "34   0.028311    0.00000   0.029224    0.00000   0.030137    0.00000   \n",
       "35   0.029224    0.00000   0.030137    0.00000   0.031050    0.00000   \n",
       "36   0.030137    0.00000   0.031050    0.00000   0.031963    0.00000   \n",
       "37   0.031050    0.00000   0.031963    0.00000   0.032877    0.00000   \n",
       "38   0.031963    0.00000   0.032877    0.00000   0.033790    0.00000   \n",
       "39   0.032877    0.00000   0.033790    0.00000   0.034703    0.00000   \n",
       "\n",
       "     var1(t)  var2(t)  \n",
       "30  0.027397      0.0  \n",
       "31  0.028311      0.0  \n",
       "32  0.029224      0.0  \n",
       "33  0.030137      0.0  \n",
       "34  0.031050      0.0  \n",
       "35  0.031963      0.0  \n",
       "36  0.032877      0.0  \n",
       "37  0.033790      0.0  \n",
       "38  0.034703      0.0  \n",
       "39  0.035616      0.0  \n",
       "\n",
       "[10 rows x 62 columns]"
      ]
     },
     "execution_count": 20,
     "metadata": {},
     "output_type": "execute_result"
    }
   ],
   "source": [
    "reframed.head(10)"
   ]
  },
  {
   "cell_type": "code",
   "execution_count": 21,
   "metadata": {
    "colab": {
     "base_uri": "https://localhost:8080/",
     "height": 158
    },
    "colab_type": "code",
    "id": "WagjZMq5Ns-z",
    "outputId": "1585cfe5-7bba-4457-fdfc-0166fde77266"
   },
   "outputs": [],
   "source": [
    "# drop columns we don't want to predict\n",
    "#reframed.drop(reframed.columns[[9,10,11,12,13,14,15]], axis=1, inplace=True)\n",
    "#print(reframed.head())"
   ]
  },
  {
   "cell_type": "code",
   "execution_count": 22,
   "metadata": {},
   "outputs": [
    {
     "data": {
      "text/plain": [
       "(1066, 62)"
      ]
     },
     "execution_count": 22,
     "metadata": {},
     "output_type": "execute_result"
    }
   ],
   "source": [
    "values = reframed.values\n",
    "values.shape"
   ]
  },
  {
   "cell_type": "markdown",
   "metadata": {
    "colab_type": "text",
    "id": "sZ8QbmhGSJGS"
   },
   "source": [
    "Define and Fit Model"
   ]
  },
  {
   "cell_type": "code",
   "execution_count": 23,
   "metadata": {
    "colab": {},
    "colab_type": "code",
    "id": "YyiJCYceSJtu"
   },
   "outputs": [],
   "source": [
    "import math\n",
    "# split into train and test sets\n",
    "values = reframed.values\n",
    "n_train_day = math.floor(values.shape[0] *0.8)\n",
    "#n_train_day = 20\n",
    "train = values[:n_train_day,:]\n",
    "test = values[n_train_day:, :]"
   ]
  },
  {
   "cell_type": "code",
   "execution_count": 24,
   "metadata": {
    "colab": {},
    "colab_type": "code",
    "id": "g9hUWzEjmc4m"
   },
   "outputs": [
    {
     "name": "stdout",
     "output_type": "stream",
     "text": [
      "(852, 30) 852 (852,)\n"
     ]
    }
   ],
   "source": [
    "# split into input and outputs\n",
    "n_obs = num_lags * num_features\n",
    "train_X, train_y = train[:, :n_obs], train[:, -num_features]\n",
    "test_X, test_y = test[:, :n_obs], test[:, -num_features]\n",
    "print(train_X.shape, len(train_X), train_y.shape)"
   ]
  },
  {
   "cell_type": "code",
   "execution_count": 25,
   "metadata": {},
   "outputs": [
    {
     "name": "stdout",
     "output_type": "stream",
     "text": [
      "(852, 30) (852,) (214, 30) (214,)\n"
     ]
    }
   ],
   "source": [
    "print(train_X.shape, train_y.shape, test_X.shape, test_y.shape)"
   ]
  },
  {
   "cell_type": "code",
   "execution_count": 26,
   "metadata": {
    "colab": {
     "base_uri": "https://localhost:8080/",
     "height": 34
    },
    "colab_type": "code",
    "id": "hYV1laaimoBu",
    "outputId": "d5c91ea8-68a9-423e-9416-b53f1ce21c3e"
   },
   "outputs": [
    {
     "name": "stdout",
     "output_type": "stream",
     "text": [
      "(852, 30, 1) (852,) (214, 30, 1) (214,)\n"
     ]
    }
   ],
   "source": [
    "# reshape input to be 3D [samples, timesteps, features]\n",
    "train_X = train_X.reshape((train_X.shape[0], num_lags, num_features))\n",
    "test_X = test_X.reshape((test_X.shape[0], num_lags, num_features))\n",
    "print(train_X.shape, train_y.shape, test_X.shape, test_y.shape)"
   ]
  },
  {
   "cell_type": "code",
   "execution_count": null,
   "metadata": {
    "colab": {},
    "colab_type": "code",
    "id": "YeVF2JkmnCly"
   },
   "outputs": [],
   "source": []
  },
  {
   "cell_type": "code",
   "execution_count": 27,
   "metadata": {
    "colab": {},
    "colab_type": "code",
    "id": "2IWqLwmHmt1U"
   },
   "outputs": [],
   "source": [
    "# design network\n",
    "model = Sequential()\n",
    "model.add(LSTM(50, input_shape=(train_X.shape[1], train_X.shape[2])))\n",
    "model.add(Dense(1))\n",
    "model.compile(loss='mae', optimizer='adam')"
   ]
  },
  {
   "cell_type": "code",
   "execution_count": 28,
   "metadata": {
    "colab": {
     "base_uri": "https://localhost:8080/",
     "height": 1000
    },
    "colab_type": "code",
    "id": "475zgG19mzCT",
    "outputId": "d0bacd68-db04-497f-ac4a-b0db54869764"
   },
   "outputs": [
    {
     "name": "stdout",
     "output_type": "stream",
     "text": [
      "Epoch 1/50\n",
      "12/12 - 0s - loss: 0.0103 - val_loss: 0.0134\n",
      "Epoch 2/50\n",
      "12/12 - 0s - loss: 0.0088 - val_loss: 6.9323e-04\n",
      "Epoch 3/50\n",
      "12/12 - 0s - loss: 0.0059 - val_loss: 0.0018\n",
      "Epoch 4/50\n",
      "12/12 - 0s - loss: 0.0106 - val_loss: 0.0091\n",
      "Epoch 5/50\n",
      "12/12 - 0s - loss: 0.0060 - val_loss: 0.0048\n",
      "Epoch 6/50\n",
      "12/12 - 0s - loss: 0.0118 - val_loss: 0.0105\n",
      "Epoch 7/50\n",
      "12/12 - 0s - loss: 0.0122 - val_loss: 0.0062\n",
      "Epoch 8/50\n",
      "12/12 - 0s - loss: 0.0070 - val_loss: 0.0026\n",
      "Epoch 9/50\n",
      "12/12 - 0s - loss: 0.0104 - val_loss: 0.0033\n",
      "Epoch 10/50\n",
      "12/12 - 0s - loss: 0.0101 - val_loss: 0.0096\n",
      "Epoch 11/50\n",
      "12/12 - 0s - loss: 0.0070 - val_loss: 0.0010\n",
      "Epoch 12/50\n",
      "12/12 - 0s - loss: 0.0139 - val_loss: 5.1765e-04\n",
      "Epoch 13/50\n",
      "12/12 - 0s - loss: 0.0068 - val_loss: 0.0028\n",
      "Epoch 14/50\n",
      "12/12 - 0s - loss: 0.0111 - val_loss: 0.0048\n",
      "Epoch 15/50\n",
      "12/12 - 0s - loss: 0.0160 - val_loss: 0.0103\n",
      "Epoch 16/50\n",
      "12/12 - 0s - loss: 0.0126 - val_loss: 0.0045\n",
      "Epoch 17/50\n",
      "12/12 - 0s - loss: 0.0066 - val_loss: 0.0033\n",
      "Epoch 18/50\n",
      "12/12 - 0s - loss: 0.0064 - val_loss: 0.0010\n",
      "Epoch 19/50\n",
      "12/12 - 0s - loss: 0.0089 - val_loss: 0.0068\n",
      "Epoch 20/50\n",
      "12/12 - 0s - loss: 0.0101 - val_loss: 0.0018\n",
      "Epoch 21/50\n",
      "12/12 - 0s - loss: 0.0100 - val_loss: 0.0052\n",
      "Epoch 22/50\n",
      "12/12 - 0s - loss: 0.0119 - val_loss: 0.0069\n",
      "Epoch 23/50\n",
      "12/12 - 0s - loss: 0.0082 - val_loss: 0.0029\n",
      "Epoch 24/50\n",
      "12/12 - 0s - loss: 0.0070 - val_loss: 0.0021\n",
      "Epoch 25/50\n",
      "12/12 - 0s - loss: 0.0085 - val_loss: 0.0069\n",
      "Epoch 26/50\n",
      "12/12 - 0s - loss: 0.0084 - val_loss: 0.0023\n",
      "Epoch 27/50\n",
      "12/12 - 0s - loss: 0.0061 - val_loss: 0.0017\n",
      "Epoch 28/50\n",
      "12/12 - 0s - loss: 0.0066 - val_loss: 0.0019\n",
      "Epoch 29/50\n",
      "12/12 - 0s - loss: 0.0066 - val_loss: 0.0025\n",
      "Epoch 30/50\n",
      "12/12 - 0s - loss: 0.0079 - val_loss: 0.0045\n",
      "Epoch 31/50\n",
      "12/12 - 0s - loss: 0.0076 - val_loss: 0.0029\n",
      "Epoch 32/50\n",
      "12/12 - 0s - loss: 0.0066 - val_loss: 0.0019\n",
      "Epoch 33/50\n",
      "12/12 - 0s - loss: 0.0066 - val_loss: 0.0027\n",
      "Epoch 34/50\n",
      "12/12 - 0s - loss: 0.0071 - val_loss: 5.7293e-04\n",
      "Epoch 35/50\n",
      "12/12 - 0s - loss: 0.0086 - val_loss: 0.0030\n",
      "Epoch 36/50\n",
      "12/12 - 0s - loss: 0.0081 - val_loss: 0.0044\n",
      "Epoch 37/50\n",
      "12/12 - 0s - loss: 0.0055 - val_loss: 6.9762e-04\n",
      "Epoch 38/50\n",
      "12/12 - 0s - loss: 0.0093 - val_loss: 0.0021\n",
      "Epoch 39/50\n",
      "12/12 - 0s - loss: 0.0081 - val_loss: 0.0027\n",
      "Epoch 40/50\n",
      "12/12 - 0s - loss: 0.0074 - val_loss: 3.1976e-04\n",
      "Epoch 41/50\n",
      "12/12 - 0s - loss: 0.0082 - val_loss: 0.0030\n",
      "Epoch 42/50\n",
      "12/12 - 0s - loss: 0.0072 - val_loss: 3.6365e-04\n",
      "Epoch 43/50\n",
      "12/12 - 0s - loss: 0.0060 - val_loss: 2.4111e-04\n",
      "Epoch 44/50\n",
      "12/12 - 0s - loss: 0.0073 - val_loss: 0.0024\n",
      "Epoch 45/50\n",
      "12/12 - 0s - loss: 0.0072 - val_loss: 1.5037e-04\n",
      "Epoch 46/50\n",
      "12/12 - 0s - loss: 0.0062 - val_loss: 2.3054e-04\n",
      "Epoch 47/50\n",
      "12/12 - 0s - loss: 0.0067 - val_loss: 0.0013\n",
      "Epoch 48/50\n",
      "12/12 - 0s - loss: 0.0067 - val_loss: 2.2001e-04\n",
      "Epoch 49/50\n",
      "12/12 - 0s - loss: 0.0061 - val_loss: 4.8862e-04\n",
      "Epoch 50/50\n",
      "12/12 - 0s - loss: 0.0083 - val_loss: 0.0026\n"
     ]
    }
   ],
   "source": [
    "# fit network\n",
    "history = model.fit(train_X, train_y, epochs=50, batch_size=72, validation_data=(test_X, test_y), verbose=2, shuffle=False)"
   ]
  },
  {
   "cell_type": "code",
   "execution_count": 29,
   "metadata": {
    "colab": {
     "base_uri": "https://localhost:8080/",
     "height": 265
    },
    "colab_type": "code",
    "id": "Jmzc613YrrQx",
    "outputId": "796c8ab3-14bb-4080-f2f3-23dfa051e8cb"
   },
   "outputs": [
    {
     "data": {
      "image/png": "[encoded data removed]",
      "text/plain": [
       "<Figure size 432x288 with 1 Axes>"
      ]
     },
     "metadata": {
      "needs_background": "light"
     },
     "output_type": "display_data"
    }
   ],
   "source": [
    "# plot history\n",
    "pyplot.plot(history.history['loss'], label='train')\n",
    "pyplot.plot(history.history['val_loss'], label='test')\n",
    "pyplot.legend()\n",
    "pyplot.show()"
   ]
  },
  {
   "cell_type": "markdown",
   "metadata": {
    "colab_type": "text",
    "id": "xP-ECOJur6B4"
   },
   "source": [
    "Evaluate Model"
   ]
  },
  {
   "cell_type": "code",
   "execution_count": 30,
   "metadata": {
    "colab": {},
    "colab_type": "code",
    "id": "16emzgM3r2VX"
   },
   "outputs": [],
   "source": [
    "# make a prediction\n",
    "yhat = model.predict(test_X)\n",
    "test_X = test_X.reshape((test_X.shape[0], num_lags*num_features))"
   ]
  },
  {
   "cell_type": "code",
   "execution_count": 31,
   "metadata": {
    "colab": {},
    "colab_type": "code",
    "id": "FkJXlfAfr-YI"
   },
   "outputs": [
    {
     "name": "stdout",
     "output_type": "stream",
     "text": [
      "(214, 2)\n"
     ]
    }
   ],
   "source": [
    "from numpy import concatenate\n",
    "# invert scaling for forecast\n",
    "inv_yhat = concatenate((yhat, test_X[:, -1:]), axis=1)\n",
    "print(inv_yhat.shape)\n"
   ]
  },
  {
   "cell_type": "code",
   "execution_count": 32,
   "metadata": {},
   "outputs": [],
   "source": [
    "inv_yhat = scaler.inverse_transform(inv_yhat)\n",
    "inv_yhat = inv_yhat[:,0]"
   ]
  },
  {
   "cell_type": "code",
   "execution_count": 33,
   "metadata": {
    "colab": {},
    "colab_type": "code",
    "id": "txuSFMS9sBVV"
   },
   "outputs": [],
   "source": [
    "# invert scaling for actual\n",
    "test_y = test_y.reshape((len(test_y), 1))\n",
    "inv_y = concatenate((test_y, test_X[:, -1:]), axis=1)\n",
    "inv_y = scaler.inverse_transform(inv_y)\n",
    "inv_y = inv_y[:,0]"
   ]
  },
  {
   "cell_type": "code",
   "execution_count": 34,
   "metadata": {
    "colab": {
     "base_uri": "https://localhost:8080/",
     "height": 34
    },
    "colab_type": "code",
    "id": "SIpa8VwrsWqf",
    "outputId": "59519f44-9ee3-4bfe-99f5-1a2014f6ad4e"
   },
   "outputs": [
    {
     "name": "stdout",
     "output_type": "stream",
     "text": [
      "Test RMSE: 2.862\n"
     ]
    }
   ],
   "source": [
    "from math import sqrt\n",
    "from sklearn.metrics import mean_squared_error\n",
    "# calculate RMSE\n",
    "rmse = sqrt(mean_squared_error(inv_y, inv_yhat))\n",
    "print('Test RMSE: %.3f' % rmse)"
   ]
  },
  {
   "cell_type": "code",
   "execution_count": 35,
   "metadata": {
    "colab": {},
    "colab_type": "code",
    "id": "F-PMOzoKsgfS"
   },
   "outputs": [],
   "source": [
    "rmse = rmse* (1/100)"
   ]
  },
  {
   "cell_type": "code",
   "execution_count": 36,
   "metadata": {},
   "outputs": [
    {
     "name": "stdout",
     "output_type": "stream",
     "text": [
      "Test RMSE: 0.029\n"
     ]
    }
   ],
   "source": [
    "print('Test RMSE: %.3f' % rmse)"
   ]
  },
  {
   "cell_type": "code",
   "execution_count": 38,
   "metadata": {},
   "outputs": [],
   "source": [
    "#save model\n",
    "model.save(\"./model.h5\")"
   ]
  },
  {
   "cell_type": "code",
   "execution_count": 40,
   "metadata": {},
   "outputs": [
    {
     "name": "stdout",
     "output_type": "stream",
     "text": [
      "Model: \"sequential\"\n",
      "_________________________________________________________________\n",
      "Layer (type)                 Output Shape              Param #   \n",
      "=================================================================\n",
      "lstm (LSTM)                  (None, 50)                10400     \n",
      "_________________________________________________________________\n",
      "dense (Dense)                (None, 1)                 51        \n",
      "=================================================================\n",
      "Total params: 10,451\n",
      "Trainable params: 10,451\n",
      "Non-trainable params: 0\n",
      "_________________________________________________________________\n"
     ]
    }
   ],
   "source": [
    "from keras.models import load_model\n",
    "# load model\n",
    "model = load_model('model.h5')\n",
    "# summarize model.\n",
    "model.summary()"
   ]
  },
  {
   "cell_type": "code",
   "execution_count": null,
   "metadata": {},
   "outputs": [],
   "source": []
  }
 ],
 "metadata": {
  "colab": {
   "name": "AirPollutionForecasting.ipynb",
   "provenance": []
  },
  "kernelspec": {
   "display_name": "Python 3",
   "language": "python",
   "name": "python3"
  },
  "language_info": {
   "codemirror_mode": {
    "name": "ipython",
    "version": 3
   },
   "file_extension": ".py",
   "mimetype": "text/x-python",
   "name": "python",
   "nbconvert_exporter": "python",
   "pygments_lexer": "ipython3",
   "version": "3.8.2"
  }
 },
 "nbformat": 4,
 "nbformat_minor": 1
}
