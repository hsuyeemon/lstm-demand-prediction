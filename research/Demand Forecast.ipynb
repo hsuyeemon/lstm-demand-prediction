{
 "cells": [
  {
   "cell_type": "markdown",
   "metadata": {
    "colab_type": "text",
    "id": "0ckQTagirtYY"
   },
   "source": [
    "Demand Predict"
   ]
  },
  {
   "cell_type": "markdown",
   "metadata": {
    "colab_type": "text",
    "id": "NOVyOvjysKBz"
   },
   "source": [
    "Basic Data Preparation"
   ]
  },
  {
   "cell_type": "code",
   "execution_count": 1,
   "metadata": {
    "colab": {},
    "colab_type": "code",
    "id": "As3kivKdpg3V"
   },
   "outputs": [],
   "source": [
    "from pandas import read_csv\n",
    "from datetime import datetime\n",
    "from keras.models import Sequential\n",
    "from keras.layers import Dense\n",
    "from keras.layers import LSTM"
   ]
  },
  {
   "cell_type": "code",
   "execution_count": 2,
   "metadata": {
    "colab": {},
    "colab_type": "code",
    "id": "ONRbR5QQrRli"
   },
   "outputs": [],
   "source": [
    "dataset = read_csv('~/work/DemandPrediction/2016demand2017.csv')"
   ]
  },
  {
   "cell_type": "code",
   "execution_count": 3,
   "metadata": {
    "colab": {},
    "colab_type": "code",
    "id": "xgmTHATAsa2q"
   },
   "outputs": [
    {
     "data": {
      "text/html": [
       "<div>\n",
       "<style scoped>\n",
       "    .dataframe tbody tr th:only-of-type {\n",
       "        vertical-align: middle;\n",
       "    }\n",
       "\n",
       "    .dataframe tbody tr th {\n",
       "        vertical-align: top;\n",
       "    }\n",
       "\n",
       "    .dataframe thead th {\n",
       "        text-align: right;\n",
       "    }\n",
       "</style>\n",
       "<table border=\"1\" class=\"dataframe\">\n",
       "  <thead>\n",
       "    <tr style=\"text-align: right;\">\n",
       "      <th></th>\n",
       "      <th>date</th>\n",
       "      <th>quantity</th>\n",
       "    </tr>\n",
       "    <tr>\n",
       "      <th>date</th>\n",
       "      <th></th>\n",
       "      <th></th>\n",
       "    </tr>\n",
       "  </thead>\n",
       "  <tbody>\n",
       "    <tr>\n",
       "      <th>0</th>\n",
       "      <td>2016-01-01</td>\n",
       "      <td>3</td>\n",
       "    </tr>\n",
       "    <tr>\n",
       "      <th>1</th>\n",
       "      <td>2016-01-02</td>\n",
       "      <td>2</td>\n",
       "    </tr>\n",
       "    <tr>\n",
       "      <th>2</th>\n",
       "      <td>2016-01-03</td>\n",
       "      <td>0</td>\n",
       "    </tr>\n",
       "    <tr>\n",
       "      <th>3</th>\n",
       "      <td>2016-01-04</td>\n",
       "      <td>2</td>\n",
       "    </tr>\n",
       "    <tr>\n",
       "      <th>4</th>\n",
       "      <td>2016-01-05</td>\n",
       "      <td>0</td>\n",
       "    </tr>\n",
       "  </tbody>\n",
       "</table>\n",
       "</div>"
      ],
      "text/plain": [
       "            date  quantity\n",
       "date                      \n",
       "0     2016-01-01         3\n",
       "1     2016-01-02         2\n",
       "2     2016-01-03         0\n",
       "3     2016-01-04         2\n",
       "4     2016-01-05         0"
      ]
     },
     "execution_count": 3,
     "metadata": {},
     "output_type": "execute_result"
    }
   ],
   "source": [
    "# manually specify column names\n",
    "dataset.columns = ['date', 'quantity']\n",
    "dataset.index.name = 'date'\n",
    "dataset.head(5)"
   ]
  },
  {
   "cell_type": "code",
   "execution_count": 4,
   "metadata": {
    "colab": {},
    "colab_type": "code",
    "id": "LsVBKSNLtvVE"
   },
   "outputs": [],
   "source": [
    "from matplotlib import pyplot\n",
    "# load dataset\n",
    "#dataset = read_csv('pollution.csv', header=0, index_col=0)\n",
    "values = dataset.values"
   ]
  },
  {
   "cell_type": "code",
   "execution_count": 5,
   "metadata": {
    "colab": {
     "base_uri": "https://localhost:8080/",
     "height": 268
    },
    "colab_type": "code",
    "id": "nvNWMCXjt6ME",
    "outputId": "28f35e4c-3527-4b01-f637-c06c92ad9c4d"
   },
   "outputs": [
    {
     "data": {
      "image/png": "[encoded data removed]",
      "text/plain": [
       "<Figure size 432x288 with 1 Axes>"
      ]
     },
     "metadata": {
      "needs_background": "light"
     },
     "output_type": "display_data"
    }
   ],
   "source": [
    "\n",
    "# plot each column\n",
    "pyplot.figure()\n",
    "pyplot.plot(values[:, 1])\n",
    "pyplot.title(dataset.columns[1], y=0.5, loc='right')\n",
    "pyplot.show()"
   ]
  },
  {
   "cell_type": "markdown",
   "metadata": {
    "colab_type": "text",
    "id": "qU8AWyctuNsO"
   },
   "source": [
    "Multivariate LSTM Forecast Model"
   ]
  },
  {
   "cell_type": "markdown",
   "metadata": {
    "colab_type": "text",
    "id": "nbn0oGwx-Q5l"
   },
   "source": [
    "LSTM Data Preparation:<br>\n",
    "***framing the dataset as a supervised learning problem and normalizing the input variables.***"
   ]
  },
  {
   "cell_type": "code",
   "execution_count": 6,
   "metadata": {
    "colab": {},
    "colab_type": "code",
    "id": "ZzDa6PYht9BU"
   },
   "outputs": [],
   "source": [
    "from pandas import DataFrame\n",
    "from pandas import concat\n",
    "from sklearn.preprocessing import LabelEncoder\n",
    "from sklearn.preprocessing import MinMaxScaler"
   ]
  },
  {
   "cell_type": "code",
   "execution_count": 7,
   "metadata": {
    "colab": {},
    "colab_type": "code",
    "id": "_YYeYZoO_1Cu"
   },
   "outputs": [],
   "source": [
    "# convert series to supervised learning\n",
    "def series_to_supervised(data, n_in=1, n_out=1, dropnan=True):\n",
    "\tn_vars = 1 if type(data) is list else data.shape[1]\n",
    "\tdf = DataFrame(data)\n",
    "\tcols, names = list(), list()\n",
    "\t# input sequence (t-n, ... t-1)\n",
    "\tfor i in range(n_in, 0, -1):\n",
    "\t\tcols.append(df.shift(i))\n",
    "\t\tnames += [('var%d(t-%d)' % (j+1, i)) for j in range(n_vars)]\n",
    "\t# forecast sequence (t, t+1, ... t+n)\n",
    "\tfor i in range(0, n_out):\n",
    "\t\tcols.append(df.shift(-i))\n",
    "\t\tif i == 0:\n",
    "\t\t\tnames += [('var%d(t)' % (j+1)) for j in range(n_vars)]\n",
    "\t\telse:\n",
    "\t\t\tnames += [('var%d(t+%d)' % (j+1, i)) for j in range(n_vars)]\n",
    "\t# put it all together\n",
    "\tagg = concat(cols, axis=1)\n",
    "\tagg.columns = names\n",
    "\t# drop rows with NaN values\n",
    "\tif dropnan:\n",
    "\t\tagg.dropna(inplace=True)\n",
    "\treturn agg\n",
    " "
   ]
  },
  {
   "cell_type": "code",
   "execution_count": 8,
   "metadata": {
    "colab": {},
    "colab_type": "code",
    "id": "mMdWKca8LlBE"
   },
   "outputs": [],
   "source": [
    "# integer encode direction\n",
    "encoder = LabelEncoder()\n",
    "values[:,0] = encoder.fit_transform(values[:,0])"
   ]
  },
  {
   "cell_type": "code",
   "execution_count": 9,
   "metadata": {
    "colab": {
     "base_uri": "https://localhost:8080/",
     "height": 140
    },
    "colab_type": "code",
    "id": "aJwr7hKsL0-_",
    "outputId": "6c321a13-f00d-4231-fb93-1b99eff6987d"
   },
   "outputs": [
    {
     "data": {
      "text/plain": [
       "array([[0, 3],\n",
       "       [1, 2],\n",
       "       [2, 0],\n",
       "       ...,\n",
       "       [1062, 0],\n",
       "       [1063, 0],\n",
       "       [1064, 0]], dtype=object)"
      ]
     },
     "execution_count": 9,
     "metadata": {},
     "output_type": "execute_result"
    }
   ],
   "source": [
    "values"
   ]
  },
  {
   "cell_type": "code",
   "execution_count": 10,
   "metadata": {
    "colab": {},
    "colab_type": "code",
    "id": "QoOrH37NL2D5"
   },
   "outputs": [],
   "source": [
    "# ensure all data is float\n",
    "values = values.astype('float32')"
   ]
  },
  {
   "cell_type": "code",
   "execution_count": 11,
   "metadata": {
    "colab": {},
    "colab_type": "code",
    "id": "-bideA9KMAEB"
   },
   "outputs": [],
   "source": [
    "# normalize features\n",
    "scaler = MinMaxScaler(feature_range=(0, 1))\n",
    "scaled = scaler.fit_transform(values)"
   ]
  },
  {
   "cell_type": "code",
   "execution_count": 12,
   "metadata": {
    "colab": {},
    "colab_type": "code",
    "id": "UoYzGGiuMDKV"
   },
   "outputs": [],
   "source": [
    "#1month\n",
    "num_lags = 30\n",
    "num_features=1\n",
    "# frame as supervised learning\n",
    "reframed = series_to_supervised(scaled, num_lags, 1)"
   ]
  },
  {
   "cell_type": "code",
   "execution_count": 13,
   "metadata": {
    "colab": {
     "base_uri": "https://localhost:8080/",
     "height": 246
    },
    "colab_type": "code",
    "id": "8qozQ50XQ0vt",
    "outputId": "327145ff-0e4e-4712-a1e0-6bb05556872e"
   },
   "outputs": [
    {
     "data": {
      "text/html": [
       "<div>\n",
       "<style scoped>\n",
       "    .dataframe tbody tr th:only-of-type {\n",
       "        vertical-align: middle;\n",
       "    }\n",
       "\n",
       "    .dataframe tbody tr th {\n",
       "        vertical-align: top;\n",
       "    }\n",
       "\n",
       "    .dataframe thead th {\n",
       "        text-align: right;\n",
       "    }\n",
       "</style>\n",
       "<table border=\"1\" class=\"dataframe\">\n",
       "  <thead>\n",
       "    <tr style=\"text-align: right;\">\n",
       "      <th></th>\n",
       "      <th>var1(t-30)</th>\n",
       "      <th>var2(t-30)</th>\n",
       "      <th>var1(t-29)</th>\n",
       "      <th>var2(t-29)</th>\n",
       "      <th>var1(t-28)</th>\n",
       "      <th>var2(t-28)</th>\n",
       "      <th>var1(t-27)</th>\n",
       "      <th>var2(t-27)</th>\n",
       "      <th>var1(t-26)</th>\n",
       "      <th>var2(t-26)</th>\n",
       "      <th>...</th>\n",
       "      <th>var1(t-4)</th>\n",
       "      <th>var2(t-4)</th>\n",
       "      <th>var1(t-3)</th>\n",
       "      <th>var2(t-3)</th>\n",
       "      <th>var1(t-2)</th>\n",
       "      <th>var2(t-2)</th>\n",
       "      <th>var1(t-1)</th>\n",
       "      <th>var2(t-1)</th>\n",
       "      <th>var1(t)</th>\n",
       "      <th>var2(t)</th>\n",
       "    </tr>\n",
       "  </thead>\n",
       "  <tbody>\n",
       "    <tr>\n",
       "      <th>30</th>\n",
       "      <td>0.000000</td>\n",
       "      <td>0.071429</td>\n",
       "      <td>0.000940</td>\n",
       "      <td>0.047619</td>\n",
       "      <td>0.001880</td>\n",
       "      <td>0.000000</td>\n",
       "      <td>0.002820</td>\n",
       "      <td>0.047619</td>\n",
       "      <td>0.003759</td>\n",
       "      <td>0.000000</td>\n",
       "      <td>...</td>\n",
       "      <td>0.024436</td>\n",
       "      <td>0.00000</td>\n",
       "      <td>0.025376</td>\n",
       "      <td>1.00000</td>\n",
       "      <td>0.026316</td>\n",
       "      <td>0.00000</td>\n",
       "      <td>0.027256</td>\n",
       "      <td>0.02381</td>\n",
       "      <td>0.028195</td>\n",
       "      <td>0.0</td>\n",
       "    </tr>\n",
       "    <tr>\n",
       "      <th>31</th>\n",
       "      <td>0.000940</td>\n",
       "      <td>0.047619</td>\n",
       "      <td>0.001880</td>\n",
       "      <td>0.000000</td>\n",
       "      <td>0.002820</td>\n",
       "      <td>0.047619</td>\n",
       "      <td>0.003759</td>\n",
       "      <td>0.000000</td>\n",
       "      <td>0.004699</td>\n",
       "      <td>0.071429</td>\n",
       "      <td>...</td>\n",
       "      <td>0.025376</td>\n",
       "      <td>1.00000</td>\n",
       "      <td>0.026316</td>\n",
       "      <td>0.00000</td>\n",
       "      <td>0.027256</td>\n",
       "      <td>0.02381</td>\n",
       "      <td>0.028195</td>\n",
       "      <td>0.00000</td>\n",
       "      <td>0.029135</td>\n",
       "      <td>0.0</td>\n",
       "    </tr>\n",
       "    <tr>\n",
       "      <th>32</th>\n",
       "      <td>0.001880</td>\n",
       "      <td>0.000000</td>\n",
       "      <td>0.002820</td>\n",
       "      <td>0.047619</td>\n",
       "      <td>0.003759</td>\n",
       "      <td>0.000000</td>\n",
       "      <td>0.004699</td>\n",
       "      <td>0.071429</td>\n",
       "      <td>0.005639</td>\n",
       "      <td>0.071429</td>\n",
       "      <td>...</td>\n",
       "      <td>0.026316</td>\n",
       "      <td>0.00000</td>\n",
       "      <td>0.027256</td>\n",
       "      <td>0.02381</td>\n",
       "      <td>0.028195</td>\n",
       "      <td>0.00000</td>\n",
       "      <td>0.029135</td>\n",
       "      <td>0.00000</td>\n",
       "      <td>0.030075</td>\n",
       "      <td>0.0</td>\n",
       "    </tr>\n",
       "    <tr>\n",
       "      <th>33</th>\n",
       "      <td>0.002820</td>\n",
       "      <td>0.047619</td>\n",
       "      <td>0.003759</td>\n",
       "      <td>0.000000</td>\n",
       "      <td>0.004699</td>\n",
       "      <td>0.071429</td>\n",
       "      <td>0.005639</td>\n",
       "      <td>0.071429</td>\n",
       "      <td>0.006579</td>\n",
       "      <td>0.000000</td>\n",
       "      <td>...</td>\n",
       "      <td>0.027256</td>\n",
       "      <td>0.02381</td>\n",
       "      <td>0.028195</td>\n",
       "      <td>0.00000</td>\n",
       "      <td>0.029135</td>\n",
       "      <td>0.00000</td>\n",
       "      <td>0.030075</td>\n",
       "      <td>0.00000</td>\n",
       "      <td>0.031015</td>\n",
       "      <td>0.0</td>\n",
       "    </tr>\n",
       "    <tr>\n",
       "      <th>34</th>\n",
       "      <td>0.003759</td>\n",
       "      <td>0.000000</td>\n",
       "      <td>0.004699</td>\n",
       "      <td>0.071429</td>\n",
       "      <td>0.005639</td>\n",
       "      <td>0.071429</td>\n",
       "      <td>0.006579</td>\n",
       "      <td>0.000000</td>\n",
       "      <td>0.007519</td>\n",
       "      <td>0.190476</td>\n",
       "      <td>...</td>\n",
       "      <td>0.028195</td>\n",
       "      <td>0.00000</td>\n",
       "      <td>0.029135</td>\n",
       "      <td>0.00000</td>\n",
       "      <td>0.030075</td>\n",
       "      <td>0.00000</td>\n",
       "      <td>0.031015</td>\n",
       "      <td>0.00000</td>\n",
       "      <td>0.031955</td>\n",
       "      <td>0.0</td>\n",
       "    </tr>\n",
       "    <tr>\n",
       "      <th>35</th>\n",
       "      <td>0.004699</td>\n",
       "      <td>0.071429</td>\n",
       "      <td>0.005639</td>\n",
       "      <td>0.071429</td>\n",
       "      <td>0.006579</td>\n",
       "      <td>0.000000</td>\n",
       "      <td>0.007519</td>\n",
       "      <td>0.190476</td>\n",
       "      <td>0.008459</td>\n",
       "      <td>0.047619</td>\n",
       "      <td>...</td>\n",
       "      <td>0.029135</td>\n",
       "      <td>0.00000</td>\n",
       "      <td>0.030075</td>\n",
       "      <td>0.00000</td>\n",
       "      <td>0.031015</td>\n",
       "      <td>0.00000</td>\n",
       "      <td>0.031955</td>\n",
       "      <td>0.00000</td>\n",
       "      <td>0.032895</td>\n",
       "      <td>0.0</td>\n",
       "    </tr>\n",
       "    <tr>\n",
       "      <th>36</th>\n",
       "      <td>0.005639</td>\n",
       "      <td>0.071429</td>\n",
       "      <td>0.006579</td>\n",
       "      <td>0.000000</td>\n",
       "      <td>0.007519</td>\n",
       "      <td>0.190476</td>\n",
       "      <td>0.008459</td>\n",
       "      <td>0.047619</td>\n",
       "      <td>0.009398</td>\n",
       "      <td>0.071429</td>\n",
       "      <td>...</td>\n",
       "      <td>0.030075</td>\n",
       "      <td>0.00000</td>\n",
       "      <td>0.031015</td>\n",
       "      <td>0.00000</td>\n",
       "      <td>0.031955</td>\n",
       "      <td>0.00000</td>\n",
       "      <td>0.032895</td>\n",
       "      <td>0.00000</td>\n",
       "      <td>0.033835</td>\n",
       "      <td>0.0</td>\n",
       "    </tr>\n",
       "    <tr>\n",
       "      <th>37</th>\n",
       "      <td>0.006579</td>\n",
       "      <td>0.000000</td>\n",
       "      <td>0.007519</td>\n",
       "      <td>0.190476</td>\n",
       "      <td>0.008459</td>\n",
       "      <td>0.047619</td>\n",
       "      <td>0.009398</td>\n",
       "      <td>0.071429</td>\n",
       "      <td>0.010338</td>\n",
       "      <td>0.000000</td>\n",
       "      <td>...</td>\n",
       "      <td>0.031015</td>\n",
       "      <td>0.00000</td>\n",
       "      <td>0.031955</td>\n",
       "      <td>0.00000</td>\n",
       "      <td>0.032895</td>\n",
       "      <td>0.00000</td>\n",
       "      <td>0.033835</td>\n",
       "      <td>0.00000</td>\n",
       "      <td>0.034774</td>\n",
       "      <td>0.0</td>\n",
       "    </tr>\n",
       "    <tr>\n",
       "      <th>38</th>\n",
       "      <td>0.007519</td>\n",
       "      <td>0.190476</td>\n",
       "      <td>0.008459</td>\n",
       "      <td>0.047619</td>\n",
       "      <td>0.009398</td>\n",
       "      <td>0.071429</td>\n",
       "      <td>0.010338</td>\n",
       "      <td>0.000000</td>\n",
       "      <td>0.011278</td>\n",
       "      <td>0.000000</td>\n",
       "      <td>...</td>\n",
       "      <td>0.031955</td>\n",
       "      <td>0.00000</td>\n",
       "      <td>0.032895</td>\n",
       "      <td>0.00000</td>\n",
       "      <td>0.033835</td>\n",
       "      <td>0.00000</td>\n",
       "      <td>0.034774</td>\n",
       "      <td>0.00000</td>\n",
       "      <td>0.035714</td>\n",
       "      <td>0.0</td>\n",
       "    </tr>\n",
       "    <tr>\n",
       "      <th>39</th>\n",
       "      <td>0.008459</td>\n",
       "      <td>0.047619</td>\n",
       "      <td>0.009398</td>\n",
       "      <td>0.071429</td>\n",
       "      <td>0.010338</td>\n",
       "      <td>0.000000</td>\n",
       "      <td>0.011278</td>\n",
       "      <td>0.000000</td>\n",
       "      <td>0.012218</td>\n",
       "      <td>0.047619</td>\n",
       "      <td>...</td>\n",
       "      <td>0.032895</td>\n",
       "      <td>0.00000</td>\n",
       "      <td>0.033835</td>\n",
       "      <td>0.00000</td>\n",
       "      <td>0.034774</td>\n",
       "      <td>0.00000</td>\n",
       "      <td>0.035714</td>\n",
       "      <td>0.00000</td>\n",
       "      <td>0.036654</td>\n",
       "      <td>0.0</td>\n",
       "    </tr>\n",
       "  </tbody>\n",
       "</table>\n",
       "<p>10 rows × 62 columns</p>\n",
       "</div>"
      ],
      "text/plain": [
       "    var1(t-30)  var2(t-30)  var1(t-29)  var2(t-29)  var1(t-28)  var2(t-28)  \\\n",
       "30    0.000000    0.071429    0.000940    0.047619    0.001880    0.000000   \n",
       "31    0.000940    0.047619    0.001880    0.000000    0.002820    0.047619   \n",
       "32    0.001880    0.000000    0.002820    0.047619    0.003759    0.000000   \n",
       "33    0.002820    0.047619    0.003759    0.000000    0.004699    0.071429   \n",
       "34    0.003759    0.000000    0.004699    0.071429    0.005639    0.071429   \n",
       "35    0.004699    0.071429    0.005639    0.071429    0.006579    0.000000   \n",
       "36    0.005639    0.071429    0.006579    0.000000    0.007519    0.190476   \n",
       "37    0.006579    0.000000    0.007519    0.190476    0.008459    0.047619   \n",
       "38    0.007519    0.190476    0.008459    0.047619    0.009398    0.071429   \n",
       "39    0.008459    0.047619    0.009398    0.071429    0.010338    0.000000   \n",
       "\n",
       "    var1(t-27)  var2(t-27)  var1(t-26)  var2(t-26)  ...  var1(t-4)  var2(t-4)  \\\n",
       "30    0.002820    0.047619    0.003759    0.000000  ...   0.024436    0.00000   \n",
       "31    0.003759    0.000000    0.004699    0.071429  ...   0.025376    1.00000   \n",
       "32    0.004699    0.071429    0.005639    0.071429  ...   0.026316    0.00000   \n",
       "33    0.005639    0.071429    0.006579    0.000000  ...   0.027256    0.02381   \n",
       "34    0.006579    0.000000    0.007519    0.190476  ...   0.028195    0.00000   \n",
       "35    0.007519    0.190476    0.008459    0.047619  ...   0.029135    0.00000   \n",
       "36    0.008459    0.047619    0.009398    0.071429  ...   0.030075    0.00000   \n",
       "37    0.009398    0.071429    0.010338    0.000000  ...   0.031015    0.00000   \n",
       "38    0.010338    0.000000    0.011278    0.000000  ...   0.031955    0.00000   \n",
       "39    0.011278    0.000000    0.012218    0.047619  ...   0.032895    0.00000   \n",
       "\n",
       "    var1(t-3)  var2(t-3)  var1(t-2)  var2(t-2)  var1(t-1)  var2(t-1)  \\\n",
       "30   0.025376    1.00000   0.026316    0.00000   0.027256    0.02381   \n",
       "31   0.026316    0.00000   0.027256    0.02381   0.028195    0.00000   \n",
       "32   0.027256    0.02381   0.028195    0.00000   0.029135    0.00000   \n",
       "33   0.028195    0.00000   0.029135    0.00000   0.030075    0.00000   \n",
       "34   0.029135    0.00000   0.030075    0.00000   0.031015    0.00000   \n",
       "35   0.030075    0.00000   0.031015    0.00000   0.031955    0.00000   \n",
       "36   0.031015    0.00000   0.031955    0.00000   0.032895    0.00000   \n",
       "37   0.031955    0.00000   0.032895    0.00000   0.033835    0.00000   \n",
       "38   0.032895    0.00000   0.033835    0.00000   0.034774    0.00000   \n",
       "39   0.033835    0.00000   0.034774    0.00000   0.035714    0.00000   \n",
       "\n",
       "     var1(t)  var2(t)  \n",
       "30  0.028195      0.0  \n",
       "31  0.029135      0.0  \n",
       "32  0.030075      0.0  \n",
       "33  0.031015      0.0  \n",
       "34  0.031955      0.0  \n",
       "35  0.032895      0.0  \n",
       "36  0.033835      0.0  \n",
       "37  0.034774      0.0  \n",
       "38  0.035714      0.0  \n",
       "39  0.036654      0.0  \n",
       "\n",
       "[10 rows x 62 columns]"
      ]
     },
     "execution_count": 13,
     "metadata": {},
     "output_type": "execute_result"
    }
   ],
   "source": [
    "reframed.head(10)"
   ]
  },
  {
   "cell_type": "code",
   "execution_count": 14,
   "metadata": {
    "colab": {
     "base_uri": "https://localhost:8080/",
     "height": 158
    },
    "colab_type": "code",
    "id": "WagjZMq5Ns-z",
    "outputId": "1585cfe5-7bba-4457-fdfc-0166fde77266"
   },
   "outputs": [],
   "source": [
    "# drop columns we don't want to predict\n",
    "#reframed.drop(reframed.columns[[9,10,11,12,13,14,15]], axis=1, inplace=True)\n",
    "#print(reframed.head())"
   ]
  },
  {
   "cell_type": "code",
   "execution_count": 15,
   "metadata": {},
   "outputs": [
    {
     "data": {
      "text/plain": [
       "(1035, 62)"
      ]
     },
     "execution_count": 15,
     "metadata": {},
     "output_type": "execute_result"
    }
   ],
   "source": [
    "values = reframed.values\n",
    "values.shape"
   ]
  },
  {
   "cell_type": "markdown",
   "metadata": {
    "colab_type": "text",
    "id": "sZ8QbmhGSJGS"
   },
   "source": [
    "Define and Fit Model"
   ]
  },
  {
   "cell_type": "code",
   "execution_count": 16,
   "metadata": {
    "colab": {},
    "colab_type": "code",
    "id": "YyiJCYceSJtu"
   },
   "outputs": [],
   "source": [
    "import math\n",
    "# split into train and test sets\n",
    "values = reframed.values\n",
    "train_size = math.floor(values.shape[0] *0.6)\n",
    "test_size = math.floor(values.shape[0]*0.2)\n",
    "#n_train_day = 20\n",
    "train = values[:train_size,:]\n",
    "test = values[train_size:(train_size+test_size), :]\n",
    "cross_validation = values[(train_size+test_size):, :]\n",
    "\n"
   ]
  },
  {
   "cell_type": "code",
   "execution_count": 17,
   "metadata": {
    "colab": {},
    "colab_type": "code",
    "id": "g9hUWzEjmc4m"
   },
   "outputs": [
    {
     "name": "stdout",
     "output_type": "stream",
     "text": [
      "(621, 30) 621 (621,)\n"
     ]
    }
   ],
   "source": [
    "# split into input and outputs\n",
    "n_obs = num_lags * num_features\n",
    "train_X, train_y = train[:, :n_obs], train[:, -num_features]\n",
    "test_X, test_y = test[:, :n_obs], test[:, -num_features]\n",
    "cross_X, cross_y = cross_validation[:, :n_obs], cross_validation[:, -num_features]\n",
    "print(train_X.shape, len(train_X), train_y.shape)"
   ]
  },
  {
   "cell_type": "code",
   "execution_count": 18,
   "metadata": {},
   "outputs": [
    {
     "name": "stdout",
     "output_type": "stream",
     "text": [
      "(621, 30) (621,) (207, 30) (207,)\n"
     ]
    }
   ],
   "source": [
    "print(train_X.shape, train_y.shape, test_X.shape, test_y.shape)"
   ]
  },
  {
   "cell_type": "code",
   "execution_count": 19,
   "metadata": {
    "colab": {
     "base_uri": "https://localhost:8080/",
     "height": 34
    },
    "colab_type": "code",
    "id": "hYV1laaimoBu",
    "outputId": "d5c91ea8-68a9-423e-9416-b53f1ce21c3e"
   },
   "outputs": [
    {
     "name": "stdout",
     "output_type": "stream",
     "text": [
      "(621, 30, 1) (621,) (207, 30, 1) (207,)\n"
     ]
    }
   ],
   "source": [
    "# reshape input to be 3D [samples, timesteps, features]\n",
    "train_X = train_X.reshape((train_X.shape[0], num_lags, num_features))\n",
    "test_X = test_X.reshape((test_X.shape[0], num_lags, num_features))\n",
    "cross_X = cross_X.reshape((cross_X.shape[0], num_lags, num_features))\n",
    "print(train_X.shape, train_y.shape, test_X.shape, test_y.shape)"
   ]
  },
  {
   "cell_type": "code",
   "execution_count": null,
   "metadata": {
    "colab": {},
    "colab_type": "code",
    "id": "YeVF2JkmnCly"
   },
   "outputs": [],
   "source": []
  },
  {
   "cell_type": "code",
   "execution_count": 20,
   "metadata": {
    "colab": {},
    "colab_type": "code",
    "id": "2IWqLwmHmt1U"
   },
   "outputs": [],
   "source": [
    "# design network\n",
    "model = Sequential()\n",
    "model.add(LSTM(50, input_shape=(train_X.shape[1], train_X.shape[2])))\n",
    "model.add(Dense(1))\n",
    "model.compile(loss='mae', optimizer='adam')"
   ]
  },
  {
   "cell_type": "code",
   "execution_count": 21,
   "metadata": {
    "colab": {
     "base_uri": "https://localhost:8080/",
     "height": 1000
    },
    "colab_type": "code",
    "id": "475zgG19mzCT",
    "outputId": "d0bacd68-db04-497f-ac4a-b0db54869764"
   },
   "outputs": [
    {
     "name": "stdout",
     "output_type": "stream",
     "text": [
      "Epoch 1/50\n",
      "9/9 - 0s - loss: 0.0092 - val_loss: 0.0070\n",
      "Epoch 2/50\n",
      "9/9 - 0s - loss: 0.0172 - val_loss: 0.0032\n",
      "Epoch 3/50\n",
      "9/9 - 0s - loss: 0.0112 - val_loss: 0.0052\n",
      "Epoch 4/50\n",
      "9/9 - 0s - loss: 0.0152 - val_loss: 0.0117\n",
      "Epoch 5/50\n",
      "9/9 - 0s - loss: 0.0112 - val_loss: 0.0047\n",
      "Epoch 6/50\n",
      "9/9 - 0s - loss: 0.0076 - val_loss: 0.0046\n",
      "Epoch 7/50\n",
      "9/9 - 0s - loss: 0.0132 - val_loss: 0.0053\n",
      "Epoch 8/50\n",
      "9/9 - 0s - loss: 0.0113 - val_loss: 0.0059\n",
      "Epoch 9/50\n",
      "9/9 - 0s - loss: 0.0069 - val_loss: 0.0046\n",
      "Epoch 10/50\n",
      "9/9 - 0s - loss: 0.0131 - val_loss: 0.0118\n",
      "Epoch 11/50\n",
      "9/9 - 0s - loss: 0.0086 - val_loss: 0.0033\n",
      "Epoch 12/50\n",
      "9/9 - 0s - loss: 0.0070 - val_loss: 0.0040\n",
      "Epoch 13/50\n",
      "9/9 - 0s - loss: 0.0071 - val_loss: 0.0037\n",
      "Epoch 14/50\n",
      "9/9 - 0s - loss: 0.0090 - val_loss: 0.0101\n",
      "Epoch 15/50\n",
      "9/9 - 0s - loss: 0.0096 - val_loss: 0.0046\n",
      "Epoch 16/50\n",
      "9/9 - 0s - loss: 0.0117 - val_loss: 0.0062\n",
      "Epoch 17/50\n",
      "9/9 - 0s - loss: 0.0103 - val_loss: 0.0087\n",
      "Epoch 18/50\n",
      "9/9 - 0s - loss: 0.0099 - val_loss: 0.0033\n",
      "Epoch 19/50\n",
      "9/9 - 0s - loss: 0.0066 - val_loss: 0.0040\n",
      "Epoch 20/50\n",
      "9/9 - 0s - loss: 0.0087 - val_loss: 0.0046\n",
      "Epoch 21/50\n",
      "9/9 - 0s - loss: 0.0082 - val_loss: 0.0042\n",
      "Epoch 22/50\n",
      "9/9 - 0s - loss: 0.0087 - val_loss: 0.0063\n",
      "Epoch 23/50\n",
      "9/9 - 0s - loss: 0.0086 - val_loss: 0.0055\n",
      "Epoch 24/50\n",
      "9/9 - 0s - loss: 0.0076 - val_loss: 0.0035\n",
      "Epoch 25/50\n",
      "9/9 - 0s - loss: 0.0085 - val_loss: 0.0053\n",
      "Epoch 26/50\n",
      "9/9 - 0s - loss: 0.0076 - val_loss: 0.0057\n",
      "Epoch 27/50\n",
      "9/9 - 0s - loss: 0.0092 - val_loss: 0.0071\n",
      "Epoch 28/50\n",
      "9/9 - 0s - loss: 0.0128 - val_loss: 0.0049\n",
      "Epoch 29/50\n",
      "9/9 - 0s - loss: 0.0141 - val_loss: 0.0041\n",
      "Epoch 30/50\n",
      "9/9 - 0s - loss: 0.0104 - val_loss: 0.0037\n",
      "Epoch 31/50\n",
      "9/9 - 0s - loss: 0.0106 - val_loss: 0.0052\n",
      "Epoch 32/50\n",
      "9/9 - 0s - loss: 0.0118 - val_loss: 0.0055\n",
      "Epoch 33/50\n",
      "9/9 - 0s - loss: 0.0119 - val_loss: 0.0045\n",
      "Epoch 34/50\n",
      "9/9 - 0s - loss: 0.0092 - val_loss: 0.0064\n",
      "Epoch 35/50\n",
      "9/9 - 0s - loss: 0.0089 - val_loss: 0.0079\n",
      "Epoch 36/50\n",
      "9/9 - 0s - loss: 0.0089 - val_loss: 0.0035\n",
      "Epoch 37/50\n",
      "9/9 - 0s - loss: 0.0073 - val_loss: 0.0036\n",
      "Epoch 38/50\n",
      "9/9 - 0s - loss: 0.0090 - val_loss: 0.0036\n",
      "Epoch 39/50\n",
      "9/9 - 0s - loss: 0.0096 - val_loss: 0.0074\n",
      "Epoch 40/50\n",
      "9/9 - 0s - loss: 0.0095 - val_loss: 0.0072\n",
      "Epoch 41/50\n",
      "9/9 - 0s - loss: 0.0078 - val_loss: 0.0041\n",
      "Epoch 42/50\n",
      "9/9 - 0s - loss: 0.0096 - val_loss: 0.0032\n",
      "Epoch 43/50\n",
      "9/9 - 0s - loss: 0.0095 - val_loss: 0.0057\n",
      "Epoch 44/50\n",
      "9/9 - 0s - loss: 0.0087 - val_loss: 0.0075\n",
      "Epoch 45/50\n",
      "9/9 - 0s - loss: 0.0079 - val_loss: 0.0053\n",
      "Epoch 46/50\n",
      "9/9 - 0s - loss: 0.0067 - val_loss: 0.0034\n",
      "Epoch 47/50\n",
      "9/9 - 0s - loss: 0.0082 - val_loss: 0.0032\n",
      "Epoch 48/50\n",
      "9/9 - 0s - loss: 0.0082 - val_loss: 0.0042\n",
      "Epoch 49/50\n",
      "9/9 - 0s - loss: 0.0095 - val_loss: 0.0054\n",
      "Epoch 50/50\n",
      "9/9 - 0s - loss: 0.0066 - val_loss: 0.0043\n"
     ]
    }
   ],
   "source": [
    "# fit network\n",
    "history = model.fit(train_X, train_y, epochs=50, batch_size=72, validation_data=(test_X, test_y), verbose=2, shuffle=False)"
   ]
  },
  {
   "cell_type": "code",
   "execution_count": 22,
   "metadata": {
    "colab": {
     "base_uri": "https://localhost:8080/",
     "height": 265
    },
    "colab_type": "code",
    "id": "Jmzc613YrrQx",
    "outputId": "796c8ab3-14bb-4080-f2f3-23dfa051e8cb"
   },
   "outputs": [
    {
     "data": {
      "image/png": "[encoded data removed]",
      "text/plain": [
       "<Figure size 432x288 with 1 Axes>"
      ]
     },
     "metadata": {
      "needs_background": "light"
     },
     "output_type": "display_data"
    }
   ],
   "source": [
    "# plot history\n",
    "pyplot.plot(history.history['loss'], label='train')\n",
    "pyplot.plot(history.history['val_loss'], label='test')\n",
    "pyplot.legend()\n",
    "pyplot.show()"
   ]
  },
  {
   "cell_type": "markdown",
   "metadata": {
    "colab_type": "text",
    "id": "xP-ECOJur6B4"
   },
   "source": [
    "Evaluate Model"
   ]
  },
  {
   "cell_type": "code",
   "execution_count": 23,
   "metadata": {
    "colab": {},
    "colab_type": "code",
    "id": "16emzgM3r2VX"
   },
   "outputs": [],
   "source": [
    "# make a prediction\n",
    "yhat = model.predict(test_X)\n",
    "test_X = test_X.reshape((test_X.shape[0], num_lags*num_features))"
   ]
  },
  {
   "cell_type": "code",
   "execution_count": 24,
   "metadata": {
    "colab": {},
    "colab_type": "code",
    "id": "FkJXlfAfr-YI"
   },
   "outputs": [
    {
     "name": "stdout",
     "output_type": "stream",
     "text": [
      "(207, 2)\n"
     ]
    }
   ],
   "source": [
    "from numpy import concatenate\n",
    "# invert scaling for forecast\n",
    "inv_yhat = concatenate((yhat, test_X[:, -1:]), axis=1)\n",
    "print(inv_yhat.shape)\n"
   ]
  },
  {
   "cell_type": "code",
   "execution_count": 25,
   "metadata": {},
   "outputs": [],
   "source": [
    "inv_yhat = scaler.inverse_transform(inv_yhat)\n",
    "inv_yhat = inv_yhat[:,0]"
   ]
  },
  {
   "cell_type": "code",
   "execution_count": 26,
   "metadata": {
    "colab": {},
    "colab_type": "code",
    "id": "txuSFMS9sBVV"
   },
   "outputs": [],
   "source": [
    "# invert scaling for actual\n",
    "test_y = test_y.reshape((len(test_y), 1))\n",
    "inv_y = concatenate((test_y, test_X[:, -1:]), axis=1)\n",
    "inv_y = scaler.inverse_transform(inv_y)\n",
    "inv_y = inv_y[:,0]"
   ]
  },
  {
   "cell_type": "code",
   "execution_count": 27,
   "metadata": {
    "colab": {
     "base_uri": "https://localhost:8080/",
     "height": 34
    },
    "colab_type": "code",
    "id": "SIpa8VwrsWqf",
    "outputId": "59519f44-9ee3-4bfe-99f5-1a2014f6ad4e"
   },
   "outputs": [
    {
     "name": "stdout",
     "output_type": "stream",
     "text": [
      "Test RMSE: 21.910\n"
     ]
    }
   ],
   "source": [
    "from math import sqrt\n",
    "from sklearn.metrics import mean_squared_error\n",
    "# calculate RMSE\n",
    "rmse = sqrt(mean_squared_error(inv_y, inv_yhat))\n",
    "print('Test RMSE: %.3f' % rmse)"
   ]
  },
  {
   "cell_type": "code",
   "execution_count": 28,
   "metadata": {
    "colab": {},
    "colab_type": "code",
    "id": "F-PMOzoKsgfS"
   },
   "outputs": [],
   "source": [
    "rmse = rmse* (1/100)"
   ]
  },
  {
   "cell_type": "code",
   "execution_count": 29,
   "metadata": {},
   "outputs": [
    {
     "name": "stdout",
     "output_type": "stream",
     "text": [
      "Test RMSE: 0.219\n"
     ]
    }
   ],
   "source": [
    "print('Test RMSE: %.3f' % rmse)"
   ]
  },
  {
   "cell_type": "code",
   "execution_count": 30,
   "metadata": {},
   "outputs": [],
   "source": [
    "#save model\n",
    "model.save(\"./model.h5\")"
   ]
  },
  {
   "cell_type": "code",
   "execution_count": 31,
   "metadata": {},
   "outputs": [
    {
     "name": "stdout",
     "output_type": "stream",
     "text": [
      "Model: \"sequential\"\n",
      "_________________________________________________________________\n",
      "Layer (type)                 Output Shape              Param #   \n",
      "=================================================================\n",
      "lstm (LSTM)                  (None, 50)                10400     \n",
      "_________________________________________________________________\n",
      "dense (Dense)                (None, 1)                 51        \n",
      "=================================================================\n",
      "Total params: 10,451\n",
      "Trainable params: 10,451\n",
      "Non-trainable params: 0\n",
      "_________________________________________________________________\n"
     ]
    }
   ],
   "source": [
    "from keras.models import load_model\n",
    "# load model\n",
    "model = load_model('model.h5')\n",
    "# summarize model.\n",
    "model.summary()"
   ]
  },
  {
   "cell_type": "code",
   "execution_count": 32,
   "metadata": {},
   "outputs": [],
   "source": [
    "cross_validation\n",
    "yhat = model.predict(cross_X)\n"
   ]
  },
  {
   "cell_type": "code",
   "execution_count": 33,
   "metadata": {},
   "outputs": [
    {
     "data": {
      "text/plain": [
       "array([[-0.00207534],\n",
       "       [-0.00208285],\n",
       "       [-0.00209037],\n",
       "       [-0.00209791],\n",
       "       [-0.00210546],\n",
       "       [-0.00211301],\n",
       "       [-0.00212057],\n",
       "       [-0.00212815],\n",
       "       [-0.00213573],\n",
       "       [-0.00214333],\n",
       "       [-0.00215094],\n",
       "       [-0.00215856],\n",
       "       [-0.00216618],\n",
       "       [-0.00217381],\n",
       "       [-0.00218147],\n",
       "       [-0.00218913],\n",
       "       [-0.00219679],\n",
       "       [-0.00220446],\n",
       "       [-0.00221216],\n",
       "       [-0.00221986],\n",
       "       [-0.00222756],\n",
       "       [-0.00223528],\n",
       "       [-0.00224301],\n",
       "       [-0.00225075],\n",
       "       [-0.0022585 ],\n",
       "       [-0.00226626],\n",
       "       [-0.00227403],\n",
       "       [-0.00228182],\n",
       "       [-0.00228962],\n",
       "       [-0.00229741],\n",
       "       [-0.00230522],\n",
       "       [-0.00231305],\n",
       "       [-0.00232087],\n",
       "       [-0.00232871],\n",
       "       [-0.00233656],\n",
       "       [-0.00234443],\n",
       "       [-0.00235231],\n",
       "       [-0.00236019],\n",
       "       [-0.00236808],\n",
       "       [-0.00237598],\n",
       "       [-0.00238389],\n",
       "       [-0.00239183],\n",
       "       [-0.00239976],\n",
       "       [-0.0024077 ],\n",
       "       [-0.00241566],\n",
       "       [-0.00242362],\n",
       "       [-0.00243159],\n",
       "       [-0.00243959],\n",
       "       [-0.00244758],\n",
       "       [-0.00245558],\n",
       "       [-0.00246361],\n",
       "       [-0.00247163],\n",
       "       [-0.00247966],\n",
       "       [-0.00248771],\n",
       "       [-0.00249576],\n",
       "       [-0.00250383],\n",
       "       [-0.00251192],\n",
       "       [-0.00252   ],\n",
       "       [-0.0025281 ],\n",
       "       [-0.00253621],\n",
       "       [-0.00254433],\n",
       "       [-0.00255245],\n",
       "       [-0.00256059],\n",
       "       [-0.00256874],\n",
       "       [-0.0025769 ],\n",
       "       [-0.00258506],\n",
       "       [-0.00259325],\n",
       "       [-0.00260144],\n",
       "       [-0.00260964],\n",
       "       [-0.00261784],\n",
       "       [-0.00262606],\n",
       "       [-0.0026343 ],\n",
       "       [-0.00264254],\n",
       "       [-0.00265078],\n",
       "       [-0.00265904],\n",
       "       [-0.00266731],\n",
       "       [-0.0026756 ],\n",
       "       [-0.00268389],\n",
       "       [-0.00269219],\n",
       "       [-0.00270049],\n",
       "       [-0.0027088 ],\n",
       "       [-0.00271715],\n",
       "       [-0.00272549],\n",
       "       [-0.00273384],\n",
       "       [-0.0027422 ],\n",
       "       [-0.00275056],\n",
       "       [-0.00275896],\n",
       "       [-0.00276734],\n",
       "       [-0.00277575],\n",
       "       [-0.00278415],\n",
       "       [-0.00279258],\n",
       "       [-0.00280101],\n",
       "       [-0.00280946],\n",
       "       [-0.0028179 ],\n",
       "       [-0.00282636],\n",
       "       [-0.00283483],\n",
       "       [-0.00284332],\n",
       "       [-0.00285181],\n",
       "       [-0.00286031],\n",
       "       [-0.00286883],\n",
       "       [-0.00287736],\n",
       "       [-0.00288589],\n",
       "       [-0.00289442],\n",
       "       [-0.00290298],\n",
       "       [-0.00291154],\n",
       "       [-0.00292012],\n",
       "       [-0.0029287 ],\n",
       "       [-0.00293729],\n",
       "       [-0.00294589],\n",
       "       [-0.0029545 ],\n",
       "       [-0.00296314],\n",
       "       [-0.00297176],\n",
       "       [-0.00298041],\n",
       "       [-0.00298906],\n",
       "       [-0.00299772],\n",
       "       [-0.0030064 ],\n",
       "       [-0.00301507],\n",
       "       [-0.00302377],\n",
       "       [-0.00303247],\n",
       "       [-0.00304119],\n",
       "       [-0.00304991],\n",
       "       [-0.00305864],\n",
       "       [-0.00306738],\n",
       "       [-0.00307614],\n",
       "       [-0.0030849 ],\n",
       "       [-0.00309367],\n",
       "       [-0.00310246],\n",
       "       [-0.00311125],\n",
       "       [-0.00312005],\n",
       "       [-0.00312886],\n",
       "       [-0.00313769],\n",
       "       [-0.00314651],\n",
       "       [-0.00315536],\n",
       "       [-0.00316422],\n",
       "       [-0.00317308],\n",
       "       [-0.00318196],\n",
       "       [-0.00319083],\n",
       "       [-0.00319973],\n",
       "       [-0.00320863],\n",
       "       [-0.00321755],\n",
       "       [-0.00322645],\n",
       "       [-0.0032354 ],\n",
       "       [-0.00324434],\n",
       "       [-0.00325329],\n",
       "       [-0.00326226],\n",
       "       [-0.00327123],\n",
       "       [-0.00328021],\n",
       "       [-0.0032892 ],\n",
       "       [-0.0032982 ],\n",
       "       [-0.00330721],\n",
       "       [-0.00331624],\n",
       "       [-0.00332527],\n",
       "       [-0.00333431],\n",
       "       [-0.00334336],\n",
       "       [-0.00335243],\n",
       "       [-0.00336149],\n",
       "       [-0.00337057],\n",
       "       [-0.00337967],\n",
       "       [-0.00338877],\n",
       "       [-0.00339787],\n",
       "       [-0.003407  ],\n",
       "       [-0.00341613],\n",
       "       [-0.00342527],\n",
       "       [-0.00343442],\n",
       "       [-0.00344358],\n",
       "       [-0.00345274],\n",
       "       [-0.00346193],\n",
       "       [-0.00347112],\n",
       "       [-0.00348031],\n",
       "       [-0.00348953],\n",
       "       [-0.00349874],\n",
       "       [-0.00350798],\n",
       "       [-0.00351722],\n",
       "       [-0.00352646],\n",
       "       [-0.00353573],\n",
       "       [-0.00354499],\n",
       "       [-0.00355427],\n",
       "       [-0.00356356],\n",
       "       [-0.00357286],\n",
       "       [-0.00358217],\n",
       "       [-0.00359148],\n",
       "       [-0.00360081],\n",
       "       [-0.00361014],\n",
       "       [-0.0036195 ],\n",
       "       [-0.00362885],\n",
       "       [-0.00363822],\n",
       "       [-0.0036476 ],\n",
       "       [-0.00365698],\n",
       "       [-0.00366638],\n",
       "       [-0.00367579],\n",
       "       [-0.0036852 ],\n",
       "       [-0.00369463],\n",
       "       [-0.00370406],\n",
       "       [-0.00371351],\n",
       "       [-0.00372297],\n",
       "       [-0.00373242],\n",
       "       [-0.0037419 ],\n",
       "       [-0.00375139],\n",
       "       [-0.00376088],\n",
       "       [-0.00377038],\n",
       "       [-0.0037799 ],\n",
       "       [-0.00378942],\n",
       "       [-0.00379895],\n",
       "       [-0.0038085 ],\n",
       "       [-0.00381806],\n",
       "       [-0.00382762],\n",
       "       [-0.00383719]], dtype=float32)"
      ]
     },
     "execution_count": 33,
     "metadata": {},
     "output_type": "execute_result"
    }
   ],
   "source": [
    "yhat"
   ]
  },
  {
   "cell_type": "code",
   "execution_count": 34,
   "metadata": {},
   "outputs": [],
   "source": [
    "#cross_validation.to_csv(\"cross.csv\")"
   ]
  },
  {
   "cell_type": "code",
   "execution_count": 35,
   "metadata": {},
   "outputs": [],
   "source": [
    "import pandas\n",
    "df = pandas.DataFrame(cross_validation)"
   ]
  },
  {
   "cell_type": "code",
   "execution_count": 36,
   "metadata": {},
   "outputs": [],
   "source": [
    "df.to_csv('~/work/Data/test.csv')"
   ]
  },
  {
   "cell_type": "code",
   "execution_count": 37,
   "metadata": {},
   "outputs": [
    {
     "data": {
      "text/plain": [
       "(207, 30, 1)"
      ]
     },
     "execution_count": 37,
     "metadata": {},
     "output_type": "execute_result"
    }
   ],
   "source": [
    "cross_X.shape"
   ]
  },
  {
   "cell_type": "code",
   "execution_count": 38,
   "metadata": {},
   "outputs": [
    {
     "name": "stdout",
     "output_type": "stream",
     "text": [
      "(207, 2)\n"
     ]
    }
   ],
   "source": [
    "cross_X = cross_X.reshape((cross_X.shape[0], num_lags*num_features))\n",
    "from numpy import concatenate\n",
    "# invert scaling for forecast\n",
    "inv_yhat = concatenate((yhat, cross_X[:, -1:]), axis=1)\n",
    "print(inv_yhat.shape)\n"
   ]
  },
  {
   "cell_type": "code",
   "execution_count": 39,
   "metadata": {},
   "outputs": [
    {
     "data": {
      "text/plain": [
       "array([[-0.00207534,  0.        ],\n",
       "       [-0.00208285,  0.        ],\n",
       "       [-0.00209037,  0.        ],\n",
       "       [-0.00209791,  0.        ],\n",
       "       [-0.00210546,  0.        ],\n",
       "       [-0.00211301,  0.        ],\n",
       "       [-0.00212057,  0.        ],\n",
       "       [-0.00212815,  0.        ],\n",
       "       [-0.00213573,  0.        ],\n",
       "       [-0.00214333,  0.        ],\n",
       "       [-0.00215094,  0.        ],\n",
       "       [-0.00215856,  0.        ],\n",
       "       [-0.00216618,  0.        ],\n",
       "       [-0.00217381,  0.        ],\n",
       "       [-0.00218147,  0.        ],\n",
       "       [-0.00218913,  0.        ],\n",
       "       [-0.00219679,  0.        ],\n",
       "       [-0.00220446,  0.        ],\n",
       "       [-0.00221216,  0.        ],\n",
       "       [-0.00221986,  0.        ],\n",
       "       [-0.00222756,  0.        ],\n",
       "       [-0.00223528,  0.        ],\n",
       "       [-0.00224301,  0.        ],\n",
       "       [-0.00225075,  0.        ],\n",
       "       [-0.0022585 ,  0.        ],\n",
       "       [-0.00226626,  0.        ],\n",
       "       [-0.00227403,  0.        ],\n",
       "       [-0.00228182,  0.        ],\n",
       "       [-0.00228962,  0.        ],\n",
       "       [-0.00229741,  0.        ],\n",
       "       [-0.00230522,  0.        ],\n",
       "       [-0.00231305,  0.        ],\n",
       "       [-0.00232087,  0.        ],\n",
       "       [-0.00232871,  0.        ],\n",
       "       [-0.00233656,  0.        ],\n",
       "       [-0.00234443,  0.        ],\n",
       "       [-0.00235231,  0.        ],\n",
       "       [-0.00236019,  0.        ],\n",
       "       [-0.00236808,  0.        ],\n",
       "       [-0.00237598,  0.        ],\n",
       "       [-0.00238389,  0.        ],\n",
       "       [-0.00239183,  0.        ],\n",
       "       [-0.00239976,  0.        ],\n",
       "       [-0.0024077 ,  0.        ],\n",
       "       [-0.00241566,  0.        ],\n",
       "       [-0.00242362,  0.        ],\n",
       "       [-0.00243159,  0.        ],\n",
       "       [-0.00243959,  0.        ],\n",
       "       [-0.00244758,  0.        ],\n",
       "       [-0.00245558,  0.        ],\n",
       "       [-0.00246361,  0.        ],\n",
       "       [-0.00247163,  0.        ],\n",
       "       [-0.00247966,  0.        ],\n",
       "       [-0.00248771,  0.        ],\n",
       "       [-0.00249576,  0.        ],\n",
       "       [-0.00250383,  0.        ],\n",
       "       [-0.00251192,  0.        ],\n",
       "       [-0.00252   ,  0.        ],\n",
       "       [-0.0025281 ,  0.        ],\n",
       "       [-0.00253621,  0.        ],\n",
       "       [-0.00254433,  0.        ],\n",
       "       [-0.00255245,  0.        ],\n",
       "       [-0.00256059,  0.        ],\n",
       "       [-0.00256874,  0.        ],\n",
       "       [-0.0025769 ,  0.        ],\n",
       "       [-0.00258506,  0.        ],\n",
       "       [-0.00259325,  0.        ],\n",
       "       [-0.00260144,  0.        ],\n",
       "       [-0.00260964,  0.        ],\n",
       "       [-0.00261784,  0.        ],\n",
       "       [-0.00262606,  0.        ],\n",
       "       [-0.0026343 ,  0.        ],\n",
       "       [-0.00264254,  0.        ],\n",
       "       [-0.00265078,  0.        ],\n",
       "       [-0.00265904,  0.        ],\n",
       "       [-0.00266731,  0.        ],\n",
       "       [-0.0026756 ,  0.        ],\n",
       "       [-0.00268389,  0.        ],\n",
       "       [-0.00269219,  0.        ],\n",
       "       [-0.00270049,  0.        ],\n",
       "       [-0.0027088 ,  0.        ],\n",
       "       [-0.00271715,  0.        ],\n",
       "       [-0.00272549,  0.        ],\n",
       "       [-0.00273384,  0.        ],\n",
       "       [-0.0027422 ,  0.        ],\n",
       "       [-0.00275056,  0.        ],\n",
       "       [-0.00275896,  0.        ],\n",
       "       [-0.00276734,  0.        ],\n",
       "       [-0.00277575,  0.        ],\n",
       "       [-0.00278415,  0.        ],\n",
       "       [-0.00279258,  0.        ],\n",
       "       [-0.00280101,  0.        ],\n",
       "       [-0.00280946,  0.        ],\n",
       "       [-0.0028179 ,  0.        ],\n",
       "       [-0.00282636,  0.        ],\n",
       "       [-0.00283483,  0.        ],\n",
       "       [-0.00284332,  0.        ],\n",
       "       [-0.00285181,  0.        ],\n",
       "       [-0.00286031,  0.        ],\n",
       "       [-0.00286883,  0.        ],\n",
       "       [-0.00287736,  0.        ],\n",
       "       [-0.00288589,  0.        ],\n",
       "       [-0.00289442,  0.        ],\n",
       "       [-0.00290298,  0.        ],\n",
       "       [-0.00291154,  0.        ],\n",
       "       [-0.00292012,  0.        ],\n",
       "       [-0.0029287 ,  0.        ],\n",
       "       [-0.00293729,  0.        ],\n",
       "       [-0.00294589,  0.        ],\n",
       "       [-0.0029545 ,  0.        ],\n",
       "       [-0.00296314,  0.        ],\n",
       "       [-0.00297176,  0.        ],\n",
       "       [-0.00298041,  0.        ],\n",
       "       [-0.00298906,  0.        ],\n",
       "       [-0.00299772,  0.        ],\n",
       "       [-0.0030064 ,  0.        ],\n",
       "       [-0.00301507,  0.        ],\n",
       "       [-0.00302377,  0.        ],\n",
       "       [-0.00303247,  0.        ],\n",
       "       [-0.00304119,  0.        ],\n",
       "       [-0.00304991,  0.        ],\n",
       "       [-0.00305864,  0.        ],\n",
       "       [-0.00306738,  0.        ],\n",
       "       [-0.00307614,  0.        ],\n",
       "       [-0.0030849 ,  0.        ],\n",
       "       [-0.00309367,  0.        ],\n",
       "       [-0.00310246,  0.        ],\n",
       "       [-0.00311125,  0.        ],\n",
       "       [-0.00312005,  0.        ],\n",
       "       [-0.00312886,  0.        ],\n",
       "       [-0.00313769,  0.        ],\n",
       "       [-0.00314651,  0.        ],\n",
       "       [-0.00315536,  0.        ],\n",
       "       [-0.00316422,  0.        ],\n",
       "       [-0.00317308,  0.        ],\n",
       "       [-0.00318196,  0.        ],\n",
       "       [-0.00319083,  0.        ],\n",
       "       [-0.00319973,  0.        ],\n",
       "       [-0.00320863,  0.        ],\n",
       "       [-0.00321755,  0.        ],\n",
       "       [-0.00322645,  0.        ],\n",
       "       [-0.0032354 ,  0.        ],\n",
       "       [-0.00324434,  0.        ],\n",
       "       [-0.00325329,  0.        ],\n",
       "       [-0.00326226,  0.        ],\n",
       "       [-0.00327123,  0.        ],\n",
       "       [-0.00328021,  0.        ],\n",
       "       [-0.0032892 ,  0.        ],\n",
       "       [-0.0032982 ,  0.        ],\n",
       "       [-0.00330721,  0.        ],\n",
       "       [-0.00331624,  0.        ],\n",
       "       [-0.00332527,  0.        ],\n",
       "       [-0.00333431,  0.        ],\n",
       "       [-0.00334336,  0.        ],\n",
       "       [-0.00335243,  0.        ],\n",
       "       [-0.00336149,  0.        ],\n",
       "       [-0.00337057,  0.        ],\n",
       "       [-0.00337967,  0.        ],\n",
       "       [-0.00338877,  0.        ],\n",
       "       [-0.00339787,  0.        ],\n",
       "       [-0.003407  ,  0.        ],\n",
       "       [-0.00341613,  0.        ],\n",
       "       [-0.00342527,  0.        ],\n",
       "       [-0.00343442,  0.        ],\n",
       "       [-0.00344358,  0.        ],\n",
       "       [-0.00345274,  0.        ],\n",
       "       [-0.00346193,  0.        ],\n",
       "       [-0.00347112,  0.        ],\n",
       "       [-0.00348031,  0.        ],\n",
       "       [-0.00348953,  0.        ],\n",
       "       [-0.00349874,  0.        ],\n",
       "       [-0.00350798,  0.        ],\n",
       "       [-0.00351722,  0.        ],\n",
       "       [-0.00352646,  0.        ],\n",
       "       [-0.00353573,  0.        ],\n",
       "       [-0.00354499,  0.        ],\n",
       "       [-0.00355427,  0.        ],\n",
       "       [-0.00356356,  0.        ],\n",
       "       [-0.00357286,  0.        ],\n",
       "       [-0.00358217,  0.        ],\n",
       "       [-0.00359148,  0.        ],\n",
       "       [-0.00360081,  0.        ],\n",
       "       [-0.00361014,  0.        ],\n",
       "       [-0.0036195 ,  0.        ],\n",
       "       [-0.00362885,  0.        ],\n",
       "       [-0.00363822,  0.        ],\n",
       "       [-0.0036476 ,  0.        ],\n",
       "       [-0.00365698,  0.        ],\n",
       "       [-0.00366638,  0.        ],\n",
       "       [-0.00367579,  0.        ],\n",
       "       [-0.0036852 ,  0.        ],\n",
       "       [-0.00369463,  0.        ],\n",
       "       [-0.00370406,  0.        ],\n",
       "       [-0.00371351,  0.        ],\n",
       "       [-0.00372297,  0.        ],\n",
       "       [-0.00373242,  0.        ],\n",
       "       [-0.0037419 ,  0.        ],\n",
       "       [-0.00375139,  0.        ],\n",
       "       [-0.00376088,  0.        ],\n",
       "       [-0.00377038,  0.        ],\n",
       "       [-0.0037799 ,  0.        ],\n",
       "       [-0.00378942,  0.        ],\n",
       "       [-0.00379895,  0.        ],\n",
       "       [-0.0038085 ,  0.        ],\n",
       "       [-0.00381806,  0.        ],\n",
       "       [-0.00382762,  0.        ],\n",
       "       [-0.00383719,  0.        ]], dtype=float32)"
      ]
     },
     "execution_count": 39,
     "metadata": {},
     "output_type": "execute_result"
    }
   ],
   "source": [
    "inv_yhat"
   ]
  },
  {
   "cell_type": "code",
   "execution_count": 40,
   "metadata": {},
   "outputs": [],
   "source": [
    "inv_yhat = scaler.inverse_transform(inv_yhat)\n",
    "inv_yhat = inv_yhat[:,0]"
   ]
  },
  {
   "cell_type": "code",
   "execution_count": 41,
   "metadata": {},
   "outputs": [
    {
     "data": {
      "text/plain": [
       "array([-2.2081568, -2.2161567, -2.224158 , -2.2321794, -2.240205 ,\n",
       "       -2.2482426, -2.2562902, -2.2643497, -2.2724202, -2.2805047,\n",
       "       -2.2885969, -2.2967033, -2.3048117, -2.3129318, -2.3210802,\n",
       "       -2.3292334, -2.3373804, -2.3455484, -2.3537352, -2.3619263,\n",
       "       -2.3701267, -2.378341 , -2.386561 , -2.394803 , -2.4030423,\n",
       "       -2.411299 , -2.4195697, -2.4278545, -2.4361506, -2.444439 ,\n",
       "       -2.4527535, -2.4610808, -2.4694088, -2.4777508, -2.4860992,\n",
       "       -2.494474 , -2.502857 , -2.5112412, -2.5196347, -2.5280445,\n",
       "       -2.5364625, -2.5449038, -2.553348 , -2.5617948, -2.5702622,\n",
       "       -2.5787349, -2.5872157, -2.5957203, -2.6042213, -2.6127408,\n",
       "       -2.6212797, -2.6298163, -2.6383595, -2.646923 , -2.6554914,\n",
       "       -2.6640792, -2.672679 , -2.6812801, -2.6898932, -2.6985285,\n",
       "       -2.7071679, -2.7158036, -2.7244718, -2.7331436, -2.7418199,\n",
       "       -2.7505088, -2.7592163, -2.7679305, -2.7766545, -2.7853835,\n",
       "       -2.7941313, -2.8028915, -2.811661 , -2.8204327, -2.8292217,\n",
       "       -2.838013 , -2.8468363, -2.855658 , -2.8644874, -2.8733206,\n",
       "       -2.8821645, -2.8910422, -2.8999183, -2.9088004, -2.9177053,\n",
       "       -2.9266007, -2.9355295, -2.9444497, -2.9533985, -2.9623387,\n",
       "       -2.9713075, -2.9802723, -2.9892669, -2.9982507, -3.0072482,\n",
       "       -3.0162625, -3.0252948, -3.0343301, -3.0433745, -3.052432 ,\n",
       "       -3.0615094, -3.0705845, -3.0796664, -3.0887735, -3.0978787,\n",
       "       -3.107008 , -3.1161387, -3.1252756, -3.1344242, -3.143593 ,\n",
       "       -3.152779 , -3.1619556, -3.1711576, -3.1803563, -3.1895778,\n",
       "       -3.1988072, -3.2080371, -3.2172914, -3.2265506, -3.2358224,\n",
       "       -3.245108 , -3.2543886, -3.263694 , -3.2730112, -3.2823374,\n",
       "       -3.291668 , -3.301017 , -3.3103733, -3.3197377, -3.3291109,\n",
       "       -3.3384995, -3.3478916, -3.3573043, -3.3667333, -3.3761547,\n",
       "       -3.385601 , -3.3950472, -3.4045076, -3.4139776, -3.423474 ,\n",
       "       -3.4329438, -3.4424675, -3.4519758, -3.4615033, -3.4710395,\n",
       "       -3.480585 , -3.4901485, -3.4997125, -3.5092876, -3.5188694,\n",
       "       -3.5284789, -3.5380821, -3.5477047, -3.557338 , -3.5669806,\n",
       "       -3.5766249, -3.5862818, -3.5959694, -3.6056523, -3.6153343,\n",
       "       -3.6250465, -3.634757 , -3.6444871, -3.6542268, -3.663965 ,\n",
       "       -3.6737192, -3.6834903, -3.6932676, -3.703055 , -3.712855 ,\n",
       "       -3.7226632, -3.7324872, -3.742325 , -3.7521496, -3.7620146,\n",
       "       -3.77187  , -3.7817388, -3.7916243, -3.8015177, -3.8114254,\n",
       "       -3.821336 , -3.8312662, -3.8411913, -3.8511477, -3.8610919,\n",
       "       -3.8710685, -3.8810432, -3.8910308, -3.9010289, -3.9110408,\n",
       "       -3.9210536, -3.93109  , -3.941118 , -3.9511776, -3.9612389,\n",
       "       -3.9712992, -3.9813826, -3.9914758, -4.0015764, -4.0116887,\n",
       "       -4.0218143, -4.0319476, -4.042086 , -4.052249 , -4.062411 ,\n",
       "       -4.0725865, -4.08277  ], dtype=float32)"
      ]
     },
     "execution_count": 41,
     "metadata": {},
     "output_type": "execute_result"
    }
   ],
   "source": [
    "inv_yhat"
   ]
  },
  {
   "cell_type": "code",
   "execution_count": 42,
   "metadata": {},
   "outputs": [
    {
     "name": "stdout",
     "output_type": "stream",
     "text": [
      "(585, 90) 585 (585,)\n",
      "(585, 90, 1) (585,) (195, 90, 1) (195,)\n",
      "Epoch 1/50\n",
      "9/9 - 0s - loss: 0.0101 - val_loss: 0.0053\n",
      "Epoch 2/50\n",
      "9/9 - 0s - loss: 0.0190 - val_loss: 0.0059\n",
      "Epoch 3/50\n",
      "9/9 - 0s - loss: 0.0134 - val_loss: 0.0036\n",
      "Epoch 4/50\n",
      "9/9 - 0s - loss: 0.0097 - val_loss: 0.0095\n",
      "Epoch 5/50\n",
      "9/9 - 0s - loss: 0.0146 - val_loss: 0.0098\n",
      "Epoch 6/50\n",
      "9/9 - 0s - loss: 0.0075 - val_loss: 0.0042\n",
      "Epoch 7/50\n",
      "9/9 - 0s - loss: 0.0081 - val_loss: 0.0063\n",
      "Epoch 8/50\n",
      "9/9 - 0s - loss: 0.0105 - val_loss: 0.0063\n",
      "Epoch 9/50\n",
      "9/9 - 0s - loss: 0.0099 - val_loss: 0.0055\n",
      "Epoch 10/50\n",
      "9/9 - 0s - loss: 0.0078 - val_loss: 0.0058\n",
      "Epoch 11/50\n",
      "9/9 - 0s - loss: 0.0107 - val_loss: 0.0047\n",
      "Epoch 12/50\n",
      "9/9 - 0s - loss: 0.0101 - val_loss: 0.0048\n",
      "Epoch 13/50\n",
      "9/9 - 0s - loss: 0.0096 - val_loss: 0.0076\n",
      "Epoch 14/50\n",
      "9/9 - 0s - loss: 0.0103 - val_loss: 0.0060\n",
      "Epoch 15/50\n",
      "9/9 - 0s - loss: 0.0093 - val_loss: 0.0044\n",
      "Epoch 16/50\n",
      "9/9 - 0s - loss: 0.0088 - val_loss: 0.0063\n",
      "Epoch 17/50\n",
      "9/9 - 0s - loss: 0.0114 - val_loss: 0.0054\n",
      "Epoch 18/50\n",
      "9/9 - 0s - loss: 0.0158 - val_loss: 0.0061\n",
      "Epoch 19/50\n",
      "9/9 - 0s - loss: 0.0159 - val_loss: 0.0108\n",
      "Epoch 20/50\n",
      "9/9 - 0s - loss: 0.0105 - val_loss: 0.0053\n",
      "Epoch 21/50\n",
      "9/9 - 0s - loss: 0.0128 - val_loss: 0.0054\n",
      "Epoch 22/50\n",
      "9/9 - 0s - loss: 0.0098 - val_loss: 0.0045\n",
      "Epoch 23/50\n",
      "9/9 - 0s - loss: 0.0076 - val_loss: 0.0034\n",
      "Epoch 24/50\n",
      "9/9 - 0s - loss: 0.0074 - val_loss: 0.0034\n",
      "Epoch 25/50\n",
      "9/9 - 0s - loss: 0.0073 - val_loss: 0.0032\n",
      "Epoch 26/50\n",
      "9/9 - 0s - loss: 0.0081 - val_loss: 0.0066\n",
      "Epoch 27/50\n",
      "9/9 - 0s - loss: 0.0080 - val_loss: 0.0049\n",
      "Epoch 28/50\n",
      "9/9 - 0s - loss: 0.0069 - val_loss: 0.0033\n",
      "Epoch 29/50\n",
      "9/9 - 0s - loss: 0.0071 - val_loss: 0.0035\n",
      "Epoch 30/50\n",
      "9/9 - 0s - loss: 0.0083 - val_loss: 0.0087\n",
      "Epoch 31/50\n",
      "9/9 - 0s - loss: 0.0097 - val_loss: 0.0037\n",
      "Epoch 32/50\n",
      "9/9 - 0s - loss: 0.0094 - val_loss: 0.0048\n",
      "Epoch 33/50\n",
      "9/9 - 0s - loss: 0.0125 - val_loss: 0.0054\n",
      "Epoch 34/50\n",
      "9/9 - 0s - loss: 0.0117 - val_loss: 0.0054\n",
      "Epoch 35/50\n",
      "9/9 - 0s - loss: 0.0128 - val_loss: 0.0038\n",
      "Epoch 36/50\n",
      "9/9 - 0s - loss: 0.0090 - val_loss: 0.0068\n",
      "Epoch 37/50\n",
      "9/9 - 0s - loss: 0.0101 - val_loss: 0.0068\n",
      "Epoch 38/50\n",
      "9/9 - 0s - loss: 0.0078 - val_loss: 0.0066\n",
      "Epoch 39/50\n",
      "9/9 - 0s - loss: 0.0069 - val_loss: 0.0036\n",
      "Epoch 40/50\n",
      "9/9 - 0s - loss: 0.0087 - val_loss: 0.0034\n",
      "Epoch 41/50\n",
      "9/9 - 0s - loss: 0.0077 - val_loss: 0.0033\n",
      "Epoch 42/50\n",
      "9/9 - 0s - loss: 0.0074 - val_loss: 0.0037\n",
      "Epoch 43/50\n",
      "9/9 - 0s - loss: 0.0069 - val_loss: 0.0038\n",
      "Epoch 44/50\n",
      "9/9 - 0s - loss: 0.0075 - val_loss: 0.0055\n",
      "Epoch 45/50\n",
      "9/9 - 0s - loss: 0.0072 - val_loss: 0.0047\n",
      "Epoch 46/50\n",
      "9/9 - 0s - loss: 0.0082 - val_loss: 0.0040\n",
      "Epoch 47/50\n",
      "9/9 - 0s - loss: 0.0078 - val_loss: 0.0052\n",
      "Epoch 48/50\n",
      "9/9 - 0s - loss: 0.0078 - val_loss: 0.0039\n",
      "Epoch 49/50\n",
      "9/9 - 0s - loss: 0.0088 - val_loss: 0.0049\n",
      "Epoch 50/50\n",
      "9/9 - 0s - loss: 0.0087 - val_loss: 0.0049\n"
     ]
    },
    {
     "data": {
      "image/png": "[encoded data removed]",
      "text/plain": [
       "<Figure size 432x288 with 1 Axes>"
      ]
     },
     "metadata": {
      "needs_background": "light"
     },
     "output_type": "display_data"
    }
   ],
   "source": [
    "#90 days \n",
    "num_lags = 90\n",
    "num_features=1\n",
    "# frame as supervised learning\n",
    "reframed = series_to_supervised(scaled, num_lags, 1)\n",
    "values = reframed.values\n",
    "values = reframed.values\n",
    "train_size = math.floor(values.shape[0] *0.6)\n",
    "test_size = math.floor(values.shape[0]*0.2)\n",
    "#n_train_day = 20\n",
    "train = values[:train_size,:]\n",
    "test = values[train_size:(train_size+test_size), :]\n",
    "cross_validation = values[(train_size+test_size):, :]\n",
    "\n",
    "# split into input and outputs\n",
    "n_obs = num_lags * num_features\n",
    "train_X, train_y = train[:, :n_obs], train[:, -num_features]\n",
    "test_X, test_y = test[:, :n_obs], test[:, -num_features]\n",
    "cross_X, cross_y = cross_validation[:, :n_obs], cross_validation[:, -num_features]\n",
    "print(train_X.shape, len(train_X), train_y.shape)\n",
    "\n",
    "# reshape input to be 3D [samples, timesteps, features]\n",
    "train_X = train_X.reshape((train_X.shape[0], num_lags, num_features))\n",
    "test_X = test_X.reshape((test_X.shape[0], num_lags, num_features))\n",
    "cross_X = cross_X.reshape((cross_X.shape[0], num_lags, num_features))\n",
    "print(train_X.shape, train_y.shape, test_X.shape, test_y.shape)\n",
    "\n",
    "# design network\n",
    "model = Sequential()\n",
    "model.add(LSTM(50, input_shape=(train_X.shape[1], train_X.shape[2])))\n",
    "model.add(Dense(1))\n",
    "model.compile(loss='mae', optimizer='adam')\n",
    "\n",
    "# fit network\n",
    "history = model.fit(train_X, train_y, epochs=50, batch_size=72, validation_data=(test_X, test_y), verbose=2, shuffle=False)\n",
    "\n",
    "# plot history\n",
    "pyplot.plot(history.history['loss'], label='train')\n",
    "pyplot.plot(history.history['val_loss'], label='test')\n",
    "pyplot.legend()\n",
    "pyplot.show()\n",
    "#save model\n",
    "model.save(\"./model-90days.h5\")"
   ]
  },
  {
   "cell_type": "code",
   "execution_count": 44,
   "metadata": {},
   "outputs": [
    {
     "name": "stdout",
     "output_type": "stream",
     "text": [
      "(420, 365) 420 (420,)\n",
      "(420, 365, 1) (420,) (140, 365, 1) (140,)\n",
      "Epoch 1/50\n",
      "6/6 - 1s - loss: 0.0148 - val_loss: 0.0130\n",
      "Epoch 2/50\n",
      "6/6 - 1s - loss: 0.0114 - val_loss: 0.0012\n",
      "Epoch 3/50\n",
      "6/6 - 1s - loss: 0.0166 - val_loss: 0.0056\n",
      "Epoch 4/50\n",
      "6/6 - 1s - loss: 0.0136 - val_loss: 0.0120\n",
      "Epoch 5/50\n",
      "6/6 - 1s - loss: 0.0052 - val_loss: 6.4749e-04\n",
      "Epoch 6/50\n",
      "6/6 - 1s - loss: 0.0079 - val_loss: 0.0015\n",
      "Epoch 7/50\n",
      "6/6 - 1s - loss: 0.0050 - val_loss: 0.0015\n",
      "Epoch 8/50\n",
      "6/6 - 1s - loss: 0.0052 - val_loss: 0.0033\n",
      "Epoch 9/50\n",
      "6/6 - 1s - loss: 0.0069 - val_loss: 0.0014\n",
      "Epoch 10/50\n",
      "6/6 - 1s - loss: 0.0069 - val_loss: 7.4724e-04\n",
      "Epoch 11/50\n",
      "6/6 - 1s - loss: 0.0072 - val_loss: 0.0048\n",
      "Epoch 12/50\n",
      "6/6 - 1s - loss: 0.0056 - val_loss: 0.0012\n",
      "Epoch 13/50\n",
      "6/6 - 1s - loss: 0.0053 - val_loss: 0.0048\n",
      "Epoch 14/50\n",
      "6/6 - 1s - loss: 0.0061 - val_loss: 3.9790e-04\n",
      "Epoch 15/50\n",
      "6/6 - 1s - loss: 0.0049 - val_loss: 0.0019\n",
      "Epoch 16/50\n",
      "6/6 - 1s - loss: 0.0051 - val_loss: 9.7296e-04\n",
      "Epoch 17/50\n",
      "6/6 - 1s - loss: 0.0051 - val_loss: 0.0031\n",
      "Epoch 18/50\n",
      "6/6 - 1s - loss: 0.0067 - val_loss: 0.0024\n",
      "Epoch 19/50\n",
      "6/6 - 1s - loss: 0.0065 - val_loss: 0.0010\n",
      "Epoch 20/50\n",
      "6/6 - 1s - loss: 0.0065 - val_loss: 0.0049\n",
      "Epoch 21/50\n",
      "6/6 - 1s - loss: 0.0078 - val_loss: 0.0043\n",
      "Epoch 22/50\n",
      "6/6 - 1s - loss: 0.0054 - val_loss: 9.8342e-04\n",
      "Epoch 23/50\n",
      "6/6 - 1s - loss: 0.0055 - val_loss: 0.0012\n",
      "Epoch 24/50\n",
      "6/6 - 1s - loss: 0.0056 - val_loss: 5.3932e-04\n",
      "Epoch 25/50\n",
      "6/6 - 1s - loss: 0.0063 - val_loss: 0.0034\n",
      "Epoch 26/50\n",
      "6/6 - 1s - loss: 0.0087 - val_loss: 0.0034\n",
      "Epoch 27/50\n",
      "6/6 - 1s - loss: 0.0064 - val_loss: 0.0031\n",
      "Epoch 28/50\n",
      "6/6 - 1s - loss: 0.0057 - val_loss: 8.9566e-04\n",
      "Epoch 29/50\n",
      "6/6 - 1s - loss: 0.0050 - val_loss: 0.0016\n",
      "Epoch 30/50\n",
      "6/6 - 1s - loss: 0.0051 - val_loss: 0.0028\n",
      "Epoch 31/50\n",
      "6/6 - 1s - loss: 0.0056 - val_loss: 0.0016\n",
      "Epoch 32/50\n",
      "6/6 - 1s - loss: 0.0062 - val_loss: 0.0022\n",
      "Epoch 33/50\n",
      "6/6 - 1s - loss: 0.0077 - val_loss: 0.0059\n",
      "Epoch 34/50\n",
      "6/6 - 1s - loss: 0.0074 - val_loss: 0.0072\n",
      "Epoch 35/50\n",
      "6/6 - 1s - loss: 0.0081 - val_loss: 0.0068\n",
      "Epoch 36/50\n",
      "6/6 - 1s - loss: 0.0088 - val_loss: 0.0026\n",
      "Epoch 37/50\n",
      "6/6 - 1s - loss: 0.0055 - val_loss: 0.0024\n",
      "Epoch 38/50\n",
      "6/6 - 1s - loss: 0.0057 - val_loss: 0.0037\n",
      "Epoch 39/50\n",
      "6/6 - 1s - loss: 0.0085 - val_loss: 0.0038\n",
      "Epoch 40/50\n",
      "6/6 - 1s - loss: 0.0089 - val_loss: 0.0020\n",
      "Epoch 41/50\n",
      "6/6 - 1s - loss: 0.0083 - val_loss: 0.0010\n",
      "Epoch 42/50\n",
      "6/6 - 1s - loss: 0.0064 - val_loss: 0.0033\n",
      "Epoch 43/50\n",
      "6/6 - 1s - loss: 0.0066 - val_loss: 0.0027\n",
      "Epoch 44/50\n",
      "6/6 - 1s - loss: 0.0052 - val_loss: 0.0023\n",
      "Epoch 45/50\n",
      "6/6 - 1s - loss: 0.0048 - val_loss: 0.0015\n",
      "Epoch 46/50\n",
      "6/6 - 1s - loss: 0.0059 - val_loss: 0.0020\n",
      "Epoch 47/50\n",
      "6/6 - 1s - loss: 0.0055 - val_loss: 0.0026\n",
      "Epoch 48/50\n",
      "6/6 - 1s - loss: 0.0072 - val_loss: 0.0046\n",
      "Epoch 49/50\n",
      "6/6 - 1s - loss: 0.0069 - val_loss: 0.0062\n",
      "Epoch 50/50\n",
      "6/6 - 1s - loss: 0.0075 - val_loss: 0.0058\n"
     ]
    },
    {
     "data": {
      "image/png": "[encoded data removed]",
      "text/plain": [
       "<Figure size 432x288 with 1 Axes>"
      ]
     },
     "metadata": {
      "needs_background": "light"
     },
     "output_type": "display_data"
    }
   ],
   "source": [
    "#90 days \n",
    "num_lags = 365\n",
    "num_features=1\n",
    "# frame as supervised learning\n",
    "reframed = series_to_supervised(scaled, num_lags, 1)\n",
    "values = reframed.values\n",
    "values = reframed.values\n",
    "train_size = math.floor(values.shape[0] *0.6)\n",
    "test_size = math.floor(values.shape[0]*0.2)\n",
    "#n_train_day = 20\n",
    "train = values[:train_size,:]\n",
    "test = values[train_size:(train_size+test_size), :]\n",
    "cross_validation = values[(train_size+test_size):, :]\n",
    "\n",
    "# split into input and outputs\n",
    "n_obs = num_lags * num_features\n",
    "train_X, train_y = train[:, :n_obs], train[:, -num_features]\n",
    "test_X, test_y = test[:, :n_obs], test[:, -num_features]\n",
    "cross_X, cross_y = cross_validation[:, :n_obs], cross_validation[:, -num_features]\n",
    "print(train_X.shape, len(train_X), train_y.shape)\n",
    "\n",
    "# reshape input to be 3D [samples, timesteps, features]\n",
    "train_X = train_X.reshape((train_X.shape[0], num_lags, num_features))\n",
    "test_X = test_X.reshape((test_X.shape[0], num_lags, num_features))\n",
    "cross_X = cross_X.reshape((cross_X.shape[0], num_lags, num_features))\n",
    "print(train_X.shape, train_y.shape, test_X.shape, test_y.shape)\n",
    "\n",
    "# design network\n",
    "model = Sequential()\n",
    "model.add(LSTM(50, input_shape=(train_X.shape[1], train_X.shape[2])))\n",
    "model.add(Dense(1))\n",
    "model.compile(loss='mae', optimizer='adam')\n",
    "\n",
    "# fit network\n",
    "history = model.fit(train_X, train_y, epochs=50, batch_size=72, validation_data=(test_X, test_y), verbose=2, shuffle=False)\n",
    "\n",
    "# plot history\n",
    "pyplot.plot(history.history['loss'], label='train')\n",
    "pyplot.plot(history.history['val_loss'], label='test')\n",
    "pyplot.legend()\n",
    "pyplot.show()\n",
    "#save model\n",
    "model.save(\"./model-365days.h5\")"
   ]
  },
  {
   "cell_type": "code",
   "execution_count": null,
   "metadata": {},
   "outputs": [],
   "source": []
  }
 ],
 "metadata": {
  "colab": {
   "name": "AirPollutionForecasting.ipynb",
   "provenance": []
  },
  "kernelspec": {
   "display_name": "Python 3",
   "language": "python",
   "name": "python3"
  },
  "language_info": {
   "codemirror_mode": {
    "name": "ipython",
    "version": 3
   },
   "file_extension": ".py",
   "mimetype": "text/x-python",
   "name": "python",
   "nbconvert_exporter": "python",
   "pygments_lexer": "ipython3",
   "version": "3.8.2"
  }
 },
 "nbformat": 4,
 "nbformat_minor": 1
}
