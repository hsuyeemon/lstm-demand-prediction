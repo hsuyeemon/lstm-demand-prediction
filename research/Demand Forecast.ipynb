{
 "cells": [
  {
   "cell_type": "markdown",
   "metadata": {
    "colab_type": "text",
    "id": "0ckQTagirtYY"
   },
   "source": [
    "Demand Predict"
   ]
  },
  {
   "cell_type": "markdown",
   "metadata": {
    "colab_type": "text",
    "id": "NOVyOvjysKBz"
   },
   "source": [
    "Basic Data Preparation"
   ]
  },
  {
   "cell_type": "code",
   "execution_count": 1,
   "metadata": {
    "colab": {},
    "colab_type": "code",
    "id": "As3kivKdpg3V"
   },
   "outputs": [],
   "source": [
    "from pandas import read_csv\n",
    "from datetime import datetime\n",
    "from keras.models import Sequential\n",
    "from keras.layers import Dense\n",
    "from keras.layers import LSTM"
   ]
  },
  {
   "cell_type": "code",
   "execution_count": 2,
   "metadata": {
    "colab": {},
    "colab_type": "code",
    "id": "ONRbR5QQrRli"
   },
   "outputs": [],
   "source": [
    "dataset = read_csv('~/work/DemandPrediction/2016demand2017.csv')"
   ]
  },
  {
   "cell_type": "code",
   "execution_count": 3,
   "metadata": {
    "colab": {},
    "colab_type": "code",
    "id": "xgmTHATAsa2q"
   },
   "outputs": [
    {
     "data": {
      "text/html": [
       "<div>\n",
       "<style scoped>\n",
       "    .dataframe tbody tr th:only-of-type {\n",
       "        vertical-align: middle;\n",
       "    }\n",
       "\n",
       "    .dataframe tbody tr th {\n",
       "        vertical-align: top;\n",
       "    }\n",
       "\n",
       "    .dataframe thead th {\n",
       "        text-align: right;\n",
       "    }\n",
       "</style>\n",
       "<table border=\"1\" class=\"dataframe\">\n",
       "  <thead>\n",
       "    <tr style=\"text-align: right;\">\n",
       "      <th></th>\n",
       "      <th>date</th>\n",
       "      <th>quantity</th>\n",
       "    </tr>\n",
       "    <tr>\n",
       "      <th>date</th>\n",
       "      <th></th>\n",
       "      <th></th>\n",
       "    </tr>\n",
       "  </thead>\n",
       "  <tbody>\n",
       "    <tr>\n",
       "      <th>0</th>\n",
       "      <td>2016-01-01</td>\n",
       "      <td>3</td>\n",
       "    </tr>\n",
       "    <tr>\n",
       "      <th>1</th>\n",
       "      <td>2016-01-02</td>\n",
       "      <td>2</td>\n",
       "    </tr>\n",
       "    <tr>\n",
       "      <th>2</th>\n",
       "      <td>2016-01-03</td>\n",
       "      <td>0</td>\n",
       "    </tr>\n",
       "    <tr>\n",
       "      <th>3</th>\n",
       "      <td>2016-01-04</td>\n",
       "      <td>2</td>\n",
       "    </tr>\n",
       "    <tr>\n",
       "      <th>4</th>\n",
       "      <td>2016-01-05</td>\n",
       "      <td>0</td>\n",
       "    </tr>\n",
       "  </tbody>\n",
       "</table>\n",
       "</div>"
      ],
      "text/plain": [
       "            date  quantity\n",
       "date                      \n",
       "0     2016-01-01         3\n",
       "1     2016-01-02         2\n",
       "2     2016-01-03         0\n",
       "3     2016-01-04         2\n",
       "4     2016-01-05         0"
      ]
     },
     "execution_count": 3,
     "metadata": {},
     "output_type": "execute_result"
    }
   ],
   "source": [
    "# manually specify column names\n",
    "dataset.columns = ['date', 'quantity']\n",
    "dataset.index.name = 'date'\n",
    "dataset.head(5)"
   ]
  },
  {
   "cell_type": "code",
   "execution_count": 4,
   "metadata": {
    "colab": {},
    "colab_type": "code",
    "id": "LsVBKSNLtvVE"
   },
   "outputs": [],
   "source": [
    "from matplotlib import pyplot\n",
    "# load dataset\n",
    "#dataset = read_csv('pollution.csv', header=0, index_col=0)\n",
    "values = dataset.values"
   ]
  },
  {
   "cell_type": "code",
   "execution_count": 5,
   "metadata": {
    "colab": {
     "base_uri": "https://localhost:8080/",
     "height": 268
    },
    "colab_type": "code",
    "id": "nvNWMCXjt6ME",
    "outputId": "28f35e4c-3527-4b01-f637-c06c92ad9c4d"
   },
   "outputs": [
    {
     "data": {
      "image/png": "[encoded data removed]",
      "text/plain": [
       "<Figure size 432x288 with 1 Axes>"
      ]
     },
     "metadata": {
      "needs_background": "light"
     },
     "output_type": "display_data"
    }
   ],
   "source": [
    "\n",
    "# plot each column\n",
    "pyplot.figure()\n",
    "pyplot.plot(values[:, 1])\n",
    "pyplot.title(dataset.columns[1], y=0.5, loc='right')\n",
    "pyplot.show()"
   ]
  },
  {
   "cell_type": "markdown",
   "metadata": {
    "colab_type": "text",
    "id": "qU8AWyctuNsO"
   },
   "source": [
    "Multivariate LSTM Forecast Model"
   ]
  },
  {
   "cell_type": "markdown",
   "metadata": {
    "colab_type": "text",
    "id": "nbn0oGwx-Q5l"
   },
   "source": [
    "LSTM Data Preparation:<br>\n",
    "***framing the dataset as a supervised learning problem and normalizing the input variables.***"
   ]
  },
  {
   "cell_type": "code",
   "execution_count": 6,
   "metadata": {
    "colab": {},
    "colab_type": "code",
    "id": "ZzDa6PYht9BU"
   },
   "outputs": [],
   "source": [
    "from pandas import DataFrame\n",
    "from pandas import concat\n",
    "from sklearn.preprocessing import LabelEncoder\n",
    "from sklearn.preprocessing import MinMaxScaler"
   ]
  },
  {
   "cell_type": "code",
   "execution_count": 7,
   "metadata": {
    "colab": {},
    "colab_type": "code",
    "id": "_YYeYZoO_1Cu"
   },
   "outputs": [],
   "source": [
    "# convert series to supervised learning\n",
    "def series_to_supervised(data, n_in=1, n_out=1, dropnan=True):\n",
    "\tn_vars = 1 if type(data) is list else data.shape[1]\n",
    "\tdf = DataFrame(data)\n",
    "\tcols, names = list(), list()\n",
    "\t# input sequence (t-n, ... t-1)\n",
    "\tfor i in range(n_in, 0, -1):\n",
    "\t\tcols.append(df.shift(i))\n",
    "\t\tnames += [('var%d(t-%d)' % (j+1, i)) for j in range(n_vars)]\n",
    "\t# forecast sequence (t, t+1, ... t+n)\n",
    "\tfor i in range(0, n_out):\n",
    "\t\tcols.append(df.shift(-i))\n",
    "\t\tif i == 0:\n",
    "\t\t\tnames += [('var%d(t)' % (j+1)) for j in range(n_vars)]\n",
    "\t\telse:\n",
    "\t\t\tnames += [('var%d(t+%d)' % (j+1, i)) for j in range(n_vars)]\n",
    "\t# put it all together\n",
    "\tagg = concat(cols, axis=1)\n",
    "\tagg.columns = names\n",
    "\t# drop rows with NaN values\n",
    "\tif dropnan:\n",
    "\t\tagg.dropna(inplace=True)\n",
    "\treturn agg\n",
    " "
   ]
  },
  {
   "cell_type": "code",
   "execution_count": 8,
   "metadata": {
    "colab": {},
    "colab_type": "code",
    "id": "mMdWKca8LlBE"
   },
   "outputs": [],
   "source": [
    "# integer encode direction\n",
    "encoder = LabelEncoder()\n",
    "values[:,0] = encoder.fit_transform(values[:,0])"
   ]
  },
  {
   "cell_type": "code",
   "execution_count": 9,
   "metadata": {
    "colab": {
     "base_uri": "https://localhost:8080/",
     "height": 140
    },
    "colab_type": "code",
    "id": "aJwr7hKsL0-_",
    "outputId": "6c321a13-f00d-4231-fb93-1b99eff6987d"
   },
   "outputs": [
    {
     "data": {
      "text/plain": [
       "array([[0, 3],\n",
       "       [1, 2],\n",
       "       [2, 0],\n",
       "       ...,\n",
       "       [1093, 0],\n",
       "       [1094, 0],\n",
       "       [1095, 0]], dtype=object)"
      ]
     },
     "execution_count": 9,
     "metadata": {},
     "output_type": "execute_result"
    }
   ],
   "source": [
    "values"
   ]
  },
  {
   "cell_type": "code",
   "execution_count": 10,
   "metadata": {
    "colab": {},
    "colab_type": "code",
    "id": "QoOrH37NL2D5"
   },
   "outputs": [],
   "source": [
    "# ensure all data is float\n",
    "values = values.astype('float32')"
   ]
  },
  {
   "cell_type": "code",
   "execution_count": 11,
   "metadata": {
    "colab": {},
    "colab_type": "code",
    "id": "-bideA9KMAEB"
   },
   "outputs": [],
   "source": [
    "# normalize features\n",
    "scaler = MinMaxScaler(feature_range=(0, 1))\n",
    "scaled = scaler.fit_transform(values)"
   ]
  },
  {
   "cell_type": "code",
   "execution_count": 12,
   "metadata": {
    "colab": {},
    "colab_type": "code",
    "id": "UoYzGGiuMDKV"
   },
   "outputs": [],
   "source": [
    "num_lags = 30\n",
    "num_features=1\n",
    "# frame as supervised learning\n",
    "reframed = series_to_supervised(scaled, num_lags, 1)"
   ]
  },
  {
   "cell_type": "code",
   "execution_count": 13,
   "metadata": {
    "colab": {
     "base_uri": "https://localhost:8080/",
     "height": 246
    },
    "colab_type": "code",
    "id": "8qozQ50XQ0vt",
    "outputId": "327145ff-0e4e-4712-a1e0-6bb05556872e"
   },
   "outputs": [
    {
     "data": {
      "text/html": [
       "<div>\n",
       "<style scoped>\n",
       "    .dataframe tbody tr th:only-of-type {\n",
       "        vertical-align: middle;\n",
       "    }\n",
       "\n",
       "    .dataframe tbody tr th {\n",
       "        vertical-align: top;\n",
       "    }\n",
       "\n",
       "    .dataframe thead th {\n",
       "        text-align: right;\n",
       "    }\n",
       "</style>\n",
       "<table border=\"1\" class=\"dataframe\">\n",
       "  <thead>\n",
       "    <tr style=\"text-align: right;\">\n",
       "      <th></th>\n",
       "      <th>var1(t-30)</th>\n",
       "      <th>var2(t-30)</th>\n",
       "      <th>var1(t-29)</th>\n",
       "      <th>var2(t-29)</th>\n",
       "      <th>var1(t-28)</th>\n",
       "      <th>var2(t-28)</th>\n",
       "      <th>var1(t-27)</th>\n",
       "      <th>var2(t-27)</th>\n",
       "      <th>var1(t-26)</th>\n",
       "      <th>var2(t-26)</th>\n",
       "      <th>...</th>\n",
       "      <th>var1(t-4)</th>\n",
       "      <th>var2(t-4)</th>\n",
       "      <th>var1(t-3)</th>\n",
       "      <th>var2(t-3)</th>\n",
       "      <th>var1(t-2)</th>\n",
       "      <th>var2(t-2)</th>\n",
       "      <th>var1(t-1)</th>\n",
       "      <th>var2(t-1)</th>\n",
       "      <th>var1(t)</th>\n",
       "      <th>var2(t)</th>\n",
       "    </tr>\n",
       "  </thead>\n",
       "  <tbody>\n",
       "    <tr>\n",
       "      <th>30</th>\n",
       "      <td>0.000000</td>\n",
       "      <td>0.071429</td>\n",
       "      <td>0.000913</td>\n",
       "      <td>0.047619</td>\n",
       "      <td>0.001826</td>\n",
       "      <td>0.000000</td>\n",
       "      <td>0.002740</td>\n",
       "      <td>0.047619</td>\n",
       "      <td>0.003653</td>\n",
       "      <td>0.000000</td>\n",
       "      <td>...</td>\n",
       "      <td>0.023744</td>\n",
       "      <td>0.00000</td>\n",
       "      <td>0.024658</td>\n",
       "      <td>1.00000</td>\n",
       "      <td>0.025571</td>\n",
       "      <td>0.00000</td>\n",
       "      <td>0.026484</td>\n",
       "      <td>0.02381</td>\n",
       "      <td>0.027397</td>\n",
       "      <td>0.0</td>\n",
       "    </tr>\n",
       "    <tr>\n",
       "      <th>31</th>\n",
       "      <td>0.000913</td>\n",
       "      <td>0.047619</td>\n",
       "      <td>0.001826</td>\n",
       "      <td>0.000000</td>\n",
       "      <td>0.002740</td>\n",
       "      <td>0.047619</td>\n",
       "      <td>0.003653</td>\n",
       "      <td>0.000000</td>\n",
       "      <td>0.004566</td>\n",
       "      <td>0.071429</td>\n",
       "      <td>...</td>\n",
       "      <td>0.024658</td>\n",
       "      <td>1.00000</td>\n",
       "      <td>0.025571</td>\n",
       "      <td>0.00000</td>\n",
       "      <td>0.026484</td>\n",
       "      <td>0.02381</td>\n",
       "      <td>0.027397</td>\n",
       "      <td>0.00000</td>\n",
       "      <td>0.028311</td>\n",
       "      <td>0.0</td>\n",
       "    </tr>\n",
       "    <tr>\n",
       "      <th>32</th>\n",
       "      <td>0.001826</td>\n",
       "      <td>0.000000</td>\n",
       "      <td>0.002740</td>\n",
       "      <td>0.047619</td>\n",
       "      <td>0.003653</td>\n",
       "      <td>0.000000</td>\n",
       "      <td>0.004566</td>\n",
       "      <td>0.071429</td>\n",
       "      <td>0.005479</td>\n",
       "      <td>0.071429</td>\n",
       "      <td>...</td>\n",
       "      <td>0.025571</td>\n",
       "      <td>0.00000</td>\n",
       "      <td>0.026484</td>\n",
       "      <td>0.02381</td>\n",
       "      <td>0.027397</td>\n",
       "      <td>0.00000</td>\n",
       "      <td>0.028311</td>\n",
       "      <td>0.00000</td>\n",
       "      <td>0.029224</td>\n",
       "      <td>0.0</td>\n",
       "    </tr>\n",
       "    <tr>\n",
       "      <th>33</th>\n",
       "      <td>0.002740</td>\n",
       "      <td>0.047619</td>\n",
       "      <td>0.003653</td>\n",
       "      <td>0.000000</td>\n",
       "      <td>0.004566</td>\n",
       "      <td>0.071429</td>\n",
       "      <td>0.005479</td>\n",
       "      <td>0.071429</td>\n",
       "      <td>0.006393</td>\n",
       "      <td>0.000000</td>\n",
       "      <td>...</td>\n",
       "      <td>0.026484</td>\n",
       "      <td>0.02381</td>\n",
       "      <td>0.027397</td>\n",
       "      <td>0.00000</td>\n",
       "      <td>0.028311</td>\n",
       "      <td>0.00000</td>\n",
       "      <td>0.029224</td>\n",
       "      <td>0.00000</td>\n",
       "      <td>0.030137</td>\n",
       "      <td>0.0</td>\n",
       "    </tr>\n",
       "    <tr>\n",
       "      <th>34</th>\n",
       "      <td>0.003653</td>\n",
       "      <td>0.000000</td>\n",
       "      <td>0.004566</td>\n",
       "      <td>0.071429</td>\n",
       "      <td>0.005479</td>\n",
       "      <td>0.071429</td>\n",
       "      <td>0.006393</td>\n",
       "      <td>0.000000</td>\n",
       "      <td>0.007306</td>\n",
       "      <td>0.190476</td>\n",
       "      <td>...</td>\n",
       "      <td>0.027397</td>\n",
       "      <td>0.00000</td>\n",
       "      <td>0.028311</td>\n",
       "      <td>0.00000</td>\n",
       "      <td>0.029224</td>\n",
       "      <td>0.00000</td>\n",
       "      <td>0.030137</td>\n",
       "      <td>0.00000</td>\n",
       "      <td>0.031050</td>\n",
       "      <td>0.0</td>\n",
       "    </tr>\n",
       "    <tr>\n",
       "      <th>35</th>\n",
       "      <td>0.004566</td>\n",
       "      <td>0.071429</td>\n",
       "      <td>0.005479</td>\n",
       "      <td>0.071429</td>\n",
       "      <td>0.006393</td>\n",
       "      <td>0.000000</td>\n",
       "      <td>0.007306</td>\n",
       "      <td>0.190476</td>\n",
       "      <td>0.008219</td>\n",
       "      <td>0.047619</td>\n",
       "      <td>...</td>\n",
       "      <td>0.028311</td>\n",
       "      <td>0.00000</td>\n",
       "      <td>0.029224</td>\n",
       "      <td>0.00000</td>\n",
       "      <td>0.030137</td>\n",
       "      <td>0.00000</td>\n",
       "      <td>0.031050</td>\n",
       "      <td>0.00000</td>\n",
       "      <td>0.031963</td>\n",
       "      <td>0.0</td>\n",
       "    </tr>\n",
       "    <tr>\n",
       "      <th>36</th>\n",
       "      <td>0.005479</td>\n",
       "      <td>0.071429</td>\n",
       "      <td>0.006393</td>\n",
       "      <td>0.000000</td>\n",
       "      <td>0.007306</td>\n",
       "      <td>0.190476</td>\n",
       "      <td>0.008219</td>\n",
       "      <td>0.047619</td>\n",
       "      <td>0.009132</td>\n",
       "      <td>0.071429</td>\n",
       "      <td>...</td>\n",
       "      <td>0.029224</td>\n",
       "      <td>0.00000</td>\n",
       "      <td>0.030137</td>\n",
       "      <td>0.00000</td>\n",
       "      <td>0.031050</td>\n",
       "      <td>0.00000</td>\n",
       "      <td>0.031963</td>\n",
       "      <td>0.00000</td>\n",
       "      <td>0.032877</td>\n",
       "      <td>0.0</td>\n",
       "    </tr>\n",
       "    <tr>\n",
       "      <th>37</th>\n",
       "      <td>0.006393</td>\n",
       "      <td>0.000000</td>\n",
       "      <td>0.007306</td>\n",
       "      <td>0.190476</td>\n",
       "      <td>0.008219</td>\n",
       "      <td>0.047619</td>\n",
       "      <td>0.009132</td>\n",
       "      <td>0.071429</td>\n",
       "      <td>0.010046</td>\n",
       "      <td>0.000000</td>\n",
       "      <td>...</td>\n",
       "      <td>0.030137</td>\n",
       "      <td>0.00000</td>\n",
       "      <td>0.031050</td>\n",
       "      <td>0.00000</td>\n",
       "      <td>0.031963</td>\n",
       "      <td>0.00000</td>\n",
       "      <td>0.032877</td>\n",
       "      <td>0.00000</td>\n",
       "      <td>0.033790</td>\n",
       "      <td>0.0</td>\n",
       "    </tr>\n",
       "    <tr>\n",
       "      <th>38</th>\n",
       "      <td>0.007306</td>\n",
       "      <td>0.190476</td>\n",
       "      <td>0.008219</td>\n",
       "      <td>0.047619</td>\n",
       "      <td>0.009132</td>\n",
       "      <td>0.071429</td>\n",
       "      <td>0.010046</td>\n",
       "      <td>0.000000</td>\n",
       "      <td>0.010959</td>\n",
       "      <td>0.000000</td>\n",
       "      <td>...</td>\n",
       "      <td>0.031050</td>\n",
       "      <td>0.00000</td>\n",
       "      <td>0.031963</td>\n",
       "      <td>0.00000</td>\n",
       "      <td>0.032877</td>\n",
       "      <td>0.00000</td>\n",
       "      <td>0.033790</td>\n",
       "      <td>0.00000</td>\n",
       "      <td>0.034703</td>\n",
       "      <td>0.0</td>\n",
       "    </tr>\n",
       "    <tr>\n",
       "      <th>39</th>\n",
       "      <td>0.008219</td>\n",
       "      <td>0.047619</td>\n",
       "      <td>0.009132</td>\n",
       "      <td>0.071429</td>\n",
       "      <td>0.010046</td>\n",
       "      <td>0.000000</td>\n",
       "      <td>0.010959</td>\n",
       "      <td>0.000000</td>\n",
       "      <td>0.011872</td>\n",
       "      <td>0.047619</td>\n",
       "      <td>...</td>\n",
       "      <td>0.031963</td>\n",
       "      <td>0.00000</td>\n",
       "      <td>0.032877</td>\n",
       "      <td>0.00000</td>\n",
       "      <td>0.033790</td>\n",
       "      <td>0.00000</td>\n",
       "      <td>0.034703</td>\n",
       "      <td>0.00000</td>\n",
       "      <td>0.035616</td>\n",
       "      <td>0.0</td>\n",
       "    </tr>\n",
       "  </tbody>\n",
       "</table>\n",
       "<p>10 rows × 62 columns</p>\n",
       "</div>"
      ],
      "text/plain": [
       "    var1(t-30)  var2(t-30)  var1(t-29)  var2(t-29)  var1(t-28)  var2(t-28)  \\\n",
       "30    0.000000    0.071429    0.000913    0.047619    0.001826    0.000000   \n",
       "31    0.000913    0.047619    0.001826    0.000000    0.002740    0.047619   \n",
       "32    0.001826    0.000000    0.002740    0.047619    0.003653    0.000000   \n",
       "33    0.002740    0.047619    0.003653    0.000000    0.004566    0.071429   \n",
       "34    0.003653    0.000000    0.004566    0.071429    0.005479    0.071429   \n",
       "35    0.004566    0.071429    0.005479    0.071429    0.006393    0.000000   \n",
       "36    0.005479    0.071429    0.006393    0.000000    0.007306    0.190476   \n",
       "37    0.006393    0.000000    0.007306    0.190476    0.008219    0.047619   \n",
       "38    0.007306    0.190476    0.008219    0.047619    0.009132    0.071429   \n",
       "39    0.008219    0.047619    0.009132    0.071429    0.010046    0.000000   \n",
       "\n",
       "    var1(t-27)  var2(t-27)  var1(t-26)  var2(t-26)  ...  var1(t-4)  var2(t-4)  \\\n",
       "30    0.002740    0.047619    0.003653    0.000000  ...   0.023744    0.00000   \n",
       "31    0.003653    0.000000    0.004566    0.071429  ...   0.024658    1.00000   \n",
       "32    0.004566    0.071429    0.005479    0.071429  ...   0.025571    0.00000   \n",
       "33    0.005479    0.071429    0.006393    0.000000  ...   0.026484    0.02381   \n",
       "34    0.006393    0.000000    0.007306    0.190476  ...   0.027397    0.00000   \n",
       "35    0.007306    0.190476    0.008219    0.047619  ...   0.028311    0.00000   \n",
       "36    0.008219    0.047619    0.009132    0.071429  ...   0.029224    0.00000   \n",
       "37    0.009132    0.071429    0.010046    0.000000  ...   0.030137    0.00000   \n",
       "38    0.010046    0.000000    0.010959    0.000000  ...   0.031050    0.00000   \n",
       "39    0.010959    0.000000    0.011872    0.047619  ...   0.031963    0.00000   \n",
       "\n",
       "    var1(t-3)  var2(t-3)  var1(t-2)  var2(t-2)  var1(t-1)  var2(t-1)  \\\n",
       "30   0.024658    1.00000   0.025571    0.00000   0.026484    0.02381   \n",
       "31   0.025571    0.00000   0.026484    0.02381   0.027397    0.00000   \n",
       "32   0.026484    0.02381   0.027397    0.00000   0.028311    0.00000   \n",
       "33   0.027397    0.00000   0.028311    0.00000   0.029224    0.00000   \n",
       "34   0.028311    0.00000   0.029224    0.00000   0.030137    0.00000   \n",
       "35   0.029224    0.00000   0.030137    0.00000   0.031050    0.00000   \n",
       "36   0.030137    0.00000   0.031050    0.00000   0.031963    0.00000   \n",
       "37   0.031050    0.00000   0.031963    0.00000   0.032877    0.00000   \n",
       "38   0.031963    0.00000   0.032877    0.00000   0.033790    0.00000   \n",
       "39   0.032877    0.00000   0.033790    0.00000   0.034703    0.00000   \n",
       "\n",
       "     var1(t)  var2(t)  \n",
       "30  0.027397      0.0  \n",
       "31  0.028311      0.0  \n",
       "32  0.029224      0.0  \n",
       "33  0.030137      0.0  \n",
       "34  0.031050      0.0  \n",
       "35  0.031963      0.0  \n",
       "36  0.032877      0.0  \n",
       "37  0.033790      0.0  \n",
       "38  0.034703      0.0  \n",
       "39  0.035616      0.0  \n",
       "\n",
       "[10 rows x 62 columns]"
      ]
     },
     "execution_count": 13,
     "metadata": {},
     "output_type": "execute_result"
    }
   ],
   "source": [
    "reframed.head(10)"
   ]
  },
  {
   "cell_type": "code",
   "execution_count": null,
   "metadata": {
    "colab": {
     "base_uri": "https://localhost:8080/",
     "height": 158
    },
    "colab_type": "code",
    "id": "WagjZMq5Ns-z",
    "outputId": "1585cfe5-7bba-4457-fdfc-0166fde77266"
   },
   "outputs": [],
   "source": [
    "# drop columns we don't want to predict\n",
    "#reframed.drop(reframed.columns[[9,10,11,12,13,14,15]], axis=1, inplace=True)\n",
    "#print(reframed.head())"
   ]
  },
  {
   "cell_type": "code",
   "execution_count": 14,
   "metadata": {},
   "outputs": [
    {
     "data": {
      "text/plain": [
       "(1066, 62)"
      ]
     },
     "execution_count": 14,
     "metadata": {},
     "output_type": "execute_result"
    }
   ],
   "source": [
    "values = reframed.values\n",
    "values.shape"
   ]
  },
  {
   "cell_type": "markdown",
   "metadata": {
    "colab_type": "text",
    "id": "sZ8QbmhGSJGS"
   },
   "source": [
    "Define and Fit Model"
   ]
  },
  {
   "cell_type": "code",
   "execution_count": 15,
   "metadata": {
    "colab": {},
    "colab_type": "code",
    "id": "YyiJCYceSJtu"
   },
   "outputs": [],
   "source": [
    "import math\n",
    "# split into train and test sets\n",
    "values = reframed.values\n",
    "train_size = math.floor(values.shape[0] *0.6)\n",
    "test_size = math.floor(values.shape[0]*0.2)\n",
    "#n_train_day = 20\n",
    "train = values[:train_size,:]\n",
    "test = values[train_size:(train_size+test_size), :]\n",
    "cross_validation = values[(train_size+test_size):, :]\n",
    "\n"
   ]
  },
  {
   "cell_type": "code",
   "execution_count": 16,
   "metadata": {
    "colab": {},
    "colab_type": "code",
    "id": "g9hUWzEjmc4m"
   },
   "outputs": [
    {
     "name": "stdout",
     "output_type": "stream",
     "text": [
      "(639, 30) 639 (639,)\n"
     ]
    }
   ],
   "source": [
    "# split into input and outputs\n",
    "n_obs = num_lags * num_features\n",
    "train_X, train_y = train[:, :n_obs], train[:, -num_features]\n",
    "test_X, test_y = test[:, :n_obs], test[:, -num_features]\n",
    "cross_X, cross_y = cross_validation[:, :n_obs], cross_validation[:, -num_features]\n",
    "print(train_X.shape, len(train_X), train_y.shape)"
   ]
  },
  {
   "cell_type": "code",
   "execution_count": 17,
   "metadata": {},
   "outputs": [
    {
     "name": "stdout",
     "output_type": "stream",
     "text": [
      "(639, 30) (639,) (213, 30) (213,)\n"
     ]
    }
   ],
   "source": [
    "print(train_X.shape, train_y.shape, test_X.shape, test_y.shape)"
   ]
  },
  {
   "cell_type": "code",
   "execution_count": 18,
   "metadata": {
    "colab": {
     "base_uri": "https://localhost:8080/",
     "height": 34
    },
    "colab_type": "code",
    "id": "hYV1laaimoBu",
    "outputId": "d5c91ea8-68a9-423e-9416-b53f1ce21c3e"
   },
   "outputs": [
    {
     "name": "stdout",
     "output_type": "stream",
     "text": [
      "(639, 30, 1) (639,) (213, 30, 1) (213,)\n"
     ]
    }
   ],
   "source": [
    "# reshape input to be 3D [samples, timesteps, features]\n",
    "train_X = train_X.reshape((train_X.shape[0], num_lags, num_features))\n",
    "test_X = test_X.reshape((test_X.shape[0], num_lags, num_features))\n",
    "cross_X = cross_X.reshape((cross_X.shape[0], num_lags, num_features))\n",
    "print(train_X.shape, train_y.shape, test_X.shape, test_y.shape)"
   ]
  },
  {
   "cell_type": "code",
   "execution_count": null,
   "metadata": {
    "colab": {},
    "colab_type": "code",
    "id": "YeVF2JkmnCly"
   },
   "outputs": [],
   "source": []
  },
  {
   "cell_type": "code",
   "execution_count": 19,
   "metadata": {
    "colab": {},
    "colab_type": "code",
    "id": "2IWqLwmHmt1U"
   },
   "outputs": [],
   "source": [
    "# design network\n",
    "model = Sequential()\n",
    "model.add(LSTM(50, input_shape=(train_X.shape[1], train_X.shape[2])))\n",
    "model.add(Dense(1))\n",
    "model.compile(loss='mae', optimizer='adam')"
   ]
  },
  {
   "cell_type": "code",
   "execution_count": 20,
   "metadata": {
    "colab": {
     "base_uri": "https://localhost:8080/",
     "height": 1000
    },
    "colab_type": "code",
    "id": "475zgG19mzCT",
    "outputId": "d0bacd68-db04-497f-ac4a-b0db54869764"
   },
   "outputs": [
    {
     "name": "stdout",
     "output_type": "stream",
     "text": [
      "Epoch 1/50\n",
      "9/9 - 1s - loss: 0.0112 - val_loss: 0.0054\n",
      "Epoch 2/50\n",
      "9/9 - 0s - loss: 0.0075 - val_loss: 0.0073\n",
      "Epoch 3/50\n",
      "9/9 - 0s - loss: 0.0072 - val_loss: 0.0047\n",
      "Epoch 4/50\n",
      "9/9 - 0s - loss: 0.0088 - val_loss: 0.0038\n",
      "Epoch 5/50\n",
      "9/9 - 0s - loss: 0.0101 - val_loss: 0.0079\n",
      "Epoch 6/50\n",
      "9/9 - 0s - loss: 0.0112 - val_loss: 0.0074\n",
      "Epoch 7/50\n",
      "9/9 - 0s - loss: 0.0090 - val_loss: 0.0038\n",
      "Epoch 8/50\n",
      "9/9 - 0s - loss: 0.0093 - val_loss: 0.0041\n",
      "Epoch 9/50\n",
      "9/9 - 0s - loss: 0.0070 - val_loss: 0.0034\n",
      "Epoch 10/50\n",
      "9/9 - 0s - loss: 0.0098 - val_loss: 0.0121\n",
      "Epoch 11/50\n",
      "9/9 - 0s - loss: 0.0093 - val_loss: 0.0078\n",
      "Epoch 12/50\n",
      "9/9 - 0s - loss: 0.0100 - val_loss: 0.0068\n",
      "Epoch 13/50\n",
      "9/9 - 0s - loss: 0.0113 - val_loss: 0.0056\n",
      "Epoch 14/50\n",
      "9/9 - 0s - loss: 0.0093 - val_loss: 0.0084\n",
      "Epoch 15/50\n",
      "9/9 - 0s - loss: 0.0124 - val_loss: 0.0077\n",
      "Epoch 16/50\n",
      "9/9 - 0s - loss: 0.0081 - val_loss: 0.0061\n",
      "Epoch 17/50\n",
      "9/9 - 0s - loss: 0.0087 - val_loss: 0.0084\n",
      "Epoch 18/50\n",
      "9/9 - 0s - loss: 0.0084 - val_loss: 0.0062\n",
      "Epoch 19/50\n",
      "9/9 - 0s - loss: 0.0100 - val_loss: 0.0094\n",
      "Epoch 20/50\n",
      "9/9 - 0s - loss: 0.0147 - val_loss: 0.0055\n",
      "Epoch 21/50\n",
      "9/9 - 0s - loss: 0.0184 - val_loss: 0.0060\n",
      "Epoch 22/50\n",
      "9/9 - 0s - loss: 0.0150 - val_loss: 0.0103\n",
      "Epoch 23/50\n",
      "9/9 - 0s - loss: 0.0128 - val_loss: 0.0062\n",
      "Epoch 24/50\n",
      "9/9 - 0s - loss: 0.0089 - val_loss: 0.0068\n",
      "Epoch 25/50\n",
      "9/9 - 0s - loss: 0.0102 - val_loss: 0.0112\n",
      "Epoch 26/50\n",
      "9/9 - 0s - loss: 0.0095 - val_loss: 0.0034\n",
      "Epoch 27/50\n",
      "9/9 - 0s - loss: 0.0095 - val_loss: 0.0059\n",
      "Epoch 28/50\n",
      "9/9 - 0s - loss: 0.0139 - val_loss: 0.0036\n",
      "Epoch 29/50\n",
      "9/9 - 0s - loss: 0.0100 - val_loss: 0.0065\n",
      "Epoch 30/50\n",
      "9/9 - 0s - loss: 0.0095 - val_loss: 0.0094\n",
      "Epoch 31/50\n",
      "9/9 - 0s - loss: 0.0086 - val_loss: 0.0065\n",
      "Epoch 32/50\n",
      "9/9 - 0s - loss: 0.0070 - val_loss: 0.0051\n",
      "Epoch 33/50\n",
      "9/9 - 0s - loss: 0.0114 - val_loss: 0.0117\n",
      "Epoch 34/50\n",
      "9/9 - 0s - loss: 0.0079 - val_loss: 0.0056\n",
      "Epoch 35/50\n",
      "9/9 - 0s - loss: 0.0074 - val_loss: 0.0049\n",
      "Epoch 36/50\n",
      "9/9 - 0s - loss: 0.0077 - val_loss: 0.0038\n",
      "Epoch 37/50\n",
      "9/9 - 0s - loss: 0.0077 - val_loss: 0.0070\n",
      "Epoch 38/50\n",
      "9/9 - 0s - loss: 0.0067 - val_loss: 0.0032\n",
      "Epoch 39/50\n",
      "9/9 - 0s - loss: 0.0065 - val_loss: 0.0030\n",
      "Epoch 40/50\n",
      "9/9 - 0s - loss: 0.0071 - val_loss: 0.0030\n",
      "Epoch 41/50\n",
      "9/9 - 0s - loss: 0.0078 - val_loss: 0.0049\n",
      "Epoch 42/50\n",
      "9/9 - 0s - loss: 0.0089 - val_loss: 0.0054\n",
      "Epoch 43/50\n",
      "9/9 - 0s - loss: 0.0088 - val_loss: 0.0035\n",
      "Epoch 44/50\n",
      "9/9 - 0s - loss: 0.0101 - val_loss: 0.0067\n",
      "Epoch 45/50\n",
      "9/9 - 0s - loss: 0.0085 - val_loss: 0.0037\n",
      "Epoch 46/50\n",
      "9/9 - 0s - loss: 0.0085 - val_loss: 0.0058\n",
      "Epoch 47/50\n",
      "9/9 - 0s - loss: 0.0125 - val_loss: 0.0063\n",
      "Epoch 48/50\n",
      "9/9 - 0s - loss: 0.0126 - val_loss: 0.0059\n",
      "Epoch 49/50\n",
      "9/9 - 0s - loss: 0.0085 - val_loss: 0.0045\n",
      "Epoch 50/50\n",
      "9/9 - 0s - loss: 0.0074 - val_loss: 0.0054\n"
     ]
    }
   ],
   "source": [
    "# fit network\n",
    "history = model.fit(train_X, train_y, epochs=50, batch_size=72, validation_data=(test_X, test_y), verbose=2, shuffle=False)"
   ]
  },
  {
   "cell_type": "code",
   "execution_count": 21,
   "metadata": {
    "colab": {
     "base_uri": "https://localhost:8080/",
     "height": 265
    },
    "colab_type": "code",
    "id": "Jmzc613YrrQx",
    "outputId": "796c8ab3-14bb-4080-f2f3-23dfa051e8cb"
   },
   "outputs": [
    {
     "data": {
      "image/png": "[encoded data removed]",
      "text/plain": [
       "<Figure size 432x288 with 1 Axes>"
      ]
     },
     "metadata": {
      "needs_background": "light"
     },
     "output_type": "display_data"
    }
   ],
   "source": [
    "# plot history\n",
    "pyplot.plot(history.history['loss'], label='train')\n",
    "pyplot.plot(history.history['val_loss'], label='test')\n",
    "pyplot.legend()\n",
    "pyplot.show()"
   ]
  },
  {
   "cell_type": "markdown",
   "metadata": {
    "colab_type": "text",
    "id": "xP-ECOJur6B4"
   },
   "source": [
    "Evaluate Model"
   ]
  },
  {
   "cell_type": "code",
   "execution_count": 22,
   "metadata": {
    "colab": {},
    "colab_type": "code",
    "id": "16emzgM3r2VX"
   },
   "outputs": [],
   "source": [
    "# make a prediction\n",
    "yhat = model.predict(test_X)\n",
    "test_X = test_X.reshape((test_X.shape[0], num_lags*num_features))"
   ]
  },
  {
   "cell_type": "code",
   "execution_count": 23,
   "metadata": {
    "colab": {},
    "colab_type": "code",
    "id": "FkJXlfAfr-YI"
   },
   "outputs": [
    {
     "name": "stdout",
     "output_type": "stream",
     "text": [
      "(213, 2)\n"
     ]
    }
   ],
   "source": [
    "from numpy import concatenate\n",
    "# invert scaling for forecast\n",
    "inv_yhat = concatenate((yhat, test_X[:, -1:]), axis=1)\n",
    "print(inv_yhat.shape)\n"
   ]
  },
  {
   "cell_type": "code",
   "execution_count": 24,
   "metadata": {},
   "outputs": [],
   "source": [
    "inv_yhat = scaler.inverse_transform(inv_yhat)\n",
    "inv_yhat = inv_yhat[:,0]"
   ]
  },
  {
   "cell_type": "code",
   "execution_count": 25,
   "metadata": {
    "colab": {},
    "colab_type": "code",
    "id": "txuSFMS9sBVV"
   },
   "outputs": [],
   "source": [
    "# invert scaling for actual\n",
    "test_y = test_y.reshape((len(test_y), 1))\n",
    "inv_y = concatenate((test_y, test_X[:, -1:]), axis=1)\n",
    "inv_y = scaler.inverse_transform(inv_y)\n",
    "inv_y = inv_y[:,0]"
   ]
  },
  {
   "cell_type": "code",
   "execution_count": 26,
   "metadata": {
    "colab": {
     "base_uri": "https://localhost:8080/",
     "height": 34
    },
    "colab_type": "code",
    "id": "SIpa8VwrsWqf",
    "outputId": "59519f44-9ee3-4bfe-99f5-1a2014f6ad4e"
   },
   "outputs": [
    {
     "name": "stdout",
     "output_type": "stream",
     "text": [
      "Test RMSE: 21.733\n"
     ]
    }
   ],
   "source": [
    "from math import sqrt\n",
    "from sklearn.metrics import mean_squared_error\n",
    "# calculate RMSE\n",
    "rmse = sqrt(mean_squared_error(inv_y, inv_yhat))\n",
    "print('Test RMSE: %.3f' % rmse)"
   ]
  },
  {
   "cell_type": "code",
   "execution_count": 27,
   "metadata": {
    "colab": {},
    "colab_type": "code",
    "id": "F-PMOzoKsgfS"
   },
   "outputs": [],
   "source": [
    "rmse = rmse* (1/100)"
   ]
  },
  {
   "cell_type": "code",
   "execution_count": 28,
   "metadata": {},
   "outputs": [
    {
     "name": "stdout",
     "output_type": "stream",
     "text": [
      "Test RMSE: 0.217\n"
     ]
    }
   ],
   "source": [
    "print('Test RMSE: %.3f' % rmse)"
   ]
  },
  {
   "cell_type": "code",
   "execution_count": 29,
   "metadata": {},
   "outputs": [],
   "source": [
    "#save model\n",
    "model.save(\"./model.h5\")"
   ]
  },
  {
   "cell_type": "code",
   "execution_count": 30,
   "metadata": {},
   "outputs": [
    {
     "name": "stdout",
     "output_type": "stream",
     "text": [
      "Model: \"sequential\"\n",
      "_________________________________________________________________\n",
      "Layer (type)                 Output Shape              Param #   \n",
      "=================================================================\n",
      "lstm (LSTM)                  (None, 50)                10400     \n",
      "_________________________________________________________________\n",
      "dense (Dense)                (None, 1)                 51        \n",
      "=================================================================\n",
      "Total params: 10,451\n",
      "Trainable params: 10,451\n",
      "Non-trainable params: 0\n",
      "_________________________________________________________________\n"
     ]
    }
   ],
   "source": [
    "from keras.models import load_model\n",
    "# load model\n",
    "model = load_model('model.h5')\n",
    "# summarize model.\n",
    "model.summary()"
   ]
  },
  {
   "cell_type": "code",
   "execution_count": 31,
   "metadata": {},
   "outputs": [],
   "source": [
    "cross_validation\n",
    "yhat = model.predict(cross_X)\n"
   ]
  },
  {
   "cell_type": "code",
   "execution_count": 32,
   "metadata": {},
   "outputs": [
    {
     "data": {
      "text/plain": [
       "array([[0.00250591],\n",
       "       [0.00250218],\n",
       "       [0.00249846],\n",
       "       [0.00249472],\n",
       "       [0.00249097],\n",
       "       [0.0024872 ],\n",
       "       [0.00248344],\n",
       "       [0.00247966],\n",
       "       [0.00247588],\n",
       "       [0.00247207],\n",
       "       [0.00246827],\n",
       "       [0.00246446],\n",
       "       [0.00246062],\n",
       "       [0.00245679],\n",
       "       [0.00245294],\n",
       "       [0.00244909],\n",
       "       [0.00244522],\n",
       "       [0.00244134],\n",
       "       [0.00243746],\n",
       "       [0.00243357],\n",
       "       [0.00242967],\n",
       "       [0.00242575],\n",
       "       [0.00242182],\n",
       "       [0.0024179 ],\n",
       "       [0.00241394],\n",
       "       [0.00240999],\n",
       "       [0.00240604],\n",
       "       [0.00240207],\n",
       "       [0.00239809],\n",
       "       [0.00239409],\n",
       "       [0.00239009],\n",
       "       [0.00238608],\n",
       "       [0.00238207],\n",
       "       [0.00237804],\n",
       "       [0.00237399],\n",
       "       [0.00236995],\n",
       "       [0.00236589],\n",
       "       [0.00236183],\n",
       "       [0.00235775],\n",
       "       [0.00235366],\n",
       "       [0.00234957],\n",
       "       [0.00234546],\n",
       "       [0.00234134],\n",
       "       [0.00233722],\n",
       "       [0.00233308],\n",
       "       [0.00232894],\n",
       "       [0.00232478],\n",
       "       [0.00232063],\n",
       "       [0.00231645],\n",
       "       [0.00231226],\n",
       "       [0.00230808],\n",
       "       [0.00230388],\n",
       "       [0.00229967],\n",
       "       [0.00229544],\n",
       "       [0.00229121],\n",
       "       [0.00228698],\n",
       "       [0.00228273],\n",
       "       [0.00227847],\n",
       "       [0.0022742 ],\n",
       "       [0.00226992],\n",
       "       [0.00226563],\n",
       "       [0.00226133],\n",
       "       [0.00225703],\n",
       "       [0.00225271],\n",
       "       [0.00224839],\n",
       "       [0.00224405],\n",
       "       [0.0022397 ],\n",
       "       [0.00223536],\n",
       "       [0.00223099],\n",
       "       [0.00222661],\n",
       "       [0.00222222],\n",
       "       [0.00221783],\n",
       "       [0.00221343],\n",
       "       [0.00220902],\n",
       "       [0.00220461],\n",
       "       [0.00220017],\n",
       "       [0.00219573],\n",
       "       [0.00219128],\n",
       "       [0.00218682],\n",
       "       [0.00218235],\n",
       "       [0.00217787],\n",
       "       [0.00217338],\n",
       "       [0.00216888],\n",
       "       [0.00216438],\n",
       "       [0.00215987],\n",
       "       [0.00215533],\n",
       "       [0.00215079],\n",
       "       [0.00214626],\n",
       "       [0.00214169],\n",
       "       [0.00213714],\n",
       "       [0.00213257],\n",
       "       [0.00212798],\n",
       "       [0.00212338],\n",
       "       [0.00211878],\n",
       "       [0.00211417],\n",
       "       [0.00210955],\n",
       "       [0.00210492],\n",
       "       [0.00210028],\n",
       "       [0.00209563],\n",
       "       [0.00209097],\n",
       "       [0.0020863 ],\n",
       "       [0.00208162],\n",
       "       [0.00207693],\n",
       "       [0.00207223],\n",
       "       [0.00206753],\n",
       "       [0.00206281],\n",
       "       [0.00205809],\n",
       "       [0.00205335],\n",
       "       [0.00204861],\n",
       "       [0.00204385],\n",
       "       [0.00203908],\n",
       "       [0.00203433],\n",
       "       [0.00202953],\n",
       "       [0.00202473],\n",
       "       [0.00201994],\n",
       "       [0.00201513],\n",
       "       [0.0020103 ],\n",
       "       [0.00200547],\n",
       "       [0.00200063],\n",
       "       [0.00199579],\n",
       "       [0.00199093],\n",
       "       [0.00198605],\n",
       "       [0.00198118],\n",
       "       [0.00197629],\n",
       "       [0.00197139],\n",
       "       [0.00196649],\n",
       "       [0.00196157],\n",
       "       [0.00195664],\n",
       "       [0.00195172],\n",
       "       [0.00194677],\n",
       "       [0.00194183],\n",
       "       [0.00193685],\n",
       "       [0.00193188],\n",
       "       [0.0019269 ],\n",
       "       [0.00192191],\n",
       "       [0.0019169 ],\n",
       "       [0.0019119 ],\n",
       "       [0.00190688],\n",
       "       [0.00190185],\n",
       "       [0.00189681],\n",
       "       [0.00189175],\n",
       "       [0.0018867 ],\n",
       "       [0.00188163],\n",
       "       [0.00187656],\n",
       "       [0.00187147],\n",
       "       [0.00186638],\n",
       "       [0.00186128],\n",
       "       [0.00185615],\n",
       "       [0.00185103],\n",
       "       [0.0018459 ],\n",
       "       [0.00184076],\n",
       "       [0.00183561],\n",
       "       [0.00183045],\n",
       "       [0.00182527],\n",
       "       [0.0018201 ],\n",
       "       [0.00181491],\n",
       "       [0.00180971],\n",
       "       [0.0018045 ],\n",
       "       [0.00179928],\n",
       "       [0.00179406],\n",
       "       [0.00178881],\n",
       "       [0.00178356],\n",
       "       [0.00177831],\n",
       "       [0.00177305],\n",
       "       [0.00176777],\n",
       "       [0.00176249],\n",
       "       [0.00175719],\n",
       "       [0.00175189],\n",
       "       [0.00174658],\n",
       "       [0.00174126],\n",
       "       [0.00173593],\n",
       "       [0.00173058],\n",
       "       [0.00172523],\n",
       "       [0.00171987],\n",
       "       [0.00171451],\n",
       "       [0.00170913],\n",
       "       [0.00170375],\n",
       "       [0.00169836],\n",
       "       [0.00169294],\n",
       "       [0.00168753],\n",
       "       [0.0016821 ],\n",
       "       [0.00167667],\n",
       "       [0.00167122],\n",
       "       [0.00166577],\n",
       "       [0.00166032],\n",
       "       [0.00165484],\n",
       "       [0.00164936],\n",
       "       [0.00164386],\n",
       "       [0.00163837],\n",
       "       [0.00163286],\n",
       "       [0.00162733],\n",
       "       [0.00162181],\n",
       "       [0.00161627],\n",
       "       [0.00161072],\n",
       "       [0.00160517],\n",
       "       [0.0015996 ],\n",
       "       [0.00159404],\n",
       "       [0.00158845],\n",
       "       [0.00158286],\n",
       "       [0.00157725],\n",
       "       [0.00157164],\n",
       "       [0.00156602],\n",
       "       [0.00156039],\n",
       "       [0.00155474],\n",
       "       [0.00154908],\n",
       "       [0.00154343],\n",
       "       [0.00153776],\n",
       "       [0.00153209],\n",
       "       [0.0015264 ],\n",
       "       [0.0015207 ],\n",
       "       [0.001515  ],\n",
       "       [0.00150928],\n",
       "       [0.00150356],\n",
       "       [0.00149783]], dtype=float32)"
      ]
     },
     "execution_count": 32,
     "metadata": {},
     "output_type": "execute_result"
    }
   ],
   "source": [
    "yhat"
   ]
  },
  {
   "cell_type": "code",
   "execution_count": 34,
   "metadata": {},
   "outputs": [],
   "source": [
    "#cross_validation.to_csv(\"cross.csv\")"
   ]
  },
  {
   "cell_type": "code",
   "execution_count": 35,
   "metadata": {},
   "outputs": [],
   "source": [
    "import pandas\n",
    "df = pandas.DataFrame(cross_validation)"
   ]
  },
  {
   "cell_type": "code",
   "execution_count": 36,
   "metadata": {},
   "outputs": [],
   "source": [
    "df.to_csv('~/work/Data/test.csv')"
   ]
  },
  {
   "cell_type": "code",
   "execution_count": 37,
   "metadata": {},
   "outputs": [
    {
     "data": {
      "text/plain": [
       "(214, 30, 1)"
      ]
     },
     "execution_count": 37,
     "metadata": {},
     "output_type": "execute_result"
    }
   ],
   "source": [
    "cross_X.shape"
   ]
  },
  {
   "cell_type": "code",
   "execution_count": 38,
   "metadata": {},
   "outputs": [
    {
     "name": "stdout",
     "output_type": "stream",
     "text": [
      "(214, 2)\n"
     ]
    }
   ],
   "source": [
    "cross_X = cross_X.reshape((cross_X.shape[0], num_lags*num_features))\n",
    "from numpy import concatenate\n",
    "# invert scaling for forecast\n",
    "inv_yhat = concatenate((yhat, cross_X[:, -1:]), axis=1)\n",
    "print(inv_yhat.shape)\n"
   ]
  },
  {
   "cell_type": "code",
   "execution_count": 39,
   "metadata": {},
   "outputs": [
    {
     "data": {
      "text/plain": [
       "array([[0.00250591, 0.        ],\n",
       "       [0.00250218, 0.        ],\n",
       "       [0.00249846, 0.        ],\n",
       "       [0.00249472, 0.        ],\n",
       "       [0.00249097, 0.        ],\n",
       "       [0.0024872 , 0.        ],\n",
       "       [0.00248344, 0.        ],\n",
       "       [0.00247966, 0.        ],\n",
       "       [0.00247588, 0.        ],\n",
       "       [0.00247207, 0.        ],\n",
       "       [0.00246827, 0.        ],\n",
       "       [0.00246446, 0.        ],\n",
       "       [0.00246062, 0.        ],\n",
       "       [0.00245679, 0.        ],\n",
       "       [0.00245294, 0.        ],\n",
       "       [0.00244909, 0.        ],\n",
       "       [0.00244522, 0.        ],\n",
       "       [0.00244134, 0.        ],\n",
       "       [0.00243746, 0.        ],\n",
       "       [0.00243357, 0.        ],\n",
       "       [0.00242967, 0.        ],\n",
       "       [0.00242575, 0.        ],\n",
       "       [0.00242182, 0.        ],\n",
       "       [0.0024179 , 0.        ],\n",
       "       [0.00241394, 0.        ],\n",
       "       [0.00240999, 0.        ],\n",
       "       [0.00240604, 0.        ],\n",
       "       [0.00240207, 0.        ],\n",
       "       [0.00239809, 0.        ],\n",
       "       [0.00239409, 0.        ],\n",
       "       [0.00239009, 0.        ],\n",
       "       [0.00238608, 0.        ],\n",
       "       [0.00238207, 0.        ],\n",
       "       [0.00237804, 0.        ],\n",
       "       [0.00237399, 0.        ],\n",
       "       [0.00236995, 0.        ],\n",
       "       [0.00236589, 0.        ],\n",
       "       [0.00236183, 0.        ],\n",
       "       [0.00235775, 0.        ],\n",
       "       [0.00235366, 0.        ],\n",
       "       [0.00234957, 0.        ],\n",
       "       [0.00234546, 0.        ],\n",
       "       [0.00234134, 0.        ],\n",
       "       [0.00233722, 0.        ],\n",
       "       [0.00233308, 0.        ],\n",
       "       [0.00232894, 0.        ],\n",
       "       [0.00232478, 0.        ],\n",
       "       [0.00232063, 0.        ],\n",
       "       [0.00231645, 0.        ],\n",
       "       [0.00231226, 0.        ],\n",
       "       [0.00230808, 0.        ],\n",
       "       [0.00230388, 0.        ],\n",
       "       [0.00229967, 0.        ],\n",
       "       [0.00229544, 0.        ],\n",
       "       [0.00229121, 0.        ],\n",
       "       [0.00228698, 0.        ],\n",
       "       [0.00228273, 0.        ],\n",
       "       [0.00227847, 0.        ],\n",
       "       [0.0022742 , 0.        ],\n",
       "       [0.00226992, 0.        ],\n",
       "       [0.00226563, 0.        ],\n",
       "       [0.00226133, 0.        ],\n",
       "       [0.00225703, 0.        ],\n",
       "       [0.00225271, 0.        ],\n",
       "       [0.00224839, 0.        ],\n",
       "       [0.00224405, 0.        ],\n",
       "       [0.0022397 , 0.        ],\n",
       "       [0.00223536, 0.        ],\n",
       "       [0.00223099, 0.        ],\n",
       "       [0.00222661, 0.        ],\n",
       "       [0.00222222, 0.        ],\n",
       "       [0.00221783, 0.        ],\n",
       "       [0.00221343, 0.        ],\n",
       "       [0.00220902, 0.        ],\n",
       "       [0.00220461, 0.        ],\n",
       "       [0.00220017, 0.        ],\n",
       "       [0.00219573, 0.        ],\n",
       "       [0.00219128, 0.        ],\n",
       "       [0.00218682, 0.        ],\n",
       "       [0.00218235, 0.        ],\n",
       "       [0.00217787, 0.        ],\n",
       "       [0.00217338, 0.        ],\n",
       "       [0.00216888, 0.        ],\n",
       "       [0.00216438, 0.        ],\n",
       "       [0.00215987, 0.        ],\n",
       "       [0.00215533, 0.        ],\n",
       "       [0.00215079, 0.        ],\n",
       "       [0.00214626, 0.        ],\n",
       "       [0.00214169, 0.        ],\n",
       "       [0.00213714, 0.        ],\n",
       "       [0.00213257, 0.        ],\n",
       "       [0.00212798, 0.        ],\n",
       "       [0.00212338, 0.        ],\n",
       "       [0.00211878, 0.        ],\n",
       "       [0.00211417, 0.        ],\n",
       "       [0.00210955, 0.        ],\n",
       "       [0.00210492, 0.        ],\n",
       "       [0.00210028, 0.        ],\n",
       "       [0.00209563, 0.        ],\n",
       "       [0.00209097, 0.        ],\n",
       "       [0.0020863 , 0.        ],\n",
       "       [0.00208162, 0.        ],\n",
       "       [0.00207693, 0.        ],\n",
       "       [0.00207223, 0.        ],\n",
       "       [0.00206753, 0.        ],\n",
       "       [0.00206281, 0.        ],\n",
       "       [0.00205809, 0.        ],\n",
       "       [0.00205335, 0.        ],\n",
       "       [0.00204861, 0.        ],\n",
       "       [0.00204385, 0.        ],\n",
       "       [0.00203908, 0.        ],\n",
       "       [0.00203433, 0.        ],\n",
       "       [0.00202953, 0.        ],\n",
       "       [0.00202473, 0.        ],\n",
       "       [0.00201994, 0.        ],\n",
       "       [0.00201513, 0.        ],\n",
       "       [0.0020103 , 0.        ],\n",
       "       [0.00200547, 0.        ],\n",
       "       [0.00200063, 0.        ],\n",
       "       [0.00199579, 0.        ],\n",
       "       [0.00199093, 0.        ],\n",
       "       [0.00198605, 0.        ],\n",
       "       [0.00198118, 0.        ],\n",
       "       [0.00197629, 0.        ],\n",
       "       [0.00197139, 0.        ],\n",
       "       [0.00196649, 0.        ],\n",
       "       [0.00196157, 0.        ],\n",
       "       [0.00195664, 0.        ],\n",
       "       [0.00195172, 0.        ],\n",
       "       [0.00194677, 0.        ],\n",
       "       [0.00194183, 0.        ],\n",
       "       [0.00193685, 0.        ],\n",
       "       [0.00193188, 0.        ],\n",
       "       [0.0019269 , 0.        ],\n",
       "       [0.00192191, 0.        ],\n",
       "       [0.0019169 , 0.        ],\n",
       "       [0.0019119 , 0.        ],\n",
       "       [0.00190688, 0.        ],\n",
       "       [0.00190185, 0.        ],\n",
       "       [0.00189681, 0.        ],\n",
       "       [0.00189175, 0.        ],\n",
       "       [0.0018867 , 0.        ],\n",
       "       [0.00188163, 0.        ],\n",
       "       [0.00187656, 0.        ],\n",
       "       [0.00187147, 0.        ],\n",
       "       [0.00186638, 0.        ],\n",
       "       [0.00186128, 0.        ],\n",
       "       [0.00185615, 0.        ],\n",
       "       [0.00185103, 0.        ],\n",
       "       [0.0018459 , 0.        ],\n",
       "       [0.00184076, 0.        ],\n",
       "       [0.00183561, 0.        ],\n",
       "       [0.00183045, 0.        ],\n",
       "       [0.00182527, 0.        ],\n",
       "       [0.0018201 , 0.        ],\n",
       "       [0.00181491, 0.        ],\n",
       "       [0.00180971, 0.        ],\n",
       "       [0.0018045 , 0.        ],\n",
       "       [0.00179928, 0.        ],\n",
       "       [0.00179406, 0.        ],\n",
       "       [0.00178881, 0.        ],\n",
       "       [0.00178356, 0.        ],\n",
       "       [0.00177831, 0.        ],\n",
       "       [0.00177305, 0.        ],\n",
       "       [0.00176777, 0.        ],\n",
       "       [0.00176249, 0.        ],\n",
       "       [0.00175719, 0.        ],\n",
       "       [0.00175189, 0.        ],\n",
       "       [0.00174658, 0.        ],\n",
       "       [0.00174126, 0.        ],\n",
       "       [0.00173593, 0.        ],\n",
       "       [0.00173058, 0.        ],\n",
       "       [0.00172523, 0.        ],\n",
       "       [0.00171987, 0.        ],\n",
       "       [0.00171451, 0.        ],\n",
       "       [0.00170913, 0.        ],\n",
       "       [0.00170375, 0.        ],\n",
       "       [0.00169836, 0.        ],\n",
       "       [0.00169294, 0.        ],\n",
       "       [0.00168753, 0.        ],\n",
       "       [0.0016821 , 0.        ],\n",
       "       [0.00167667, 0.        ],\n",
       "       [0.00167122, 0.        ],\n",
       "       [0.00166577, 0.        ],\n",
       "       [0.00166032, 0.        ],\n",
       "       [0.00165484, 0.        ],\n",
       "       [0.00164936, 0.        ],\n",
       "       [0.00164386, 0.        ],\n",
       "       [0.00163837, 0.        ],\n",
       "       [0.00163286, 0.        ],\n",
       "       [0.00162733, 0.        ],\n",
       "       [0.00162181, 0.        ],\n",
       "       [0.00161627, 0.        ],\n",
       "       [0.00161072, 0.        ],\n",
       "       [0.00160517, 0.        ],\n",
       "       [0.0015996 , 0.        ],\n",
       "       [0.00159404, 0.        ],\n",
       "       [0.00158845, 0.        ],\n",
       "       [0.00158286, 0.        ],\n",
       "       [0.00157725, 0.        ],\n",
       "       [0.00157164, 0.        ],\n",
       "       [0.00156602, 0.        ],\n",
       "       [0.00156039, 0.        ],\n",
       "       [0.00155474, 0.        ],\n",
       "       [0.00154908, 0.        ],\n",
       "       [0.00154343, 0.        ],\n",
       "       [0.00153776, 0.        ],\n",
       "       [0.00153209, 0.        ],\n",
       "       [0.0015264 , 0.        ],\n",
       "       [0.0015207 , 0.        ],\n",
       "       [0.001515  , 0.        ],\n",
       "       [0.00150928, 0.        ],\n",
       "       [0.00150356, 0.        ],\n",
       "       [0.00149783, 0.        ]], dtype=float32)"
      ]
     },
     "execution_count": 39,
     "metadata": {},
     "output_type": "execute_result"
    }
   ],
   "source": [
    "inv_yhat"
   ]
  },
  {
   "cell_type": "code",
   "execution_count": 40,
   "metadata": {},
   "outputs": [],
   "source": [
    "inv_yhat = scaler.inverse_transform(inv_yhat)\n",
    "inv_yhat = inv_yhat[:,0]"
   ]
  },
  {
   "cell_type": "code",
   "execution_count": 41,
   "metadata": {},
   "outputs": [
    {
     "data": {
      "text/plain": [
       "array([2.7439687, 2.739891 , 2.7358108, 2.7317157, 2.7276125, 2.7234895,\n",
       "       2.7193723, 2.7152255, 2.711089 , 2.7069182, 2.7027547, 2.698583 ,\n",
       "       2.6943774, 2.6901867, 2.6859674, 2.6817527, 2.6775174, 2.6732652,\n",
       "       2.6690202, 2.6647604, 2.6604846, 2.656196 , 2.6518927, 2.647598 ,\n",
       "       2.6432693, 2.638942 , 2.634612 , 2.630267 , 2.6259031, 2.6215317,\n",
       "       2.6171527, 2.6127615, 2.6083622, 2.60395  , 2.599523 , 2.5950973,\n",
       "       2.5906532, 2.5862062, 2.5817337, 2.577259 , 2.5727785, 2.5682786,\n",
       "       2.5637662, 2.5592601, 2.5547194, 2.5501878, 2.5456364, 2.541092 ,\n",
       "       2.5365138, 2.53193  , 2.5273483, 2.522748 , 2.5181403, 2.5135067,\n",
       "       2.5088794, 2.5042377, 2.4995866, 2.4949195, 2.490246 , 2.4855664,\n",
       "       2.480864 , 2.4761527, 2.4714496, 2.46672  , 2.4619904, 2.4572344,\n",
       "       2.4524677, 2.447715 , 2.44293  , 2.438133 , 2.433336 , 2.4285276,\n",
       "       2.423709 , 2.4188797, 2.4140444, 2.4091887, 2.404321 , 2.3994544,\n",
       "       2.3945625, 2.3896716, 2.3847682, 2.3798513, 2.3749292, 2.3700006,\n",
       "       2.3650537, 2.3600912, 2.3551176, 2.3501515, 2.3451545, 2.3401647,\n",
       "       2.3351626, 2.330136 , 2.3251047, 2.32006  , 2.315017 , 2.3099535,\n",
       "       2.3048906, 2.29981  , 2.2947109, 2.2896106, 2.2844977, 2.279371 ,\n",
       "       2.2742383, 2.2690923, 2.2639415, 2.2587774, 2.25361  , 2.2484145,\n",
       "       2.2432234, 2.2380135, 2.2327907, 2.227587 , 2.2223382, 2.2170835,\n",
       "       2.2118297, 2.206567 , 2.2012768, 2.1959865, 2.1906853, 2.1853852,\n",
       "       2.180066 , 2.174727 , 2.1693883, 2.1640406, 2.1586769, 2.1533024,\n",
       "       2.14792  , 2.1425245, 2.1371324, 2.13171  , 2.1262999, 2.1208506,\n",
       "       2.115406 , 2.1099527, 2.1044934, 2.0990105, 2.0935283, 2.0880337,\n",
       "       2.0825298, 2.0770025, 2.071469 , 2.0659409, 2.0603893, 2.0548313,\n",
       "       2.0492597, 2.0436833, 2.0381007, 2.0324817, 2.026879 , 2.0212572,\n",
       "       2.015634 , 2.0099895, 2.0043414, 1.9986745, 1.9930085, 1.9873265,\n",
       "       1.9816321, 1.9759295, 1.9702064, 1.9644992, 1.9587507, 1.9529985,\n",
       "       1.9472525, 1.9414873, 1.9357102, 1.9299235, 1.9241216, 1.9183226,\n",
       "       1.9125031, 1.9066775, 1.9008453, 1.8949825, 1.8891295, 1.8832568,\n",
       "       1.8773881, 1.8714995, 1.8656036, 1.8597002, 1.8537639, 1.8478466,\n",
       "       1.8418949, 1.835958 , 1.8299828, 1.8240198, 1.8180522, 1.8120489,\n",
       "       1.8060507, 1.8000277, 1.7940146, 1.7879821, 1.7819233, 1.7758795,\n",
       "       1.7698188, 1.7637331, 1.7576623, 1.7515616, 1.7454698, 1.7393535,\n",
       "       1.7332269, 1.7270902, 1.7209475, 1.7147913, 1.7086238, 1.7024443,\n",
       "       1.6962477, 1.6900606, 1.6838526, 1.677637 , 1.6714113, 1.6651673,\n",
       "       1.6589203, 1.6526626, 1.6464036, 1.6401231], dtype=float32)"
      ]
     },
     "execution_count": 41,
     "metadata": {},
     "output_type": "execute_result"
    }
   ],
   "source": [
    "inv_yhat"
   ]
  },
  {
   "cell_type": "code",
   "execution_count": null,
   "metadata": {},
   "outputs": [],
   "source": []
  }
 ],
 "metadata": {
  "colab": {
   "name": "AirPollutionForecasting.ipynb",
   "provenance": []
  },
  "kernelspec": {
   "display_name": "Python 3",
   "language": "python",
   "name": "python3"
  },
  "language_info": {
   "codemirror_mode": {
    "name": "ipython",
    "version": 3
   },
   "file_extension": ".py",
   "mimetype": "text/x-python",
   "name": "python",
   "nbconvert_exporter": "python",
   "pygments_lexer": "ipython3",
   "version": "3.8.2"
  }
 },
 "nbformat": 4,
 "nbformat_minor": 1
}
