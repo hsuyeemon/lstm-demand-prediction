{
 "cells": [
  {
   "cell_type": "markdown",
   "metadata": {},
   "source": [
    "<h1>Data Visualization for the purpose of demand prediction </h1>"
   ]
  },
  {
   "cell_type": "markdown",
   "metadata": {},
   "source": [
    "Purpose : To know which about of product should be in-stocked in which day"
   ]
  },
  {
   "cell_type": "markdown",
   "metadata": {},
   "source": [
    "Question 1 : What is the demand of the whole dataset in each month"
   ]
  },
  {
   "cell_type": "code",
   "execution_count": null,
   "metadata": {},
   "outputs": [],
   "source": [
    "import pandas as pd\n",
    "import numpy as np\n",
    "import matplotlib.pyplot as plt\n",
    "import seaborn as sns\n",
    "sns.set(style=\"whitegrid\",rc={'figure.figsize':(11.7,8.27)})\n",
    "\n",
    "import gc"
   ]
  },
  {
   "cell_type": "code",
   "execution_count": null,
   "metadata": {},
   "outputs": [],
   "source": [
    "#Load data \n",
    "df = []\n",
    "#get data for 2016 -2019\n",
    "for i in range(2016,2020):\n",
    "    temp = pd.read_hdf('~/work/Data/prepared_data2/key'+str(i)+'.h5', 'df')\n",
    "    temp = temp.drop(['Unnamed: 0','date','storeId','productId'],axis=1)\n",
    "    #print(temp)\n",
    "    temp['year'] = i\n",
    "    t1 = temp.groupby(\"month\")\n",
    "    df.append(t1['quantity'].sum())\n",
    "    #t1 = temp.group(['month']).sum()\n",
    "    #df.append(t1)\n",
    "    del [temp]\n",
    "    del [t1]\n",
    "    gc.collect()\n",
    "    \n",
    "    \n",
    "    "
   ]
  },
  {
   "cell_type": "code",
   "execution_count": null,
   "metadata": {},
   "outputs": [],
   "source": [
    "years = [2016,2017,2018,2019]\n",
    "df2 = df\n",
    "for i in range(len(df)):\n",
    "    df2[i] = pd.DataFrame(df[i]) \n",
    "    df2[i]['year'] = years[i]\n",
    "    df2[i]['month'] = df[i].index\n",
    "    #df2[i]['month'] = pd.DatetimeIndex(df2[i]['month']).month\n",
    "    \n",
    "#df = pd.concat(df)\n",
    "#sns.barplot(x=\"month\", y=\"quantity\", data=df,hue='year');"
   ]
  },
  {
   "cell_type": "code",
   "execution_count": null,
   "metadata": {},
   "outputs": [],
   "source": [
    "df2 = pd.concat(df2)\n"
   ]
  },
  {
   "cell_type": "code",
   "execution_count": null,
   "metadata": {},
   "outputs": [],
   "source": [
    "ax = sns.barplot(x=\"month\", y=\"quantity\", data=df2, hue='year');\n",
    "ax.set_title('Total Demand in each month between 2016 and 2019')\n",
    "ax.set_xlabel(\"month\")\n",
    "ax.set_ylabel(\"demand\")"
   ]
  },
  {
   "cell_type": "code",
   "execution_count": null,
   "metadata": {},
   "outputs": [],
   "source": []
  },
  {
   "cell_type": "code",
   "execution_count": null,
   "metadata": {},
   "outputs": [],
   "source": [
    "df[1]j"
   ]
  },
  {
   "cell_type": "code",
   "execution_count": null,
   "metadata": {},
   "outputs": [],
   "source": []
  },
  {
   "cell_type": "code",
   "execution_count": null,
   "metadata": {},
   "outputs": [],
   "source": []
  },
  {
   "cell_type": "code",
   "execution_count": null,
   "metadata": {},
   "outputs": [],
   "source": []
  },
  {
   "cell_type": "code",
   "execution_count": null,
   "metadata": {},
   "outputs": [],
   "source": []
  }
 ],
 "metadata": {
  "kernelspec": {
   "display_name": "Python 3",
   "language": "python",
   "name": "python3"
  },
  "language_info": {
   "codemirror_mode": {
    "name": "ipython",
    "version": 3
   },
   "file_extension": ".py",
   "mimetype": "text/x-python",
   "name": "python",
   "nbconvert_exporter": "python",
   "pygments_lexer": "ipython3",
   "version": "3.8.2"
  }
 },
 "nbformat": 4,
 "nbformat_minor": 4
}
