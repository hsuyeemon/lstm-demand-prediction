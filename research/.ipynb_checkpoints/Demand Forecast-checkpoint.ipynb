{
 "cells": [
  {
   "cell_type": "markdown",
   "metadata": {
    "colab_type": "text",
    "id": "0ckQTagirtYY"
   },
   "source": [
    "Demand Predict"
   ]
  },
  {
   "cell_type": "markdown",
   "metadata": {
    "colab_type": "text",
    "id": "NOVyOvjysKBz"
   },
   "source": [
    "Basic Data Preparation"
   ]
  },
  {
   "cell_type": "code",
   "execution_count": 1,
   "metadata": {
    "colab": {},
    "colab_type": "code",
    "id": "As3kivKdpg3V"
   },
   "outputs": [],
   "source": [
    "from pandas import read_csv\n",
    "from datetime import datetime\n",
    "from keras.models import Sequential\n",
    "from keras.layers import Dense\n",
    "from keras.layers import LSTM"
   ]
  },
  {
   "cell_type": "code",
   "execution_count": 5,
   "metadata": {
    "colab": {},
    "colab_type": "code",
    "id": "ONRbR5QQrRli"
   },
   "outputs": [
    {
     "ename": "FileNotFoundError",
     "evalue": "[Errno 2] File home/work/DemandPrediction/2016demand2017.csv does not exist: 'home/work/DemandPrediction/2016demand2017.csv'",
     "output_type": "error",
     "traceback": [
      "\u001b[0;31m---------------------------------------------------------------------------\u001b[0m",
      "\u001b[0;31mFileNotFoundError\u001b[0m                         Traceback (most recent call last)",
      "\u001b[0;32m<ipython-input-5-2cd1ce6ccd3e>\u001b[0m in \u001b[0;36m<module>\u001b[0;34m\u001b[0m\n\u001b[0;32m----> 1\u001b[0;31m \u001b[0mdataset\u001b[0m \u001b[0;34m=\u001b[0m \u001b[0mread_csv\u001b[0m\u001b[0;34m(\u001b[0m\u001b[0;34m'home/work/DemandPrediction/2016demand2017.csv'\u001b[0m\u001b[0;34m)\u001b[0m\u001b[0;34m\u001b[0m\u001b[0;34m\u001b[0m\u001b[0m\n\u001b[0m",
      "\u001b[0;32m~/anaconda3/envs/my_env/lib/python3.8/site-packages/pandas/io/parsers.py\u001b[0m in \u001b[0;36mparser_f\u001b[0;34m(filepath_or_buffer, sep, delimiter, header, names, index_col, usecols, squeeze, prefix, mangle_dupe_cols, dtype, engine, converters, true_values, false_values, skipinitialspace, skiprows, skipfooter, nrows, na_values, keep_default_na, na_filter, verbose, skip_blank_lines, parse_dates, infer_datetime_format, keep_date_col, date_parser, dayfirst, cache_dates, iterator, chunksize, compression, thousands, decimal, lineterminator, quotechar, quoting, doublequote, escapechar, comment, encoding, dialect, error_bad_lines, warn_bad_lines, delim_whitespace, low_memory, memory_map, float_precision)\u001b[0m\n\u001b[1;32m    674\u001b[0m         )\n\u001b[1;32m    675\u001b[0m \u001b[0;34m\u001b[0m\u001b[0m\n\u001b[0;32m--> 676\u001b[0;31m         \u001b[0;32mreturn\u001b[0m \u001b[0m_read\u001b[0m\u001b[0;34m(\u001b[0m\u001b[0mfilepath_or_buffer\u001b[0m\u001b[0;34m,\u001b[0m \u001b[0mkwds\u001b[0m\u001b[0;34m)\u001b[0m\u001b[0;34m\u001b[0m\u001b[0;34m\u001b[0m\u001b[0m\n\u001b[0m\u001b[1;32m    677\u001b[0m \u001b[0;34m\u001b[0m\u001b[0m\n\u001b[1;32m    678\u001b[0m     \u001b[0mparser_f\u001b[0m\u001b[0;34m.\u001b[0m\u001b[0m__name__\u001b[0m \u001b[0;34m=\u001b[0m \u001b[0mname\u001b[0m\u001b[0;34m\u001b[0m\u001b[0;34m\u001b[0m\u001b[0m\n",
      "\u001b[0;32m~/anaconda3/envs/my_env/lib/python3.8/site-packages/pandas/io/parsers.py\u001b[0m in \u001b[0;36m_read\u001b[0;34m(filepath_or_buffer, kwds)\u001b[0m\n\u001b[1;32m    446\u001b[0m \u001b[0;34m\u001b[0m\u001b[0m\n\u001b[1;32m    447\u001b[0m     \u001b[0;31m# Create the parser.\u001b[0m\u001b[0;34m\u001b[0m\u001b[0;34m\u001b[0m\u001b[0;34m\u001b[0m\u001b[0m\n\u001b[0;32m--> 448\u001b[0;31m     \u001b[0mparser\u001b[0m \u001b[0;34m=\u001b[0m \u001b[0mTextFileReader\u001b[0m\u001b[0;34m(\u001b[0m\u001b[0mfp_or_buf\u001b[0m\u001b[0;34m,\u001b[0m \u001b[0;34m**\u001b[0m\u001b[0mkwds\u001b[0m\u001b[0;34m)\u001b[0m\u001b[0;34m\u001b[0m\u001b[0;34m\u001b[0m\u001b[0m\n\u001b[0m\u001b[1;32m    449\u001b[0m \u001b[0;34m\u001b[0m\u001b[0m\n\u001b[1;32m    450\u001b[0m     \u001b[0;32mif\u001b[0m \u001b[0mchunksize\u001b[0m \u001b[0;32mor\u001b[0m \u001b[0miterator\u001b[0m\u001b[0;34m:\u001b[0m\u001b[0;34m\u001b[0m\u001b[0;34m\u001b[0m\u001b[0m\n",
      "\u001b[0;32m~/anaconda3/envs/my_env/lib/python3.8/site-packages/pandas/io/parsers.py\u001b[0m in \u001b[0;36m__init__\u001b[0;34m(self, f, engine, **kwds)\u001b[0m\n\u001b[1;32m    878\u001b[0m             \u001b[0mself\u001b[0m\u001b[0;34m.\u001b[0m\u001b[0moptions\u001b[0m\u001b[0;34m[\u001b[0m\u001b[0;34m\"has_index_names\"\u001b[0m\u001b[0;34m]\u001b[0m \u001b[0;34m=\u001b[0m \u001b[0mkwds\u001b[0m\u001b[0;34m[\u001b[0m\u001b[0;34m\"has_index_names\"\u001b[0m\u001b[0;34m]\u001b[0m\u001b[0;34m\u001b[0m\u001b[0;34m\u001b[0m\u001b[0m\n\u001b[1;32m    879\u001b[0m \u001b[0;34m\u001b[0m\u001b[0m\n\u001b[0;32m--> 880\u001b[0;31m         \u001b[0mself\u001b[0m\u001b[0;34m.\u001b[0m\u001b[0m_make_engine\u001b[0m\u001b[0;34m(\u001b[0m\u001b[0mself\u001b[0m\u001b[0;34m.\u001b[0m\u001b[0mengine\u001b[0m\u001b[0;34m)\u001b[0m\u001b[0;34m\u001b[0m\u001b[0;34m\u001b[0m\u001b[0m\n\u001b[0m\u001b[1;32m    881\u001b[0m \u001b[0;34m\u001b[0m\u001b[0m\n\u001b[1;32m    882\u001b[0m     \u001b[0;32mdef\u001b[0m \u001b[0mclose\u001b[0m\u001b[0;34m(\u001b[0m\u001b[0mself\u001b[0m\u001b[0;34m)\u001b[0m\u001b[0;34m:\u001b[0m\u001b[0;34m\u001b[0m\u001b[0;34m\u001b[0m\u001b[0m\n",
      "\u001b[0;32m~/anaconda3/envs/my_env/lib/python3.8/site-packages/pandas/io/parsers.py\u001b[0m in \u001b[0;36m_make_engine\u001b[0;34m(self, engine)\u001b[0m\n\u001b[1;32m   1112\u001b[0m     \u001b[0;32mdef\u001b[0m \u001b[0m_make_engine\u001b[0m\u001b[0;34m(\u001b[0m\u001b[0mself\u001b[0m\u001b[0;34m,\u001b[0m \u001b[0mengine\u001b[0m\u001b[0;34m=\u001b[0m\u001b[0;34m\"c\"\u001b[0m\u001b[0;34m)\u001b[0m\u001b[0;34m:\u001b[0m\u001b[0;34m\u001b[0m\u001b[0;34m\u001b[0m\u001b[0m\n\u001b[1;32m   1113\u001b[0m         \u001b[0;32mif\u001b[0m \u001b[0mengine\u001b[0m \u001b[0;34m==\u001b[0m \u001b[0;34m\"c\"\u001b[0m\u001b[0;34m:\u001b[0m\u001b[0;34m\u001b[0m\u001b[0;34m\u001b[0m\u001b[0m\n\u001b[0;32m-> 1114\u001b[0;31m             \u001b[0mself\u001b[0m\u001b[0;34m.\u001b[0m\u001b[0m_engine\u001b[0m \u001b[0;34m=\u001b[0m \u001b[0mCParserWrapper\u001b[0m\u001b[0;34m(\u001b[0m\u001b[0mself\u001b[0m\u001b[0;34m.\u001b[0m\u001b[0mf\u001b[0m\u001b[0;34m,\u001b[0m \u001b[0;34m**\u001b[0m\u001b[0mself\u001b[0m\u001b[0;34m.\u001b[0m\u001b[0moptions\u001b[0m\u001b[0;34m)\u001b[0m\u001b[0;34m\u001b[0m\u001b[0;34m\u001b[0m\u001b[0m\n\u001b[0m\u001b[1;32m   1115\u001b[0m         \u001b[0;32melse\u001b[0m\u001b[0;34m:\u001b[0m\u001b[0;34m\u001b[0m\u001b[0;34m\u001b[0m\u001b[0m\n\u001b[1;32m   1116\u001b[0m             \u001b[0;32mif\u001b[0m \u001b[0mengine\u001b[0m \u001b[0;34m==\u001b[0m \u001b[0;34m\"python\"\u001b[0m\u001b[0;34m:\u001b[0m\u001b[0;34m\u001b[0m\u001b[0;34m\u001b[0m\u001b[0m\n",
      "\u001b[0;32m~/anaconda3/envs/my_env/lib/python3.8/site-packages/pandas/io/parsers.py\u001b[0m in \u001b[0;36m__init__\u001b[0;34m(self, src, **kwds)\u001b[0m\n\u001b[1;32m   1889\u001b[0m         \u001b[0mkwds\u001b[0m\u001b[0;34m[\u001b[0m\u001b[0;34m\"usecols\"\u001b[0m\u001b[0;34m]\u001b[0m \u001b[0;34m=\u001b[0m \u001b[0mself\u001b[0m\u001b[0;34m.\u001b[0m\u001b[0musecols\u001b[0m\u001b[0;34m\u001b[0m\u001b[0;34m\u001b[0m\u001b[0m\n\u001b[1;32m   1890\u001b[0m \u001b[0;34m\u001b[0m\u001b[0m\n\u001b[0;32m-> 1891\u001b[0;31m         \u001b[0mself\u001b[0m\u001b[0;34m.\u001b[0m\u001b[0m_reader\u001b[0m \u001b[0;34m=\u001b[0m \u001b[0mparsers\u001b[0m\u001b[0;34m.\u001b[0m\u001b[0mTextReader\u001b[0m\u001b[0;34m(\u001b[0m\u001b[0msrc\u001b[0m\u001b[0;34m,\u001b[0m \u001b[0;34m**\u001b[0m\u001b[0mkwds\u001b[0m\u001b[0;34m)\u001b[0m\u001b[0;34m\u001b[0m\u001b[0;34m\u001b[0m\u001b[0m\n\u001b[0m\u001b[1;32m   1892\u001b[0m         \u001b[0mself\u001b[0m\u001b[0;34m.\u001b[0m\u001b[0munnamed_cols\u001b[0m \u001b[0;34m=\u001b[0m \u001b[0mself\u001b[0m\u001b[0;34m.\u001b[0m\u001b[0m_reader\u001b[0m\u001b[0;34m.\u001b[0m\u001b[0munnamed_cols\u001b[0m\u001b[0;34m\u001b[0m\u001b[0;34m\u001b[0m\u001b[0m\n\u001b[1;32m   1893\u001b[0m \u001b[0;34m\u001b[0m\u001b[0m\n",
      "\u001b[0;32mpandas/_libs/parsers.pyx\u001b[0m in \u001b[0;36mpandas._libs.parsers.TextReader.__cinit__\u001b[0;34m()\u001b[0m\n",
      "\u001b[0;32mpandas/_libs/parsers.pyx\u001b[0m in \u001b[0;36mpandas._libs.parsers.TextReader._setup_parser_source\u001b[0;34m()\u001b[0m\n",
      "\u001b[0;31mFileNotFoundError\u001b[0m: [Errno 2] File home/work/DemandPrediction/2016demand2017.csv does not exist: 'home/work/DemandPrediction/2016demand2017.csv'"
     ]
    }
   ],
   "source": [
    "dataset = read_csv('home/work/DemandPrediction/2016demand2017.csv')"
   ]
  },
  {
   "cell_type": "code",
   "execution_count": null,
   "metadata": {
    "colab": {},
    "colab_type": "code",
    "id": "xgmTHATAsa2q"
   },
   "outputs": [],
   "source": [
    "# manually specify column names\n",
    "dataset.columns = ['date', 'quantity']\n",
    "dataset.index.name = 'date'\n",
    "dataset.head(5)"
   ]
  },
  {
   "cell_type": "code",
   "execution_count": null,
   "metadata": {
    "colab": {},
    "colab_type": "code",
    "id": "LsVBKSNLtvVE"
   },
   "outputs": [],
   "source": [
    "from matplotlib import pyplot\n",
    "# load dataset\n",
    "#dataset = read_csv('pollution.csv', header=0, index_col=0)\n",
    "values = dataset.values"
   ]
  },
  {
   "cell_type": "code",
   "execution_count": null,
   "metadata": {
    "colab": {
     "base_uri": "https://localhost:8080/",
     "height": 268
    },
    "colab_type": "code",
    "id": "nvNWMCXjt6ME",
    "outputId": "28f35e4c-3527-4b01-f637-c06c92ad9c4d"
   },
   "outputs": [],
   "source": [
    "\n",
    "# plot each column\n",
    "pyplot.figure()\n",
    "pyplot.plot(values[:, 1])\n",
    "pyplot.title(dataset.columns[1], y=0.5, loc='right')\n",
    "pyplot.show()"
   ]
  },
  {
   "cell_type": "markdown",
   "metadata": {
    "colab_type": "text",
    "id": "qU8AWyctuNsO"
   },
   "source": [
    "Multivariate LSTM Forecast Model"
   ]
  },
  {
   "cell_type": "markdown",
   "metadata": {
    "colab_type": "text",
    "id": "nbn0oGwx-Q5l"
   },
   "source": [
    "LSTM Data Preparation:<br>\n",
    "***framing the dataset as a supervised learning problem and normalizing the input variables.***"
   ]
  },
  {
   "cell_type": "code",
   "execution_count": 179,
   "metadata": {
    "colab": {},
    "colab_type": "code",
    "id": "ZzDa6PYht9BU"
   },
   "outputs": [],
   "source": [
    "from pandas import DataFrame\n",
    "from pandas import concat\n",
    "from sklearn.preprocessing import LabelEncoder\n",
    "from sklearn.preprocessing import MinMaxScaler"
   ]
  },
  {
   "cell_type": "code",
   "execution_count": 180,
   "metadata": {
    "colab": {},
    "colab_type": "code",
    "id": "_YYeYZoO_1Cu"
   },
   "outputs": [],
   "source": [
    "# convert series to supervised learning\n",
    "def series_to_supervised(data, n_in=1, n_out=1, dropnan=True):\n",
    "\tn_vars = 1 if type(data) is list else data.shape[1]\n",
    "\tdf = DataFrame(data)\n",
    "\tcols, names = list(), list()\n",
    "\t# input sequence (t-n, ... t-1)\n",
    "\tfor i in range(n_in, 0, -1):\n",
    "\t\tcols.append(df.shift(i))\n",
    "\t\tnames += [('var%d(t-%d)' % (j+1, i)) for j in range(n_vars)]\n",
    "\t# forecast sequence (t, t+1, ... t+n)\n",
    "\tfor i in range(0, n_out):\n",
    "\t\tcols.append(df.shift(-i))\n",
    "\t\tif i == 0:\n",
    "\t\t\tnames += [('var%d(t)' % (j+1)) for j in range(n_vars)]\n",
    "\t\telse:\n",
    "\t\t\tnames += [('var%d(t+%d)' % (j+1, i)) for j in range(n_vars)]\n",
    "\t# put it all together\n",
    "\tagg = concat(cols, axis=1)\n",
    "\tagg.columns = names\n",
    "\t# drop rows with NaN values\n",
    "\tif dropnan:\n",
    "\t\tagg.dropna(inplace=True)\n",
    "\treturn agg\n",
    " "
   ]
  },
  {
   "cell_type": "code",
   "execution_count": 181,
   "metadata": {
    "colab": {},
    "colab_type": "code",
    "id": "mMdWKca8LlBE"
   },
   "outputs": [],
   "source": [
    "# integer encode direction\n",
    "encoder = LabelEncoder()\n",
    "values[:,0] = encoder.fit_transform(values[:,0])"
   ]
  },
  {
   "cell_type": "code",
   "execution_count": 182,
   "metadata": {
    "colab": {
     "base_uri": "https://localhost:8080/",
     "height": 140
    },
    "colab_type": "code",
    "id": "aJwr7hKsL0-_",
    "outputId": "6c321a13-f00d-4231-fb93-1b99eff6987d"
   },
   "outputs": [
    {
     "data": {
      "text/plain": [
       "array([[0, 3],\n",
       "       [1, 2],\n",
       "       [2, 0],\n",
       "       ...,\n",
       "       [1093, 0],\n",
       "       [1094, 0],\n",
       "       [1095, 0]], dtype=object)"
      ]
     },
     "execution_count": 182,
     "metadata": {},
     "output_type": "execute_result"
    }
   ],
   "source": [
    "values"
   ]
  },
  {
   "cell_type": "code",
   "execution_count": 183,
   "metadata": {
    "colab": {},
    "colab_type": "code",
    "id": "QoOrH37NL2D5"
   },
   "outputs": [],
   "source": [
    "# ensure all data is float\n",
    "values = values.astype('float32')"
   ]
  },
  {
   "cell_type": "code",
   "execution_count": 184,
   "metadata": {
    "colab": {},
    "colab_type": "code",
    "id": "-bideA9KMAEB"
   },
   "outputs": [],
   "source": [
    "# normalize features\n",
    "scaler = MinMaxScaler(feature_range=(0, 1))\n",
    "scaled = scaler.fit_transform(values)"
   ]
  },
  {
   "cell_type": "code",
   "execution_count": 201,
   "metadata": {
    "colab": {},
    "colab_type": "code",
    "id": "UoYzGGiuMDKV"
   },
   "outputs": [],
   "source": [
    "num_lags = 30\n",
    "num_features=1\n",
    "# frame as supervised learning\n",
    "reframed = series_to_supervised(scaled, num_lags, 1)"
   ]
  },
  {
   "cell_type": "code",
   "execution_count": 202,
   "metadata": {
    "colab": {
     "base_uri": "https://localhost:8080/",
     "height": 246
    },
    "colab_type": "code",
    "id": "8qozQ50XQ0vt",
    "outputId": "327145ff-0e4e-4712-a1e0-6bb05556872e"
   },
   "outputs": [
    {
     "data": {
      "text/html": [
       "<div>\n",
       "<style scoped>\n",
       "    .dataframe tbody tr th:only-of-type {\n",
       "        vertical-align: middle;\n",
       "    }\n",
       "\n",
       "    .dataframe tbody tr th {\n",
       "        vertical-align: top;\n",
       "    }\n",
       "\n",
       "    .dataframe thead th {\n",
       "        text-align: right;\n",
       "    }\n",
       "</style>\n",
       "<table border=\"1\" class=\"dataframe\">\n",
       "  <thead>\n",
       "    <tr style=\"text-align: right;\">\n",
       "      <th></th>\n",
       "      <th>var1(t-30)</th>\n",
       "      <th>var2(t-30)</th>\n",
       "      <th>var1(t-29)</th>\n",
       "      <th>var2(t-29)</th>\n",
       "      <th>var1(t-28)</th>\n",
       "      <th>var2(t-28)</th>\n",
       "      <th>var1(t-27)</th>\n",
       "      <th>var2(t-27)</th>\n",
       "      <th>var1(t-26)</th>\n",
       "      <th>var2(t-26)</th>\n",
       "      <th>...</th>\n",
       "      <th>var1(t-4)</th>\n",
       "      <th>var2(t-4)</th>\n",
       "      <th>var1(t-3)</th>\n",
       "      <th>var2(t-3)</th>\n",
       "      <th>var1(t-2)</th>\n",
       "      <th>var2(t-2)</th>\n",
       "      <th>var1(t-1)</th>\n",
       "      <th>var2(t-1)</th>\n",
       "      <th>var1(t)</th>\n",
       "      <th>var2(t)</th>\n",
       "    </tr>\n",
       "  </thead>\n",
       "  <tbody>\n",
       "    <tr>\n",
       "      <th>30</th>\n",
       "      <td>0.000000</td>\n",
       "      <td>0.071429</td>\n",
       "      <td>0.000913</td>\n",
       "      <td>0.047619</td>\n",
       "      <td>0.001826</td>\n",
       "      <td>0.000000</td>\n",
       "      <td>0.002740</td>\n",
       "      <td>0.047619</td>\n",
       "      <td>0.003653</td>\n",
       "      <td>0.000000</td>\n",
       "      <td>...</td>\n",
       "      <td>0.023744</td>\n",
       "      <td>0.00000</td>\n",
       "      <td>0.024658</td>\n",
       "      <td>1.00000</td>\n",
       "      <td>0.025571</td>\n",
       "      <td>0.00000</td>\n",
       "      <td>0.026484</td>\n",
       "      <td>0.02381</td>\n",
       "      <td>0.027397</td>\n",
       "      <td>0.0</td>\n",
       "    </tr>\n",
       "    <tr>\n",
       "      <th>31</th>\n",
       "      <td>0.000913</td>\n",
       "      <td>0.047619</td>\n",
       "      <td>0.001826</td>\n",
       "      <td>0.000000</td>\n",
       "      <td>0.002740</td>\n",
       "      <td>0.047619</td>\n",
       "      <td>0.003653</td>\n",
       "      <td>0.000000</td>\n",
       "      <td>0.004566</td>\n",
       "      <td>0.071429</td>\n",
       "      <td>...</td>\n",
       "      <td>0.024658</td>\n",
       "      <td>1.00000</td>\n",
       "      <td>0.025571</td>\n",
       "      <td>0.00000</td>\n",
       "      <td>0.026484</td>\n",
       "      <td>0.02381</td>\n",
       "      <td>0.027397</td>\n",
       "      <td>0.00000</td>\n",
       "      <td>0.028311</td>\n",
       "      <td>0.0</td>\n",
       "    </tr>\n",
       "    <tr>\n",
       "      <th>32</th>\n",
       "      <td>0.001826</td>\n",
       "      <td>0.000000</td>\n",
       "      <td>0.002740</td>\n",
       "      <td>0.047619</td>\n",
       "      <td>0.003653</td>\n",
       "      <td>0.000000</td>\n",
       "      <td>0.004566</td>\n",
       "      <td>0.071429</td>\n",
       "      <td>0.005479</td>\n",
       "      <td>0.071429</td>\n",
       "      <td>...</td>\n",
       "      <td>0.025571</td>\n",
       "      <td>0.00000</td>\n",
       "      <td>0.026484</td>\n",
       "      <td>0.02381</td>\n",
       "      <td>0.027397</td>\n",
       "      <td>0.00000</td>\n",
       "      <td>0.028311</td>\n",
       "      <td>0.00000</td>\n",
       "      <td>0.029224</td>\n",
       "      <td>0.0</td>\n",
       "    </tr>\n",
       "    <tr>\n",
       "      <th>33</th>\n",
       "      <td>0.002740</td>\n",
       "      <td>0.047619</td>\n",
       "      <td>0.003653</td>\n",
       "      <td>0.000000</td>\n",
       "      <td>0.004566</td>\n",
       "      <td>0.071429</td>\n",
       "      <td>0.005479</td>\n",
       "      <td>0.071429</td>\n",
       "      <td>0.006393</td>\n",
       "      <td>0.000000</td>\n",
       "      <td>...</td>\n",
       "      <td>0.026484</td>\n",
       "      <td>0.02381</td>\n",
       "      <td>0.027397</td>\n",
       "      <td>0.00000</td>\n",
       "      <td>0.028311</td>\n",
       "      <td>0.00000</td>\n",
       "      <td>0.029224</td>\n",
       "      <td>0.00000</td>\n",
       "      <td>0.030137</td>\n",
       "      <td>0.0</td>\n",
       "    </tr>\n",
       "    <tr>\n",
       "      <th>34</th>\n",
       "      <td>0.003653</td>\n",
       "      <td>0.000000</td>\n",
       "      <td>0.004566</td>\n",
       "      <td>0.071429</td>\n",
       "      <td>0.005479</td>\n",
       "      <td>0.071429</td>\n",
       "      <td>0.006393</td>\n",
       "      <td>0.000000</td>\n",
       "      <td>0.007306</td>\n",
       "      <td>0.190476</td>\n",
       "      <td>...</td>\n",
       "      <td>0.027397</td>\n",
       "      <td>0.00000</td>\n",
       "      <td>0.028311</td>\n",
       "      <td>0.00000</td>\n",
       "      <td>0.029224</td>\n",
       "      <td>0.00000</td>\n",
       "      <td>0.030137</td>\n",
       "      <td>0.00000</td>\n",
       "      <td>0.031050</td>\n",
       "      <td>0.0</td>\n",
       "    </tr>\n",
       "    <tr>\n",
       "      <th>35</th>\n",
       "      <td>0.004566</td>\n",
       "      <td>0.071429</td>\n",
       "      <td>0.005479</td>\n",
       "      <td>0.071429</td>\n",
       "      <td>0.006393</td>\n",
       "      <td>0.000000</td>\n",
       "      <td>0.007306</td>\n",
       "      <td>0.190476</td>\n",
       "      <td>0.008219</td>\n",
       "      <td>0.047619</td>\n",
       "      <td>...</td>\n",
       "      <td>0.028311</td>\n",
       "      <td>0.00000</td>\n",
       "      <td>0.029224</td>\n",
       "      <td>0.00000</td>\n",
       "      <td>0.030137</td>\n",
       "      <td>0.00000</td>\n",
       "      <td>0.031050</td>\n",
       "      <td>0.00000</td>\n",
       "      <td>0.031963</td>\n",
       "      <td>0.0</td>\n",
       "    </tr>\n",
       "    <tr>\n",
       "      <th>36</th>\n",
       "      <td>0.005479</td>\n",
       "      <td>0.071429</td>\n",
       "      <td>0.006393</td>\n",
       "      <td>0.000000</td>\n",
       "      <td>0.007306</td>\n",
       "      <td>0.190476</td>\n",
       "      <td>0.008219</td>\n",
       "      <td>0.047619</td>\n",
       "      <td>0.009132</td>\n",
       "      <td>0.071429</td>\n",
       "      <td>...</td>\n",
       "      <td>0.029224</td>\n",
       "      <td>0.00000</td>\n",
       "      <td>0.030137</td>\n",
       "      <td>0.00000</td>\n",
       "      <td>0.031050</td>\n",
       "      <td>0.00000</td>\n",
       "      <td>0.031963</td>\n",
       "      <td>0.00000</td>\n",
       "      <td>0.032877</td>\n",
       "      <td>0.0</td>\n",
       "    </tr>\n",
       "    <tr>\n",
       "      <th>37</th>\n",
       "      <td>0.006393</td>\n",
       "      <td>0.000000</td>\n",
       "      <td>0.007306</td>\n",
       "      <td>0.190476</td>\n",
       "      <td>0.008219</td>\n",
       "      <td>0.047619</td>\n",
       "      <td>0.009132</td>\n",
       "      <td>0.071429</td>\n",
       "      <td>0.010046</td>\n",
       "      <td>0.000000</td>\n",
       "      <td>...</td>\n",
       "      <td>0.030137</td>\n",
       "      <td>0.00000</td>\n",
       "      <td>0.031050</td>\n",
       "      <td>0.00000</td>\n",
       "      <td>0.031963</td>\n",
       "      <td>0.00000</td>\n",
       "      <td>0.032877</td>\n",
       "      <td>0.00000</td>\n",
       "      <td>0.033790</td>\n",
       "      <td>0.0</td>\n",
       "    </tr>\n",
       "    <tr>\n",
       "      <th>38</th>\n",
       "      <td>0.007306</td>\n",
       "      <td>0.190476</td>\n",
       "      <td>0.008219</td>\n",
       "      <td>0.047619</td>\n",
       "      <td>0.009132</td>\n",
       "      <td>0.071429</td>\n",
       "      <td>0.010046</td>\n",
       "      <td>0.000000</td>\n",
       "      <td>0.010959</td>\n",
       "      <td>0.000000</td>\n",
       "      <td>...</td>\n",
       "      <td>0.031050</td>\n",
       "      <td>0.00000</td>\n",
       "      <td>0.031963</td>\n",
       "      <td>0.00000</td>\n",
       "      <td>0.032877</td>\n",
       "      <td>0.00000</td>\n",
       "      <td>0.033790</td>\n",
       "      <td>0.00000</td>\n",
       "      <td>0.034703</td>\n",
       "      <td>0.0</td>\n",
       "    </tr>\n",
       "    <tr>\n",
       "      <th>39</th>\n",
       "      <td>0.008219</td>\n",
       "      <td>0.047619</td>\n",
       "      <td>0.009132</td>\n",
       "      <td>0.071429</td>\n",
       "      <td>0.010046</td>\n",
       "      <td>0.000000</td>\n",
       "      <td>0.010959</td>\n",
       "      <td>0.000000</td>\n",
       "      <td>0.011872</td>\n",
       "      <td>0.047619</td>\n",
       "      <td>...</td>\n",
       "      <td>0.031963</td>\n",
       "      <td>0.00000</td>\n",
       "      <td>0.032877</td>\n",
       "      <td>0.00000</td>\n",
       "      <td>0.033790</td>\n",
       "      <td>0.00000</td>\n",
       "      <td>0.034703</td>\n",
       "      <td>0.00000</td>\n",
       "      <td>0.035616</td>\n",
       "      <td>0.0</td>\n",
       "    </tr>\n",
       "  </tbody>\n",
       "</table>\n",
       "<p>10 rows × 62 columns</p>\n",
       "</div>"
      ],
      "text/plain": [
       "    var1(t-30)  var2(t-30)  var1(t-29)  var2(t-29)  var1(t-28)  var2(t-28)  \\\n",
       "30    0.000000    0.071429    0.000913    0.047619    0.001826    0.000000   \n",
       "31    0.000913    0.047619    0.001826    0.000000    0.002740    0.047619   \n",
       "32    0.001826    0.000000    0.002740    0.047619    0.003653    0.000000   \n",
       "33    0.002740    0.047619    0.003653    0.000000    0.004566    0.071429   \n",
       "34    0.003653    0.000000    0.004566    0.071429    0.005479    0.071429   \n",
       "35    0.004566    0.071429    0.005479    0.071429    0.006393    0.000000   \n",
       "36    0.005479    0.071429    0.006393    0.000000    0.007306    0.190476   \n",
       "37    0.006393    0.000000    0.007306    0.190476    0.008219    0.047619   \n",
       "38    0.007306    0.190476    0.008219    0.047619    0.009132    0.071429   \n",
       "39    0.008219    0.047619    0.009132    0.071429    0.010046    0.000000   \n",
       "\n",
       "    var1(t-27)  var2(t-27)  var1(t-26)  var2(t-26)  ...  var1(t-4)  var2(t-4)  \\\n",
       "30    0.002740    0.047619    0.003653    0.000000  ...   0.023744    0.00000   \n",
       "31    0.003653    0.000000    0.004566    0.071429  ...   0.024658    1.00000   \n",
       "32    0.004566    0.071429    0.005479    0.071429  ...   0.025571    0.00000   \n",
       "33    0.005479    0.071429    0.006393    0.000000  ...   0.026484    0.02381   \n",
       "34    0.006393    0.000000    0.007306    0.190476  ...   0.027397    0.00000   \n",
       "35    0.007306    0.190476    0.008219    0.047619  ...   0.028311    0.00000   \n",
       "36    0.008219    0.047619    0.009132    0.071429  ...   0.029224    0.00000   \n",
       "37    0.009132    0.071429    0.010046    0.000000  ...   0.030137    0.00000   \n",
       "38    0.010046    0.000000    0.010959    0.000000  ...   0.031050    0.00000   \n",
       "39    0.010959    0.000000    0.011872    0.047619  ...   0.031963    0.00000   \n",
       "\n",
       "    var1(t-3)  var2(t-3)  var1(t-2)  var2(t-2)  var1(t-1)  var2(t-1)  \\\n",
       "30   0.024658    1.00000   0.025571    0.00000   0.026484    0.02381   \n",
       "31   0.025571    0.00000   0.026484    0.02381   0.027397    0.00000   \n",
       "32   0.026484    0.02381   0.027397    0.00000   0.028311    0.00000   \n",
       "33   0.027397    0.00000   0.028311    0.00000   0.029224    0.00000   \n",
       "34   0.028311    0.00000   0.029224    0.00000   0.030137    0.00000   \n",
       "35   0.029224    0.00000   0.030137    0.00000   0.031050    0.00000   \n",
       "36   0.030137    0.00000   0.031050    0.00000   0.031963    0.00000   \n",
       "37   0.031050    0.00000   0.031963    0.00000   0.032877    0.00000   \n",
       "38   0.031963    0.00000   0.032877    0.00000   0.033790    0.00000   \n",
       "39   0.032877    0.00000   0.033790    0.00000   0.034703    0.00000   \n",
       "\n",
       "     var1(t)  var2(t)  \n",
       "30  0.027397      0.0  \n",
       "31  0.028311      0.0  \n",
       "32  0.029224      0.0  \n",
       "33  0.030137      0.0  \n",
       "34  0.031050      0.0  \n",
       "35  0.031963      0.0  \n",
       "36  0.032877      0.0  \n",
       "37  0.033790      0.0  \n",
       "38  0.034703      0.0  \n",
       "39  0.035616      0.0  \n",
       "\n",
       "[10 rows x 62 columns]"
      ]
     },
     "execution_count": 202,
     "metadata": {},
     "output_type": "execute_result"
    }
   ],
   "source": [
    "reframed.head(10)"
   ]
  },
  {
   "cell_type": "code",
   "execution_count": 203,
   "metadata": {
    "colab": {
     "base_uri": "https://localhost:8080/",
     "height": 158
    },
    "colab_type": "code",
    "id": "WagjZMq5Ns-z",
    "outputId": "1585cfe5-7bba-4457-fdfc-0166fde77266"
   },
   "outputs": [],
   "source": [
    "# drop columns we don't want to predict\n",
    "#reframed.drop(reframed.columns[[9,10,11,12,13,14,15]], axis=1, inplace=True)\n",
    "#print(reframed.head())"
   ]
  },
  {
   "cell_type": "code",
   "execution_count": 204,
   "metadata": {},
   "outputs": [
    {
     "data": {
      "text/plain": [
       "(1066, 62)"
      ]
     },
     "execution_count": 204,
     "metadata": {},
     "output_type": "execute_result"
    }
   ],
   "source": [
    "values = reframed.values\n",
    "values.shape"
   ]
  },
  {
   "cell_type": "markdown",
   "metadata": {
    "colab_type": "text",
    "id": "sZ8QbmhGSJGS"
   },
   "source": [
    "Define and Fit Model"
   ]
  },
  {
   "cell_type": "code",
   "execution_count": 205,
   "metadata": {
    "colab": {},
    "colab_type": "code",
    "id": "YyiJCYceSJtu"
   },
   "outputs": [],
   "source": [
    "import math\n",
    "# split into train and test sets\n",
    "values = reframed.values\n",
    "n_train_day = math.floor(values.shape[0] *0.8)\n",
    "#n_train_day = 20\n",
    "train = values[:n_train_day,:]\n",
    "test = values[n_train_day:, :]"
   ]
  },
  {
   "cell_type": "code",
   "execution_count": 206,
   "metadata": {
    "colab": {},
    "colab_type": "code",
    "id": "g9hUWzEjmc4m"
   },
   "outputs": [
    {
     "name": "stdout",
     "output_type": "stream",
     "text": [
      "(852, 30) 852 (852,)\n"
     ]
    }
   ],
   "source": [
    "# split into input and outputs\n",
    "n_obs = num_lags * num_features\n",
    "train_X, train_y = train[:, :n_obs], train[:, -num_features]\n",
    "test_X, test_y = test[:, :n_obs], test[:, -num_features]\n",
    "print(train_X.shape, len(train_X), train_y.shape)"
   ]
  },
  {
   "cell_type": "code",
   "execution_count": 207,
   "metadata": {},
   "outputs": [
    {
     "name": "stdout",
     "output_type": "stream",
     "text": [
      "(852, 30) (852,) (214, 30) (214,)\n"
     ]
    }
   ],
   "source": [
    "print(train_X.shape, train_y.shape, test_X.shape, test_y.shape)"
   ]
  },
  {
   "cell_type": "code",
   "execution_count": 208,
   "metadata": {
    "colab": {
     "base_uri": "https://localhost:8080/",
     "height": 34
    },
    "colab_type": "code",
    "id": "hYV1laaimoBu",
    "outputId": "d5c91ea8-68a9-423e-9416-b53f1ce21c3e"
   },
   "outputs": [
    {
     "name": "stdout",
     "output_type": "stream",
     "text": [
      "(852, 30, 1) (852,) (214, 30, 1) (214,)\n"
     ]
    }
   ],
   "source": [
    "# reshape input to be 3D [samples, timesteps, features]\n",
    "train_X = train_X.reshape((train_X.shape[0], num_lags, num_features))\n",
    "test_X = test_X.reshape((test_X.shape[0], num_lags, num_features))\n",
    "print(train_X.shape, train_y.shape, test_X.shape, test_y.shape)"
   ]
  },
  {
   "cell_type": "code",
   "execution_count": null,
   "metadata": {
    "colab": {},
    "colab_type": "code",
    "id": "YeVF2JkmnCly"
   },
   "outputs": [],
   "source": []
  },
  {
   "cell_type": "code",
   "execution_count": 209,
   "metadata": {
    "colab": {},
    "colab_type": "code",
    "id": "2IWqLwmHmt1U"
   },
   "outputs": [],
   "source": [
    "# design network\n",
    "model = Sequential()\n",
    "model.add(LSTM(50, input_shape=(train_X.shape[1], train_X.shape[2])))\n",
    "model.add(Dense(1))\n",
    "model.compile(loss='mae', optimizer='adam')"
   ]
  },
  {
   "cell_type": "code",
   "execution_count": 210,
   "metadata": {
    "colab": {
     "base_uri": "https://localhost:8080/",
     "height": 1000
    },
    "colab_type": "code",
    "id": "475zgG19mzCT",
    "outputId": "d0bacd68-db04-497f-ac4a-b0db54869764"
   },
   "outputs": [
    {
     "name": "stdout",
     "output_type": "stream",
     "text": [
      "Epoch 1/50\n",
      "12/12 - 1s - loss: 0.0097 - val_loss: 0.0035\n",
      "Epoch 2/50\n",
      "12/12 - 0s - loss: 0.0069 - val_loss: 0.0019\n",
      "Epoch 3/50\n",
      "12/12 - 0s - loss: 0.0099 - val_loss: 0.0030\n",
      "Epoch 4/50\n",
      "12/12 - 0s - loss: 0.0061 - val_loss: 2.1118e-04\n",
      "Epoch 5/50\n",
      "12/12 - 0s - loss: 0.0075 - val_loss: 0.0057\n",
      "Epoch 6/50\n",
      "12/12 - 0s - loss: 0.0071 - val_loss: 0.0012\n",
      "Epoch 7/50\n",
      "12/12 - 0s - loss: 0.0092 - val_loss: 0.0010\n",
      "Epoch 8/50\n",
      "12/12 - 0s - loss: 0.0087 - val_loss: 9.8929e-04\n",
      "Epoch 9/50\n",
      "12/12 - 0s - loss: 0.0124 - val_loss: 0.0078\n",
      "Epoch 10/50\n",
      "12/12 - 0s - loss: 0.0175 - val_loss: 0.0054\n",
      "Epoch 11/50\n",
      "12/12 - 0s - loss: 0.0132 - val_loss: 0.0109\n",
      "Epoch 12/50\n",
      "12/12 - 0s - loss: 0.0081 - val_loss: 0.0040\n",
      "Epoch 13/50\n",
      "12/12 - 0s - loss: 0.0067 - val_loss: 0.0035\n",
      "Epoch 14/50\n",
      "12/12 - 0s - loss: 0.0066 - val_loss: 0.0015\n",
      "Epoch 15/50\n",
      "12/12 - 0s - loss: 0.0067 - val_loss: 9.3182e-04\n",
      "Epoch 16/50\n",
      "12/12 - 0s - loss: 0.0068 - val_loss: 0.0030\n",
      "Epoch 17/50\n",
      "12/12 - 0s - loss: 0.0079 - val_loss: 0.0037\n",
      "Epoch 18/50\n",
      "12/12 - 0s - loss: 0.0118 - val_loss: 5.2833e-04\n",
      "Epoch 19/50\n",
      "12/12 - 0s - loss: 0.0146 - val_loss: 0.0091\n",
      "Epoch 20/50\n",
      "12/12 - 0s - loss: 0.0105 - val_loss: 0.0052\n",
      "Epoch 21/50\n",
      "12/12 - 0s - loss: 0.0089 - val_loss: 0.0032\n",
      "Epoch 22/50\n",
      "12/12 - 0s - loss: 0.0068 - val_loss: 4.2790e-04\n",
      "Epoch 23/50\n",
      "12/12 - 0s - loss: 0.0088 - val_loss: 5.6048e-04\n",
      "Epoch 24/50\n",
      "12/12 - 0s - loss: 0.0081 - val_loss: 0.0042\n",
      "Epoch 25/50\n",
      "12/12 - 0s - loss: 0.0111 - val_loss: 0.0065\n",
      "Epoch 26/50\n",
      "12/12 - 0s - loss: 0.0064 - val_loss: 4.9164e-04\n",
      "Epoch 27/50\n",
      "12/12 - 0s - loss: 0.0059 - val_loss: 7.9669e-04\n",
      "Epoch 28/50\n",
      "12/12 - 0s - loss: 0.0060 - val_loss: 8.2194e-04\n",
      "Epoch 29/50\n",
      "12/12 - 0s - loss: 0.0072 - val_loss: 5.8012e-05\n",
      "Epoch 30/50\n",
      "12/12 - 0s - loss: 0.0065 - val_loss: 5.0086e-04\n",
      "Epoch 31/50\n",
      "12/12 - 0s - loss: 0.0071 - val_loss: 6.7387e-04\n",
      "Epoch 32/50\n",
      "12/12 - 0s - loss: 0.0065 - val_loss: 0.0027\n",
      "Epoch 33/50\n",
      "12/12 - 0s - loss: 0.0071 - val_loss: 6.2397e-04\n",
      "Epoch 34/50\n",
      "12/12 - 0s - loss: 0.0102 - val_loss: 0.0014\n",
      "Epoch 35/50\n",
      "12/12 - 0s - loss: 0.0096 - val_loss: 0.0036\n",
      "Epoch 36/50\n",
      "12/12 - 0s - loss: 0.0080 - val_loss: 0.0034\n",
      "Epoch 37/50\n",
      "12/12 - 0s - loss: 0.0077 - val_loss: 0.0030\n",
      "Epoch 38/50\n",
      "12/12 - 0s - loss: 0.0074 - val_loss: 0.0039\n",
      "Epoch 39/50\n",
      "12/12 - 0s - loss: 0.0083 - val_loss: 0.0026\n",
      "Epoch 40/50\n",
      "12/12 - 0s - loss: 0.0080 - val_loss: 0.0029\n",
      "Epoch 41/50\n",
      "12/12 - 0s - loss: 0.0107 - val_loss: 0.0053\n",
      "Epoch 42/50\n",
      "12/12 - 0s - loss: 0.0058 - val_loss: 3.0577e-04\n",
      "Epoch 43/50\n",
      "12/12 - 0s - loss: 0.0063 - val_loss: 0.0015\n",
      "Epoch 44/50\n",
      "12/12 - 0s - loss: 0.0055 - val_loss: 0.0019\n",
      "Epoch 45/50\n",
      "12/12 - 0s - loss: 0.0062 - val_loss: 6.8530e-04\n",
      "Epoch 46/50\n",
      "12/12 - 0s - loss: 0.0063 - val_loss: 7.8610e-05\n",
      "Epoch 47/50\n",
      "12/12 - 0s - loss: 0.0054 - val_loss: 3.6739e-04\n",
      "Epoch 48/50\n",
      "12/12 - 0s - loss: 0.0061 - val_loss: 0.0025\n",
      "Epoch 49/50\n",
      "12/12 - 0s - loss: 0.0053 - val_loss: 2.6719e-04\n",
      "Epoch 50/50\n",
      "12/12 - 0s - loss: 0.0069 - val_loss: 0.0010\n"
     ]
    }
   ],
   "source": [
    "# fit network\n",
    "history = model.fit(train_X, train_y, epochs=50, batch_size=72, validation_data=(test_X, test_y), verbose=2, shuffle=False)"
   ]
  },
  {
   "cell_type": "code",
   "execution_count": 211,
   "metadata": {
    "colab": {
     "base_uri": "https://localhost:8080/",
     "height": 265
    },
    "colab_type": "code",
    "id": "Jmzc613YrrQx",
    "outputId": "796c8ab3-14bb-4080-f2f3-23dfa051e8cb"
   },
   "outputs": [
    {
     "data": {
      "image/png": "[encoded data removed]",
      "text/plain": [
       "<Figure size 432x288 with 1 Axes>"
      ]
     },
     "metadata": {
      "needs_background": "light"
     },
     "output_type": "display_data"
    }
   ],
   "source": [
    "# plot history\n",
    "pyplot.plot(history.history['loss'], label='train')\n",
    "pyplot.plot(history.history['val_loss'], label='test')\n",
    "pyplot.legend()\n",
    "pyplot.show()"
   ]
  },
  {
   "cell_type": "markdown",
   "metadata": {
    "colab_type": "text",
    "id": "xP-ECOJur6B4"
   },
   "source": [
    "Evaluate Model"
   ]
  },
  {
   "cell_type": "code",
   "execution_count": 212,
   "metadata": {
    "colab": {},
    "colab_type": "code",
    "id": "16emzgM3r2VX"
   },
   "outputs": [],
   "source": [
    "# make a prediction\n",
    "yhat = model.predict(test_X)\n",
    "test_X = test_X.reshape((test_X.shape[0], num_lags*num_features))"
   ]
  },
  {
   "cell_type": "code",
   "execution_count": 213,
   "metadata": {
    "colab": {},
    "colab_type": "code",
    "id": "FkJXlfAfr-YI"
   },
   "outputs": [
    {
     "name": "stdout",
     "output_type": "stream",
     "text": [
      "(214, 2)\n"
     ]
    }
   ],
   "source": [
    "from numpy import concatenate\n",
    "# invert scaling for forecast\n",
    "inv_yhat = concatenate((yhat, test_X[:, -1:]), axis=1)\n",
    "print(inv_yhat.shape)\n"
   ]
  },
  {
   "cell_type": "code",
   "execution_count": 214,
   "metadata": {},
   "outputs": [],
   "source": [
    "inv_yhat = scaler.inverse_transform(inv_yhat)\n",
    "inv_yhat = inv_yhat[:,0]"
   ]
  },
  {
   "cell_type": "code",
   "execution_count": 215,
   "metadata": {
    "colab": {},
    "colab_type": "code",
    "id": "txuSFMS9sBVV"
   },
   "outputs": [],
   "source": [
    "# invert scaling for actual\n",
    "test_y = test_y.reshape((len(test_y), 1))\n",
    "inv_y = concatenate((test_y, test_X[:, -1:]), axis=1)\n",
    "inv_y = scaler.inverse_transform(inv_y)\n",
    "inv_y = inv_y[:,0]"
   ]
  },
  {
   "cell_type": "code",
   "execution_count": 216,
   "metadata": {
    "colab": {
     "base_uri": "https://localhost:8080/",
     "height": 34
    },
    "colab_type": "code",
    "id": "SIpa8VwrsWqf",
    "outputId": "59519f44-9ee3-4bfe-99f5-1a2014f6ad4e"
   },
   "outputs": [
    {
     "name": "stdout",
     "output_type": "stream",
     "text": [
      "Test RMSE: 1.135\n"
     ]
    }
   ],
   "source": [
    "from math import sqrt\n",
    "from sklearn.metrics import mean_squared_error\n",
    "# calculate RMSE\n",
    "rmse = sqrt(mean_squared_error(inv_y, inv_yhat))\n",
    "print('Test RMSE: %.3f' % rmse)"
   ]
  },
  {
   "cell_type": "code",
   "execution_count": 217,
   "metadata": {
    "colab": {},
    "colab_type": "code",
    "id": "F-PMOzoKsgfS"
   },
   "outputs": [],
   "source": [
    "rmse = rmse* (1/100)"
   ]
  },
  {
   "cell_type": "code",
   "execution_count": 223,
   "metadata": {},
   "outputs": [
    {
     "name": "stdout",
     "output_type": "stream",
     "text": [
      "Test RMSE: 0.011\n"
     ]
    }
   ],
   "source": [
    "print('Test RMSE: %.3f' % rmse)"
   ]
  },
  {
   "cell_type": "raw",
   "metadata": {},
   "source": []
  }
 ],
 "metadata": {
  "colab": {
   "name": "AirPollutionForecasting.ipynb",
   "provenance": []
  },
  "kernelspec": {
   "display_name": "Python 3",
   "language": "python",
   "name": "python3"
  },
  "language_info": {
   "codemirror_mode": {
    "name": "ipython",
    "version": 3
   },
   "file_extension": ".py",
   "mimetype": "text/x-python",
   "name": "python",
   "nbconvert_exporter": "python",
   "pygments_lexer": "ipython3",
   "version": "3.8.2"
  }
 },
 "nbformat": 4,
 "nbformat_minor": 1
}
