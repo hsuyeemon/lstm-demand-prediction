{
 "cells": [
  {
   "cell_type": "raw",
   "metadata": {},
   "source": [
    "Exploratory Analysis<br>\n",
    "Analyze according to year and store"
   ]
  },
  {
   "cell_type": "code",
   "execution_count": 1,
   "metadata": {},
   "outputs": [],
   "source": [
    "import pandas as pd\n",
    "import numpy as np"
   ]
  },
  {
   "cell_type": "code",
   "execution_count": 2,
   "metadata": {},
   "outputs": [
    {
     "name": "stdout",
     "output_type": "stream",
     "text": [
      "(1048575, 11)\n",
      "(1048575, 9)\n",
      "(1048575, 9)\n",
      "(1048575, 9)\n"
     ]
    }
   ],
   "source": [
    "df1 = pd.read_csv(\"~/work/Data/yearly_data/2016.csv\")\n",
    "df2 = pd.read_csv(\"~/work/Data/yearly_data/2017.csv\")\n",
    "df3 = pd.read_csv(\"~/work/Data/yearly_data/2018.csv\")\n",
    "df4 = pd.read_csv(\"~/work/Data/yearly_data/2019.csv\")\n",
    "\n",
    "print(df1.shape)\n",
    "print(df2.shape)\n",
    "print(df3.shape)\n",
    "print(df4.shape)\n",
    "#print(df.head(10))"
   ]
  },
  {
   "cell_type": "code",
   "execution_count": 3,
   "metadata": {},
   "outputs": [],
   "source": [
    "df1 = df1.drop(['customerId','customerType','dob','customerInfo'],axis=1)\n",
    "df2 = df2.drop(['customerId','customerType'],axis=1)\n",
    "df3 = df3.drop(['customerId','customerType'],axis=1)\n",
    "df4 = df4.drop(['customerId','customerType'],axis=1)"
   ]
  },
  {
   "cell_type": "code",
   "execution_count": 11,
   "metadata": {},
   "outputs": [
    {
     "name": "stdout",
     "output_type": "stream",
     "text": [
      "[1112730, 1115834, 1117196, 1112403]\n"
     ]
    }
   ],
   "source": [
    "#Total demand by Year\n",
    "total_demand = []\n",
    "total_demand.append(df1['quantity'].sum())     #2016\n",
    "total_demand.append(df2['quantity'].sum())     #2017\n",
    "total_demand.append(df3['quantity'].sum())     #2018\n",
    "total_demand.append(df4['quantity'].sum())     #2019\n",
    "print(total_demand)"
   ]
  },
  {
   "cell_type": "code",
   "execution_count": null,
   "metadata": {},
   "outputs": [],
   "source": []
  },
  {
   "cell_type": "code",
   "execution_count": 12,
   "metadata": {},
   "outputs": [
    {
     "data": {
      "image/png": "[encoded data removed]",
      "text/plain": [
       "<Figure size 432x288 with 1 Axes>"
      ]
     },
     "metadata": {
      "needs_background": "light"
     },
     "output_type": "display_data"
    }
   ],
   "source": [
    "import matplotlib.pyplot as plt\n",
    "fig = plt.figure()\n",
    "ax = fig.add_axes([0,0,1,1])\n",
    "years = ['2016', '2017', '2018', '2019']\n",
    "\n",
    "ax.bar(years,total_demand)\n",
    "plt.show()"
   ]
  },
  {
   "cell_type": "code",
   "execution_count": null,
   "metadata": {},
   "outputs": [],
   "source": []
  }
 ],
 "metadata": {
  "kernelspec": {
   "display_name": "Python 3",
   "language": "python",
   "name": "python3"
  },
  "language_info": {
   "codemirror_mode": {
    "name": "ipython",
    "version": 3
   },
   "file_extension": ".py",
   "mimetype": "text/x-python",
   "name": "python",
   "nbconvert_exporter": "python",
   "pygments_lexer": "ipython3",
   "version": "3.8.2"
  }
 },
 "nbformat": 4,
 "nbformat_minor": 4
}
