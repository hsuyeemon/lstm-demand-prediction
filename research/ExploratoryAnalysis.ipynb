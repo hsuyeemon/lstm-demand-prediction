{
 "cells": [
  {
   "cell_type": "markdown",
   "metadata": {},
   "source": [
    "<h2>Exploratory Analysis<h2>\n",
    "   <br>\n",
    "Analyze according to year and store"
   ]
  },
  {
   "cell_type": "code",
   "execution_count": null,
   "metadata": {},
   "outputs": [],
   "source": [
    "import pandas as pd\n",
    "import numpy as np\n",
    "import matplotlib.pyplot as plt\n",
    "import seaborn as sns\n",
    "sns.set(style=\"whitegrid\")\n",
    "import gc"
   ]
  },
  {
   "cell_type": "code",
   "execution_count": null,
   "metadata": {},
   "outputs": [],
   "source": [
    "# Python program to get average of a list \n",
    "def Average(lst): \n",
    "    return sum(lst) / len(lst) \n"
   ]
  },
  {
   "cell_type": "code",
   "execution_count": null,
   "metadata": {},
   "outputs": [],
   "source": [
    "#get normalized \n",
    "def Normalize(item,lst):\n",
    "    \n",
    "    maxmin = max(lst) - min(lst)\n",
    "    return (item - Average(lst))/maxmin if maxmin >= 1 else 1\n",
    "    \n",
    "    "
   ]
  },
  {
   "cell_type": "raw",
   "metadata": {},
   "source": [
    "#Total demand by Year\n",
    "total_demand = []\n",
    "for i in df:\n",
    "    #print(i)\n",
    "    total_demand.append(i['quantity'].sum())\n",
    "print(total_demand)"
   ]
  },
  {
   "cell_type": "code",
   "execution_count": null,
   "metadata": {},
   "outputs": [],
   "source": [
    "from holidays_jp import CountryHolidays\n",
    "# get japanese holidays in 2016.\n",
    "\n",
    "jpHolidays = CountryHolidays.between('JP', 2010,2020)\n",
    "\n",
    "holidays = pd.DataFrame(jpHolidays,columns=['date','name'])"
   ]
  },
  {
   "cell_type": "code",
   "execution_count": null,
   "metadata": {},
   "outputs": [],
   "source": [
    "total_demand = []\n",
    "years = []\n",
    "num_store = []\n",
    "demand_per_store = []\n",
    "month_summary = []\n",
    "weekly_summary = []\n",
    "holiday_summary = []\n",
    "workday_summary = []\n",
    "weekend_summary = []"
   ]
  },
  {
   "cell_type": "code",
   "execution_count": null,
   "metadata": {},
   "outputs": [],
   "source": [
    "loop = 0\n",
    "#for i in range(2016,2020):\n",
    "#print(loop)\n",
    "i = 2019\n",
    "for i in range(2010,2020):\n",
    "    \n",
    "    fname = str(i)\n",
    "    #get years \n",
    "    years.append(i)\n",
    "\n",
    "    #Load data\n",
    "    temp = pd.read_hdf('~/work/Data/prepared_data2/key'+fname+'.h5', 'df')\n",
    "    #temp = temp.drop(['id','saturation','color'])\n",
    "    #get total demand \n",
    "    total_demand.append(temp['quantity'].sum())\n",
    "\n",
    "    #print(len(temp['storeId'].unique()))\n",
    "\n",
    "    #get number of stores\n",
    "    num_store.append(len(temp['storeId'].unique()))\n",
    "\n",
    "    #print(num_store[loop])\n",
    "    #print(num_store)\n",
    "\n",
    "    #mean normalization\n",
    "    normalized_num_store = Normalize(num_store[loop],num_store)\n",
    "\n",
    "    #print(num_store[i],normalized_num_store)\n",
    "\n",
    "    dps = total_demand[loop]/normalized_num_store\n",
    "    demand_per_store.append(dps)\n",
    "\n",
    "    #calculate monthly demand for each year\n",
    "    temp['date'] = pd.to_datetime(temp['date'])   \n",
    "    temp['month'] = pd.DatetimeIndex(temp['date']).month\n",
    "\n",
    "    months = temp.groupby(\"month\")\n",
    "    t1 = months['quantity'].sum()    \n",
    "    month_summary.append(t1)\n",
    "    del [months]\n",
    "    del [t1]\n",
    "\n",
    "\n",
    "    #Demand per Store by Day of Week\n",
    "\n",
    "    #calculate weekly demand for each year\n",
    "    temp['date'] = pd.to_datetime(temp['date'])   \n",
    "    temp['day'] = pd.DatetimeIndex(temp['date']).day_name()\n",
    "    days = temp.groupby(\"day\")\n",
    "    t1 = days['quantity'].sum()\n",
    "    weekly_summary.append(t1)\n",
    "    del [days]\n",
    "    del [t1]\n",
    "\n",
    "\n",
    "    #get weekends \n",
    "    temp['isWeekend']= temp.day.isin(['Saturday','Sunday'])\n",
    "    #temp['isHoliday'] = temp.date.isin(holidays.date)\n",
    "    weekendsdf = temp[temp['isWeekend'] == True]\n",
    "    weekends = weekendsdf['date']\n",
    "    #holidaysn = holidays['date']\n",
    "    #holidaysn.append(weekends)\n",
    "    weekendsdf= temp.groupby(\"day\")\n",
    "    t1 = weekendsdf['quantity'].sum()\n",
    "    weekend_summary.append(t1)\n",
    "    del [weekendsdf]\n",
    "    del [t1]\n",
    "\n",
    "    #holidays\n",
    "    holidaysn = holidays['date']\n",
    "    holidaysn.append(weekends)\n",
    "    holidaysdf = temp[temp['isWeekend'] == True]\n",
    "    #holidaysn = holidays['date']\n",
    "    #holidaysn.append(weekends)\n",
    "    holidaysdf= holidaysdf.groupby(\"day\")\n",
    "    t1 = holidaysdf['quantity'].sum()\n",
    "    holiday_summary.append(t1)\n",
    "    del [holidaysdf]\n",
    "    del [t1]\n",
    "\n",
    "\n",
    "\n",
    "    #for weekdays\n",
    "    temp2 = temp[temp.date.isin(holidaysn) == False]\n",
    "    temp2 = temp2.groupby(\"day\")\n",
    "    t2 = temp2['quantity'].sum() \n",
    "    workday_summary.append(t2)\n",
    "    del [temp2]\n",
    "    del [t2]\n",
    "\n",
    "\n",
    "    loop = loop +1\n",
    "\n",
    "    #garbage collection\n",
    "\n",
    "    del [temp]\n",
    "    del [dps]\n",
    "    gc.collect()\n",
    "    "
   ]
  },
  {
   "cell_type": "code",
   "execution_count": null,
   "metadata": {},
   "outputs": [],
   "source": [
    "gc.collect()"
   ]
  },
  {
   "cell_type": "code",
   "execution_count": null,
   "metadata": {},
   "outputs": [],
   "source": [
    "print(total_demand)\n",
    "print(years)\n",
    "print(num_store)\n",
    "print(demand_per_store)\n",
    "print(month_summary) "
   ]
  },
  {
   "cell_type": "markdown",
   "metadata": {},
   "source": [
    "<h2>Total demand by Year</h2>"
   ]
  },
  {
   "cell_type": "code",
   "execution_count": null,
   "metadata": {},
   "outputs": [],
   "source": [
    "ax = sns.barplot(x=years, y=total_demand)\n",
    "ax.set_title('Total Demand By Year')\n",
    "ax.set_xlabel(\"years\")\n",
    "ax.set_ylabel(\"normalized demands\")"
   ]
  },
  {
   "cell_type": "markdown",
   "metadata": {},
   "source": [
    "<h2>Total Stores by Year</h2>"
   ]
  },
  {
   "cell_type": "code",
   "execution_count": null,
   "metadata": {},
   "outputs": [],
   "source": [
    "ax = sns.barplot(x=years, y=num_store)\n",
    "ax.set_title('Total Stores By Year')\n",
    "ax.set_xlabel(\"years\")\n",
    "ax.set_ylabel(\"number of stores\")"
   ]
  },
  {
   "cell_type": "markdown",
   "metadata": {},
   "source": [
    "<h2>Demand per Store by Year<h2>"
   ]
  },
  {
   "cell_type": "code",
   "execution_count": null,
   "metadata": {},
   "outputs": [],
   "source": [
    "ax = sns.barplot(x=years, y=demand_per_store)\n",
    "ax.set_title('Demand per Store By Year')\n",
    "ax.set_xlabel(\"years\")\n",
    "ax.set_ylabel(\"demand per Store\")"
   ]
  },
  {
   "cell_type": "markdown",
   "metadata": {},
   "source": [
    "<h2>Demand per Stores by Month of Year</h2>"
   ]
  },
  {
   "cell_type": "code",
   "execution_count": null,
   "metadata": {},
   "outputs": [],
   "source": [
    "#calculate monthly average demand for 10 years\n",
    "total_demand_by_month = [0,0,0,0,0,0,0,0,0,0,0,0]\n",
    "for i in range(len(years)):\n",
    "    for j in month_summary[i].index:\n",
    "        total_demand_by_month[j-1] += month_summary[i][j]\n",
    "\n",
    "for i in range(len(total_demand_by_month)):\n",
    "    total_demand_by_month[i] = total_demand_by_month[i]/len(years)"
   ]
  },
  {
   "cell_type": "code",
   "execution_count": null,
   "metadata": {},
   "outputs": [],
   "source": [
    "demand_per_store = []\n",
    "for i in range(len(years)):\n",
    "    \n",
    "    temp = total_demand_by_month[i]/Normalize(num_store[i],num_store)\n",
    "    demand_per_store.append(temp)\n",
    "    \n",
    "ax = sns.barplot(x=month_summary[0].index, y=total_demand_by_month)\n",
    "ax.set_title('Demand per Store By Month of Year')\n",
    "ax.set_xlabel(\"month\")\n",
    "ax.set_ylabel(\"demand per Store\")"
   ]
  },
  {
   "cell_type": "code",
   "execution_count": null,
   "metadata": {},
   "outputs": [],
   "source": [
    "#https://databricks.com/notebooks/recitibikenycdraft/exploratory-analysis.html\n"
   ]
  },
  {
   "cell_type": "markdown",
   "metadata": {},
   "source": [
    "<h2>Stores Geo</h2>"
   ]
  },
  {
   "cell_type": "code",
   "execution_count": null,
   "metadata": {},
   "outputs": [],
   "source": [
    "stores = pd.read_csv(\"~/work/Data/stores.csv\")\n",
    "stores.head()"
   ]
  },
  {
   "cell_type": "code",
   "execution_count": null,
   "metadata": {},
   "outputs": [],
   "source": [
    "prefectures = stores.groupby(\"prefecture\")\n",
    "p_size = prefectures.size()\n",
    "type(p_size)\n",
    "p_size.values\n",
    "#p_size.index"
   ]
  },
  {
   "cell_type": "code",
   "execution_count": null,
   "metadata": {},
   "outputs": [],
   "source": [
    "fig = plt.figure()\n",
    "ax = fig.add_axes([0,0,1,1])\n",
    "ax.axis('equal')\n",
    "ax.pie(p_size.values, labels = p_size.index)\n",
    "plt.show()\n"
   ]
  },
  {
   "cell_type": "code",
   "execution_count": null,
   "metadata": {},
   "outputs": [],
   "source": [
    "fig = plt.figure()\n",
    "ax = fig.add_axes([0,0,1,1])\n",
    "ax.bar(p_size.index,p_size.values)\n",
    "plt.show()"
   ]
  },
  {
   "cell_type": "code",
   "execution_count": null,
   "metadata": {},
   "outputs": [],
   "source": [
    "#print(p_size.values)\n",
    "sns.set(style=\"whitegrid\")\n",
    "#ax = sns.barplot(x=p_size.index, y=p_size.values)\n",
    "plt.figure(figsize=(20,20))\n",
    "\n",
    "df = pd.DataFrame({'Pref':p_size.index, 'count':p_size.values/100})\n",
    "print(df)\n"
   ]
  },
  {
   "cell_type": "code",
   "execution_count": null,
   "metadata": {},
   "outputs": [],
   "source": [
    "chart = sns.countplot(\n",
    "    data= df,\n",
    "    x= 'Pref',\n",
    "    palette='Set1'\n",
    ")\n",
    "chart.set_xticklabels(chart.get_xticklabels(), rotation=45)"
   ]
  },
  {
   "cell_type": "code",
   "execution_count": null,
   "metadata": {},
   "outputs": [],
   "source": [
    "f, ax = plt.subplots(figsize=(7, 10))\n",
    "sns.countplot(y=p_size.index, data=p_size, color=\"pink\");"
   ]
  },
  {
   "cell_type": "code",
   "execution_count": null,
   "metadata": {},
   "outputs": [],
   "source": [
    "sns.catplot(x=\"month\", y=\"quantity\", data=df[len(df)-4]);\n",
    "sns.catplot(x=\"month\", y=\"quantity\", data=df[len(df)-3]);\n",
    "sns.catplot(x=\"month\", y=\"quantity\", data=df[len(df)-2]);\n",
    "sns.catplot(x=\"month\", y=\"quantity\", data=df[len(df)-4]);"
   ]
  },
  {
   "cell_type": "code",
   "execution_count": null,
   "metadata": {},
   "outputs": [],
   "source": [
    "\n",
    "sns.catplot(x=\"month\", y=\"quantity\",jitter=False, data=df[6]);"
   ]
  },
  {
   "cell_type": "code",
   "execution_count": null,
   "metadata": {},
   "outputs": [],
   "source": [
    "df[6][df[6].month == \"2\"]"
   ]
  },
  {
   "cell_type": "code",
   "execution_count": null,
   "metadata": {},
   "outputs": [],
   "source": [
    "df[6].head(20000)"
   ]
  },
  {
   "cell_type": "code",
   "execution_count": null,
   "metadata": {},
   "outputs": [],
   "source": [
    "month_summary"
   ]
  },
  {
   "cell_type": "code",
   "execution_count": null,
   "metadata": {},
   "outputs": [],
   "source": [
    "num_store"
   ]
  },
  {
   "cell_type": "code",
   "execution_count": null,
   "metadata": {},
   "outputs": [],
   "source": [
    "fname = \"2010\"\n",
    "temp = pd.read_hdf('~/work/Data/prepared_data/key'+fname+'.h5', 'df')"
   ]
  },
  {
   "cell_type": "code",
   "execution_count": null,
   "metadata": {},
   "outputs": [],
   "source": [
    "stemp = temp.groupby(\"storeId\").size()"
   ]
  },
  {
   "cell_type": "code",
   "execution_count": null,
   "metadata": {},
   "outputs": [],
   "source": [
    "\n",
    "stemp.index"
   ]
  },
  {
   "cell_type": "code",
   "execution_count": null,
   "metadata": {},
   "outputs": [],
   "source": [
    "stemp.values"
   ]
  },
  {
   "cell_type": "code",
   "execution_count": null,
   "metadata": {},
   "outputs": [],
   "source": [
    "#Demand per Store for Holidays\n",
    "\n",
    "temp\n",
    "\n",
    "\n",
    "\n",
    "\n"
   ]
  },
  {
   "cell_type": "code",
   "execution_count": null,
   "metadata": {},
   "outputs": [],
   "source": [
    "\n",
    "\n",
    "t2 = day['quantity'].sum()   \n",
    "\n",
    "#month_summary.append(t1)"
   ]
  },
  {
   "cell_type": "code",
   "execution_count": null,
   "metadata": {},
   "outputs": [],
   "source": [
    "\n",
    "\n",
    "#holidays.drop(['name'],axis=1)\n",
    "\n",
    "\n",
    "temp['isWeekend']= temp.day.isin(['Saturday','Sunday'])\n",
    "\n",
    "\n",
    "temp['isHoliday'] = temp.date.isin(holidays.date)\n",
    "\n"
   ]
  },
  {
   "cell_type": "code",
   "execution_count": null,
   "metadata": {},
   "outputs": [],
   "source": [
    "weekends = temp[temp['isWeekend'] == True]\n",
    "weekends = weekends['date']\n",
    "holidaysn = holidays['date']\n",
    "\n",
    "holidaysn.append(weekends)\n"
   ]
  },
  {
   "cell_type": "code",
   "execution_count": null,
   "metadata": {},
   "outputs": [],
   "source": [
    "#for holidays\n",
    "temp2 = temp[temp.isHoliday == True]\n",
    "t2 = temp2['quantity'].sum() "
   ]
  },
  {
   "cell_type": "code",
   "execution_count": null,
   "metadata": {},
   "outputs": [],
   "source": [
    "#for weekends\n",
    "temp2 = temp[temp.isWeekend == True]\n",
    "t2 = temp2['quantity'].sum() "
   ]
  },
  {
   "cell_type": "code",
   "execution_count": null,
   "metadata": {},
   "outputs": [],
   "source": [
    "#for weekdays\n",
    "temp2 = temp[temp.date.isin(holidaysn) == False]\n",
    "t2 = temp2['quantity'].sum() "
   ]
  },
  {
   "cell_type": "code",
   "execution_count": null,
   "metadata": {},
   "outputs": [],
   "source": [
    "temp2"
   ]
  },
  {
   "cell_type": "code",
   "execution_count": null,
   "metadata": {},
   "outputs": [],
   "source": [
    "import statistics \n",
    "#calculate monthly average demand for 10 years\n",
    "total_demand_by_week = [0,0,0,0,0,0,0]\n",
    "\n",
    "# \"\"\"Friday  Monday Saturday Sunday    Thursday Tuesday    Wednesday\n",
    "\n",
    "days = [0,1,2,3,4,5,6]\n",
    "for j in range(len(days)):\n",
    "    #for j in weekly_summary[i].index:\n",
    "        \n",
    "    for i in range(len(years)):\n",
    "            \n",
    "        total_demand_by_week[j] += weekly_summary[i][j]\n",
    "        \n",
    "print(total_demand_by_week)\n",
    "\n",
    "normalized = []\n",
    "for i in range(len(total_demand_by_week)):\n",
    "    t1 = total_demand_by_week[i] - statistics.mean(total_demand_by_week)\n",
    "    if t1>0 : \n",
    "        t = t1/statistics.stdev(total_demand_by_week)\n",
    "    else :\n",
    "        t = (statistics.mean(total_demand_by_week) - total_demand_by_week[i] )/statistics.stdev(total_demand_by_week)\n",
    "    print(t)\n",
    "    normalized.append(t)\n",
    "    \n",
    "ax = sns.barplot(x=weekly_summary[i].index, y=normalized)\n",
    "ax.set_title('Weekly Demand')\n",
    "ax.set_xlabel(\"days\")\n",
    "ax.set_ylabel(\"avg demand\")\n",
    "\n",
    "print(max(total_demand_by_week)-min(total_demand_by_week))\n"
   ]
  },
  {
   "cell_type": "code",
   "execution_count": null,
   "metadata": {},
   "outputs": [],
   "source": [
    "#calculate monthly average demand for 10 years\n",
    "total_demand_by_week = [0,0,0,0,0,0,0]\n",
    "\n",
    "# \"\"\"Friday  Monday Saturday Sunday    Thursday Tuesday    Wednesday\n",
    "\n",
    "days = [0,1,2,3,4,5,6]\n",
    "for j in range(len(days)):\n",
    "    #for j in weekly_summary[i].index:\n",
    "        \n",
    "    for i in range(len(years)):\n",
    "            \n",
    "        total_demand_by_week[j] += weekly_summary[i][j]\n",
    "\n",
    "for i in range(len(total_demand_by_week)):\n",
    "    total_demand_by_week[i] = total_demand_by_week[i]/len(years)\n",
    "    \n",
    "ax = sns.barplot(x=weekly_summary[i].index, y=total_demand_by_week)\n",
    "ax.set_title('Holidays Demand')\n",
    "ax.set_xlabel(\"days\")\n",
    "ax.set_ylabel(\"avg demand\")\n"
   ]
  },
  {
   "cell_type": "code",
   "execution_count": null,
   "metadata": {},
   "outputs": [],
   "source": [
    "len(holiday_summary[0])"
   ]
  },
  {
   "cell_type": "code",
   "execution_count": null,
   "metadata": {},
   "outputs": [],
   "source": [
    "len(workday_summary[0])"
   ]
  },
  {
   "cell_type": "code",
   "execution_count": null,
   "metadata": {},
   "outputs": [],
   "source": [
    "len(weekend_summary[0])"
   ]
  },
  {
   "cell_type": "code",
   "execution_count": null,
   "metadata": {},
   "outputs": [],
   "source": [
    "weekend_summary"
   ]
  },
  {
   "cell_type": "code",
   "execution_count": null,
   "metadata": {},
   "outputs": [],
   "source": []
  }
 ],
 "metadata": {
  "kernelspec": {
   "display_name": "Python 3",
   "language": "python",
   "name": "python3"
  },
  "language_info": {
   "codemirror_mode": {
    "name": "ipython",
    "version": 3
   },
   "file_extension": ".py",
   "mimetype": "text/x-python",
   "name": "python",
   "nbconvert_exporter": "python",
   "pygments_lexer": "ipython3",
   "version": "3.8.2"
  }
 },
 "nbformat": 4,
 "nbformat_minor": 4
}
