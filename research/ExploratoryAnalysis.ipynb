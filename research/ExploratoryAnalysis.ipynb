{
 "cells": [
  {
   "cell_type": "raw",
   "metadata": {},
   "source": [
    "Exploratory Analysis<br>\n",
    "Analyze according to year and store"
   ]
  },
  {
   "cell_type": "code",
   "execution_count": 2,
   "metadata": {},
   "outputs": [],
   "source": [
    "import pandas as pd\n",
    "import numpy as np\n",
    "import matplotlib.pyplot as plt"
   ]
  },
  {
   "cell_type": "code",
   "execution_count": 3,
   "metadata": {},
   "outputs": [],
   "source": [
    "df = []\n",
    "for i in range(2010,2020):\n",
    "    fname = str(i)\n",
    "    temp = pd.read_csv(\"~/work/Data/yearly_data/\"+fname+\".csv\")\n",
    "    if 'customerId' in temp:\n",
    "        temp.drop('customerId',axis=1)\n",
    "    if 'customerType' in temp:\n",
    "        temp.drop('customerType',axis=1)\n",
    "    if 'dob' in temp:\n",
    "        temp.drop('dob',axis=1)\n",
    "    if 'customerInfo' in temp:\n",
    "        temp.drop('customerInfo',axis=1)\n",
    "    \n",
    "    df.append(temp)"
   ]
  },
  {
   "cell_type": "code",
   "execution_count": 4,
   "metadata": {},
   "outputs": [
    {
     "data": {
      "text/html": [
       "<div>\n",
       "<style scoped>\n",
       "    .dataframe tbody tr th:only-of-type {\n",
       "        vertical-align: middle;\n",
       "    }\n",
       "\n",
       "    .dataframe tbody tr th {\n",
       "        vertical-align: top;\n",
       "    }\n",
       "\n",
       "    .dataframe thead th {\n",
       "        text-align: right;\n",
       "    }\n",
       "</style>\n",
       "<table border=\"1\" class=\"dataframe\">\n",
       "  <thead>\n",
       "    <tr style=\"text-align: right;\">\n",
       "      <th></th>\n",
       "      <th>id</th>\n",
       "      <th>date</th>\n",
       "      <th>saturation</th>\n",
       "      <th>storeId</th>\n",
       "      <th>customerId</th>\n",
       "      <th>customerType</th>\n",
       "      <th>dob</th>\n",
       "      <th>customerInfo</th>\n",
       "      <th>productId</th>\n",
       "      <th>color</th>\n",
       "      <th>quantity</th>\n",
       "    </tr>\n",
       "  </thead>\n",
       "  <tbody>\n",
       "    <tr>\n",
       "      <th>0</th>\n",
       "      <td>217176</td>\n",
       "      <td>2011-01-31 21:10:57</td>\n",
       "      <td>1</td>\n",
       "      <td>3930</td>\n",
       "      <td>76614</td>\n",
       "      <td>1</td>\n",
       "      <td>NaN</td>\n",
       "      <td>NaN</td>\n",
       "      <td>000002656</td>\n",
       "      <td>22</td>\n",
       "      <td>1</td>\n",
       "    </tr>\n",
       "    <tr>\n",
       "      <th>1</th>\n",
       "      <td>217176</td>\n",
       "      <td>2011-01-31 21:10:57</td>\n",
       "      <td>1</td>\n",
       "      <td>3930</td>\n",
       "      <td>76614</td>\n",
       "      <td>1</td>\n",
       "      <td>NaN</td>\n",
       "      <td>NaN</td>\n",
       "      <td>000002656</td>\n",
       "      <td>84</td>\n",
       "      <td>1</td>\n",
       "    </tr>\n",
       "    <tr>\n",
       "      <th>2</th>\n",
       "      <td>217176</td>\n",
       "      <td>2011-01-31 21:10:57</td>\n",
       "      <td>1</td>\n",
       "      <td>3930</td>\n",
       "      <td>76614</td>\n",
       "      <td>1</td>\n",
       "      <td>NaN</td>\n",
       "      <td>NaN</td>\n",
       "      <td>000085542</td>\n",
       "      <td>12</td>\n",
       "      <td>1</td>\n",
       "    </tr>\n",
       "    <tr>\n",
       "      <th>3</th>\n",
       "      <td>218987</td>\n",
       "      <td>2011-01-31 18:12:41</td>\n",
       "      <td>1</td>\n",
       "      <td>3930</td>\n",
       "      <td>76587</td>\n",
       "      <td>2</td>\n",
       "      <td>NaN</td>\n",
       "      <td>NaN</td>\n",
       "      <td>000004800</td>\n",
       "      <td>18</td>\n",
       "      <td>1</td>\n",
       "    </tr>\n",
       "    <tr>\n",
       "      <th>4</th>\n",
       "      <td>218987</td>\n",
       "      <td>2011-01-31 18:12:41</td>\n",
       "      <td>1</td>\n",
       "      <td>3930</td>\n",
       "      <td>76587</td>\n",
       "      <td>2</td>\n",
       "      <td>NaN</td>\n",
       "      <td>NaN</td>\n",
       "      <td>000010631</td>\n",
       "      <td>12</td>\n",
       "      <td>1</td>\n",
       "    </tr>\n",
       "    <tr>\n",
       "      <th>...</th>\n",
       "      <td>...</td>\n",
       "      <td>...</td>\n",
       "      <td>...</td>\n",
       "      <td>...</td>\n",
       "      <td>...</td>\n",
       "      <td>...</td>\n",
       "      <td>...</td>\n",
       "      <td>...</td>\n",
       "      <td>...</td>\n",
       "      <td>...</td>\n",
       "      <td>...</td>\n",
       "    </tr>\n",
       "    <tr>\n",
       "      <th>207922</th>\n",
       "      <td>2001741</td>\n",
       "      <td>2011-09-24 11:13:21</td>\n",
       "      <td>1</td>\n",
       "      <td>3930</td>\n",
       "      <td>99384</td>\n",
       "      <td>2</td>\n",
       "      <td>NaN</td>\n",
       "      <td>NaN</td>\n",
       "      <td>000012707</td>\n",
       "      <td>42</td>\n",
       "      <td>1</td>\n",
       "    </tr>\n",
       "    <tr>\n",
       "      <th>207923</th>\n",
       "      <td>2001741</td>\n",
       "      <td>2011-09-24 11:13:21</td>\n",
       "      <td>1</td>\n",
       "      <td>3930</td>\n",
       "      <td>99384</td>\n",
       "      <td>2</td>\n",
       "      <td>NaN</td>\n",
       "      <td>NaN</td>\n",
       "      <td>000012707</td>\n",
       "      <td>87</td>\n",
       "      <td>1</td>\n",
       "    </tr>\n",
       "    <tr>\n",
       "      <th>207924</th>\n",
       "      <td>2001747</td>\n",
       "      <td>2011-09-24 21:48:44</td>\n",
       "      <td>1</td>\n",
       "      <td>3930</td>\n",
       "      <td>99435</td>\n",
       "      <td>2</td>\n",
       "      <td>NaN</td>\n",
       "      <td>NaN</td>\n",
       "      <td>011130054</td>\n",
       "      <td>56</td>\n",
       "      <td>1</td>\n",
       "    </tr>\n",
       "    <tr>\n",
       "      <th>207925</th>\n",
       "      <td>2001747</td>\n",
       "      <td>2011-09-24 21:48:44</td>\n",
       "      <td>1</td>\n",
       "      <td>3930</td>\n",
       "      <td>99435</td>\n",
       "      <td>2</td>\n",
       "      <td>NaN</td>\n",
       "      <td>NaN</td>\n",
       "      <td>011140030</td>\n",
       "      <td>24</td>\n",
       "      <td>1</td>\n",
       "    </tr>\n",
       "    <tr>\n",
       "      <th>207926</th>\n",
       "      <td>2001749</td>\n",
       "      <td>2011-09-21 15:07:36</td>\n",
       "      <td>1</td>\n",
       "      <td>3930</td>\n",
       "      <td>99160</td>\n",
       "      <td>2</td>\n",
       "      <td>NaN</td>\n",
       "      <td>NaN</td>\n",
       "      <td>000001049</td>\n",
       "      <td>10</td>\n",
       "      <td>1</td>\n",
       "    </tr>\n",
       "  </tbody>\n",
       "</table>\n",
       "<p>207927 rows × 11 columns</p>\n",
       "</div>"
      ],
      "text/plain": [
       "             id                 date  saturation  storeId  customerId  \\\n",
       "0        217176  2011-01-31 21:10:57           1     3930       76614   \n",
       "1        217176  2011-01-31 21:10:57           1     3930       76614   \n",
       "2        217176  2011-01-31 21:10:57           1     3930       76614   \n",
       "3        218987  2011-01-31 18:12:41           1     3930       76587   \n",
       "4        218987  2011-01-31 18:12:41           1     3930       76587   \n",
       "...         ...                  ...         ...      ...         ...   \n",
       "207922  2001741  2011-09-24 11:13:21           1     3930       99384   \n",
       "207923  2001741  2011-09-24 11:13:21           1     3930       99384   \n",
       "207924  2001747  2011-09-24 21:48:44           1     3930       99435   \n",
       "207925  2001747  2011-09-24 21:48:44           1     3930       99435   \n",
       "207926  2001749  2011-09-21 15:07:36           1     3930       99160   \n",
       "\n",
       "        customerType  dob  customerInfo  productId  color  quantity  \n",
       "0                  1  NaN           NaN  000002656     22         1  \n",
       "1                  1  NaN           NaN  000002656     84         1  \n",
       "2                  1  NaN           NaN  000085542     12         1  \n",
       "3                  2  NaN           NaN  000004800     18         1  \n",
       "4                  2  NaN           NaN  000010631     12         1  \n",
       "...              ...  ...           ...        ...    ...       ...  \n",
       "207922             2  NaN           NaN  000012707     42         1  \n",
       "207923             2  NaN           NaN  000012707     87         1  \n",
       "207924             2  NaN           NaN  011130054     56         1  \n",
       "207925             2  NaN           NaN  011140030     24         1  \n",
       "207926             2  NaN           NaN  000001049     10         1  \n",
       "\n",
       "[207927 rows x 11 columns]"
      ]
     },
     "execution_count": 4,
     "metadata": {},
     "output_type": "execute_result"
    }
   ],
   "source": [
    "df[1]"
   ]
  },
  {
   "cell_type": "markdown",
   "metadata": {},
   "source": [
    "<h2>Total demand by Year</h2>"
   ]
  },
  {
   "cell_type": "code",
   "execution_count": 5,
   "metadata": {},
   "outputs": [
    {
     "name": "stdout",
     "output_type": "stream",
     "text": [
      "[145312, 253645, 255914, 297081, 353782, 424474, 1112730, 1115834, 1117196, 1112403]\n"
     ]
    }
   ],
   "source": [
    "#Total demand by Year\n",
    "total_demand = []\n",
    "for i in df:\n",
    "    #print(i)\n",
    "    total_demand.append(i['quantity'].sum())\n",
    "print(total_demand)"
   ]
  },
  {
   "cell_type": "code",
   "execution_count": 6,
   "metadata": {},
   "outputs": [
    {
     "data": {
      "image/png": "[encoded data removed]",
      "text/plain": [
       "<Figure size 432x288 with 1 Axes>"
      ]
     },
     "metadata": {
      "needs_background": "light"
     },
     "output_type": "display_data"
    }
   ],
   "source": [
    "fig = plt.figure()\n",
    "ax = fig.add_axes([1000,500,1,1])\n",
    "years = []\n",
    "for i in range(2010,2020):\n",
    "    years.append(i)\n",
    "\n",
    "ax.bar(years,total_demand)\n",
    "plt.show()"
   ]
  },
  {
   "cell_type": "markdown",
   "metadata": {},
   "source": [
    "<h2>Total Stores by Year</h2>"
   ]
  },
  {
   "cell_type": "code",
   "execution_count": 7,
   "metadata": {},
   "outputs": [
    {
     "name": "stdout",
     "output_type": "stream",
     "text": [
      "[1, 2, 2, 2, 7, 125, 277, 273, 263, 256]\n"
     ]
    }
   ],
   "source": [
    "#Total demand by Year\n",
    "num_store = []\n",
    "for i in df:\n",
    "    #print(i)\n",
    "    num_store.append(len(i['storeId'].unique()))\n",
    "print(num_store)"
   ]
  },
  {
   "cell_type": "code",
   "execution_count": 8,
   "metadata": {},
   "outputs": [
    {
     "data": {
      "image/png": "[encoded data removed]",
      "text/plain": [
       "<Figure size 432x288 with 1 Axes>"
      ]
     },
     "metadata": {
      "needs_background": "light"
     },
     "output_type": "display_data"
    }
   ],
   "source": [
    "fig = plt.figure()\n",
    "ax = fig.add_axes([1000,500,1,1])\n",
    "\n",
    "ax.bar(years,num_store)\n",
    "plt.show()"
   ]
  },
  {
   "cell_type": "markdown",
   "metadata": {},
   "source": [
    "<h2>Demand per Store by Year<h2>"
   ]
  },
  {
   "cell_type": "code",
   "execution_count": 9,
   "metadata": {},
   "outputs": [
    {
     "data": {
      "image/png": "[encoded data removed]",
      "text/plain": [
       "<Figure size 432x288 with 1 Axes>"
      ]
     },
     "metadata": {
      "needs_background": "light"
     },
     "output_type": "display_data"
    }
   ],
   "source": [
    "fig = plt.figure()\n",
    "ax = fig.add_axes([1000,500,1,1])\n",
    "\n",
    "demand_per_store = []\n",
    "for i in range(len(df)):\n",
    "    \n",
    "    temp = total_demand[i]/num_store[i]\n",
    "    demand_per_store.append(temp)\n",
    "    \n",
    "ax.bar(years,demand_per_store)\n",
    "plt.show()\n",
    "\n"
   ]
  },
  {
   "cell_type": "markdown",
   "metadata": {},
   "source": [
    "<h2>Demand per Stores by Month of Year</h2>"
   ]
  },
  {
   "cell_type": "code",
   "execution_count": 30,
   "metadata": {},
   "outputs": [],
   "source": [
    "#add month column\n",
    "for i in df:\n",
    "    i['date'] = pd.to_datetime(i['date'])\n",
    "   \n",
    "    i['month'] = pd.DatetimeIndex(i['date']).month"
   ]
  },
  {
   "cell_type": "code",
   "execution_count": 34,
   "metadata": {},
   "outputs": [],
   "source": [
    "#calculate monthly demand for each year\n",
    "month_summary = []\n",
    "for i in df:\n",
    "    #print(i['year'])\n",
    "    temp = i.groupby(\"month\")\n",
    "    t1 = temp['quantity'].sum()\n",
    "    \n",
    "    month_summary.append(t1)\n",
    "  "
   ]
  },
  {
   "cell_type": "code",
   "execution_count": null,
   "metadata": {},
   "outputs": [],
   "source": []
  },
  {
   "cell_type": "code",
   "execution_count": null,
   "metadata": {},
   "outputs": [],
   "source": []
  },
  {
   "cell_type": "code",
   "execution_count": 59,
   "metadata": {},
   "outputs": [],
   "source": [
    "#calculate monthly average demand for 10 years\n",
    "total_demand_by_month = [0,0,0,0,0,0,0,0,0,0,0,0]\n",
    "for i in range(len(df)):\n",
    "    for j in month_summary[i].index:\n",
    "        total_demand_by_month[j-1] += month_summary[i][j]\n",
    "\n",
    "for i in range(len(total_demand_by_month)):\n",
    "    total_demand_by_month[i] = total_demand_by_month[i]/len(years)"
   ]
  },
  {
   "cell_type": "code",
   "execution_count": 64,
   "metadata": {},
   "outputs": [
    {
     "data": {
      "image/png": "[encoded data removed]",
      "text/plain": [
       "<Figure size 432x288 with 1 Axes>"
      ]
     },
     "metadata": {
      "needs_background": "light"
     },
     "output_type": "display_data"
    }
   ],
   "source": [
    "fig = plt.figure()\n",
    "ax = fig.add_axes([1000,500,1,1])\n",
    "\n",
    "demand_per_store = []\n",
    "for i in range(len(df)):\n",
    "    \n",
    "    temp = total_demand_by_month[i]/num_store[i]\n",
    "    demand_per_store.append(temp)\n",
    "    \n",
    "ax.bar(month_summary[0].index,total_demand_by_month)\n",
    "plt.show()\n"
   ]
  },
  {
   "cell_type": "code",
   "execution_count": null,
   "metadata": {},
   "outputs": [],
   "source": []
  }
 ],
 "metadata": {
  "kernelspec": {
   "display_name": "Python 3",
   "language": "python",
   "name": "python3"
  },
  "language_info": {
   "codemirror_mode": {
    "name": "ipython",
    "version": 3
   },
   "file_extension": ".py",
   "mimetype": "text/x-python",
   "name": "python",
   "nbconvert_exporter": "python",
   "pygments_lexer": "ipython3",
   "version": "3.8.2"
  }
 },
 "nbformat": 4,
 "nbformat_minor": 4
}
